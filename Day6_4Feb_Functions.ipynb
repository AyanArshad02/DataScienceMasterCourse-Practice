{
 "cells": [
  {
   "cell_type": "code",
   "execution_count": 1,
   "id": "c68934fe-3bd2-4213-8e01-c9b725506b04",
   "metadata": {},
   "outputs": [
    {
     "data": {
      "text/plain": [
       "'GENERATOR FUNCTIONS'"
      ]
     },
     "execution_count": 1,
     "metadata": {},
     "output_type": "execute_result"
    }
   ],
   "source": [
    "\"\"\"GENERATOR FUNCTIONS\"\"\""
   ]
  },
  {
   "cell_type": "code",
   "execution_count": 2,
   "id": "e74c1e52-36de-4c55-8520-a1e97abbbb67",
   "metadata": {},
   "outputs": [
    {
     "data": {
      "text/plain": [
       "range(0, 10)"
      ]
     },
     "execution_count": 2,
     "metadata": {},
     "output_type": "execute_result"
    }
   ],
   "source": [
    "range(10)\n",
    "\"\"\"\n",
    "generator function is made by using yield keyword\n",
    "\"\"\""
   ]
  },
  {
   "cell_type": "code",
   "execution_count": 1,
   "id": "a0261ad2-c29d-4252-9baa-214c5be62b20",
   "metadata": {},
   "outputs": [
    {
     "name": "stdout",
     "output_type": "stream",
     "text": [
      "0\n",
      "1\n",
      "1\n",
      "2\n",
      "3\n",
      "5\n",
      "8\n",
      "13\n",
      "21\n",
      "34\n"
     ]
    }
   ],
   "source": [
    "def test_fib(n):\n",
    "    a,b = 0,1\n",
    "    for i in range(n):\n",
    "        yield a\n",
    "        a,b = b,a+b\n",
    "for i in test_fib(10):\n",
    "    print(i)"
   ]
  },
  {
   "cell_type": "code",
   "execution_count": 3,
   "id": "9a406316-cae1-4bd3-a652-f67298f04a99",
   "metadata": {},
   "outputs": [
    {
     "name": "stdout",
     "output_type": "stream",
     "text": [
      "0\n",
      "1\n",
      "1\n",
      "2\n",
      "3\n",
      "5\n",
      "8\n",
      "13\n",
      "21\n",
      "34\n"
     ]
    }
   ],
   "source": [
    "def test_fib1():\n",
    "    a,b = 0,1\n",
    "    while True:\n",
    "        yield a\n",
    "        a,b = b,a+b\n",
    "fib = test_fib1()\n",
    "for i in range(10):\n",
    "    print(next(fib))"
   ]
  },
  {
   "cell_type": "code",
   "execution_count": 4,
   "id": "1629ae47-c8e9-4386-a063-e14046681ab4",
   "metadata": {},
   "outputs": [
    {
     "ename": "TypeError",
     "evalue": "'str' object is not an iterator",
     "output_type": "error",
     "traceback": [
      "\u001b[0;31m---------------------------------------------------------------------------\u001b[0m",
      "\u001b[0;31mTypeError\u001b[0m                                 Traceback (most recent call last)",
      "Cell \u001b[0;32mIn[4], line 2\u001b[0m\n\u001b[1;32m      1\u001b[0m s \u001b[38;5;241m=\u001b[39m \u001b[38;5;124m\"\u001b[39m\u001b[38;5;124mayan\u001b[39m\u001b[38;5;124m\"\u001b[39m\n\u001b[0;32m----> 2\u001b[0m \u001b[38;5;28;43mnext\u001b[39;49m\u001b[43m(\u001b[49m\u001b[43ms\u001b[49m\u001b[43m)\u001b[49m\n",
      "\u001b[0;31mTypeError\u001b[0m: 'str' object is not an iterator"
     ]
    }
   ],
   "source": [
    "s = \"ayan\"\n",
    "next(s) # throws an error because string is not an iterator but string is iterable"
   ]
  },
  {
   "cell_type": "code",
   "execution_count": 6,
   "id": "b9d896b7-f6b4-4faf-b8ec-e01d28a24dad",
   "metadata": {},
   "outputs": [
    {
     "name": "stdout",
     "output_type": "stream",
     "text": [
      "<class 'str_iterator'>\n",
      "a\n",
      "y\n",
      "a\n",
      "n\n"
     ]
    }
   ],
   "source": [
    "s = \"ayan\"\n",
    "a = iter(s) # iter() makes string iterator\n",
    "print(type(a))\n",
    "print(next(a))\n",
    "print(next(a))\n",
    "print(next(a))\n",
    "print(next(a))"
   ]
  },
  {
   "cell_type": "code",
   "execution_count": 7,
   "id": "fd05f04f-30c1-4c40-9bf6-ed16e1dc5d27",
   "metadata": {},
   "outputs": [
    {
     "data": {
      "text/plain": [
       "'\\nfor loop uses iter() and next() functions to iterate over a string\\n'"
      ]
     },
     "execution_count": 7,
     "metadata": {},
     "output_type": "execute_result"
    }
   ],
   "source": [
    "# For loop mechanism\n",
    "\"\"\"\n",
    "for loop uses iter() and next() functions to iterate over a string\n",
    "\"\"\""
   ]
  },
  {
   "cell_type": "code",
   "execution_count": 8,
   "id": "7192e044-d330-488d-9b22-5b4991e9035a",
   "metadata": {},
   "outputs": [
    {
     "data": {
      "text/plain": [
       "'\\n--iterator are those object in which we can go next and next and extract data\\n--iterable are those data which can be converted into iterator\\n'"
      ]
     },
     "execution_count": 8,
     "metadata": {},
     "output_type": "execute_result"
    }
   ],
   "source": [
    "\"\"\"\n",
    "'int' object is not iterable\n",
    "and we can only convert those items into iterator which is iterable\n",
    "therefor we cannot convert 'int' into iterator\n",
    "\"\"\"\n",
    "\n",
    "\"\"\"\n",
    "--iterator are those object in which we can go next and next and extract data\n",
    "--iterable are those data which can be converted into iterator\n",
    "\"\"\""
   ]
  },
  {
   "cell_type": "code",
   "execution_count": 18,
   "id": "ee55f90a-5c5a-4380-a9ee-2b0e23e339e8",
   "metadata": {},
   "outputs": [
    {
     "name": "stdout",
     "output_type": "stream",
     "text": [
      "1\n",
      "2\n",
      "3\n",
      "4\n",
      "5\n",
      "6\n",
      "7\n",
      "8\n",
      "9\n"
     ]
    }
   ],
   "source": [
    "def count_test(n):\n",
    "    count = 1\n",
    "    while count < n:\n",
    "        yield count\n",
    "        count = count + 1\n",
    "a = count_test(10)        \n",
    "for i in a:\n",
    "    print(i)"
   ]
  },
  {
   "cell_type": "code",
   "execution_count": 19,
   "id": "23bd3e67-aef0-4935-8212-87c4e626a251",
   "metadata": {},
   "outputs": [
    {
     "data": {
      "text/plain": [
       "'\\nLAMBDA FUNCTIONS\\n'"
      ]
     },
     "execution_count": 19,
     "metadata": {},
     "output_type": "execute_result"
    }
   ],
   "source": [
    "\"\"\"\n",
    "LAMBDA FUNCTIONS- It is a reserved keyword in python\n",
    "\"\"\""
   ]
  },
  {
   "cell_type": "code",
   "execution_count": 20,
   "id": "9e5160ef-edff-4ef7-828c-d1986ebecf8d",
   "metadata": {},
   "outputs": [
    {
     "data": {
      "text/plain": [
       "9"
      ]
     },
     "execution_count": 20,
     "metadata": {},
     "output_type": "execute_result"
    }
   ],
   "source": [
    "def test(a,b):\n",
    "    return a**b\n",
    "test(3,2)"
   ]
  },
  {
   "cell_type": "code",
   "execution_count": 23,
   "id": "e9b917d4-68dc-49be-acb5-bec824bce976",
   "metadata": {},
   "outputs": [],
   "source": [
    "# now writting above function using lambda function\n",
    "variable = lambda a,b : a**b  # we use variable to store lambda function and whenever we want to call lambda function we just use variable name to call it\n",
    "\n",
    "# this type of function is called one-liner function or lambda function or anonymous function "
   ]
  },
  {
   "cell_type": "code",
   "execution_count": 24,
   "id": "1e820e6a-8e3e-4403-a5b0-da122cb388b3",
   "metadata": {},
   "outputs": [
    {
     "data": {
      "text/plain": [
       "9"
      ]
     },
     "execution_count": 24,
     "metadata": {},
     "output_type": "execute_result"
    }
   ],
   "source": [
    "variable(3,2)"
   ]
  },
  {
   "cell_type": "code",
   "execution_count": 25,
   "id": "4bba3381-3344-4f0d-a167-07f6a2bc06ac",
   "metadata": {},
   "outputs": [
    {
     "data": {
      "text/plain": [
       "3"
      ]
     },
     "execution_count": 25,
     "metadata": {},
     "output_type": "execute_result"
    }
   ],
   "source": [
    "# lambda function for addition\n",
    "add = lambda x,y : x+y\n",
    "add(1,2)"
   ]
  },
  {
   "cell_type": "code",
   "execution_count": 29,
   "id": "9a9fa221-8fa8-4cf4-bf74-2f6e8bd8cb51",
   "metadata": {},
   "outputs": [
    {
     "name": "stdin",
     "output_type": "stream",
     "text": [
      "Enter value in celsius to convert it into farheniet: 88\n"
     ]
    },
    {
     "name": "stdout",
     "output_type": "stream",
     "text": [
      "In farheniet it is: 190.4\n"
     ]
    }
   ],
   "source": [
    "c = int(input(\"Enter value in celsius to convert it into farheniet:\"))\n",
    "celsius_to_farheniet = lambda celsius : print(\"In farheniet it is:\",(9/5)*celsius + 32)\n",
    "celsius_to_farheniet(c)"
   ]
  },
  {
   "cell_type": "code",
   "execution_count": 36,
   "id": "0c3b39c1-4653-4902-93a8-eddeabfb3c01",
   "metadata": {},
   "outputs": [
    {
     "name": "stdin",
     "output_type": "stream",
     "text": [
      "Enter first number: 44\n",
      "Enter second number: 3\n"
     ]
    },
    {
     "name": "stdout",
     "output_type": "stream",
     "text": [
      "Maximum is: 44\n"
     ]
    }
   ],
   "source": [
    "n1,n2 = int(input(\"Enter first number:\")), int(input(\"Enter second number:\"))\n",
    "\n",
    "maximum = lambda a,b : print(\"Maximum is:\",a) if a>b else print(\"Maximum is:\",b) \n",
    "maximum(n1,n2)"
   ]
  },
  {
   "cell_type": "code",
   "execution_count": 39,
   "id": "3ee237c6-f8d0-4bcd-9e67-a1bb8b8bb4ef",
   "metadata": {},
   "outputs": [
    {
     "name": "stdin",
     "output_type": "stream",
     "text": [
      "Enter your string: ayankhan\n"
     ]
    },
    {
     "name": "stdout",
     "output_type": "stream",
     "text": [
      "Length of your string is: 8\n"
     ]
    }
   ],
   "source": [
    "# length of string using lambda function\n",
    "string = input(\"Enter your string:\")\n",
    "length_string = lambda s: print(\"Length of your string is:\",len(s))\n",
    "length_string(string)"
   ]
  },
  {
   "cell_type": "code",
   "execution_count": 1,
   "id": "4ce0ed77-6a29-4383-bf76-25d50e95ef63",
   "metadata": {},
   "outputs": [
    {
     "data": {
      "text/plain": [
       "'\\nMap, Reduce and Filter Function\\n'"
      ]
     },
     "execution_count": 1,
     "metadata": {},
     "output_type": "execute_result"
    }
   ],
   "source": [
    "\"\"\"\n",
    "Map, Reduce and Filter Function\n",
    "\"\"\""
   ]
  },
  {
   "cell_type": "code",
   "execution_count": 5,
   "id": "2f6e485e-fc74-4d95-a920-c813d3a773ef",
   "metadata": {},
   "outputs": [
    {
     "name": "stdout",
     "output_type": "stream",
     "text": [
      "[4, 9, 16, 25, 36]\n"
     ]
    }
   ],
   "source": [
    "# creating function to square each element of list\n",
    "l, l1 = [2,3,4,5,6], []\n",
    "def test(l):\n",
    "    for i in l:\n",
    "        l1.append(i**2)\n",
    "    return(l1)    \n",
    "print(test(l))"
   ]
  },
  {
   "cell_type": "code",
   "execution_count": 7,
   "id": "53d529a3-505a-44c5-91c4-a2ead6581b40",
   "metadata": {},
   "outputs": [
    {
     "data": {
      "text/plain": [
       "[4, 9, 16, 25, 36]"
      ]
     },
     "execution_count": 7,
     "metadata": {},
     "output_type": "execute_result"
    }
   ],
   "source": [
    "# map() function takes 2 arguments i.e. (function, *iterables)\n",
    "\n",
    "# now using map() function for above question\n",
    "l = [2,3,4,5,6]\n",
    "def sq(a):\n",
    "    return a**2\n",
    "map(sq, l) #this will give an object if map therefore we will wrap this object into list\n",
    "list(map(sq, l))"
   ]
  },
  {
   "cell_type": "code",
   "execution_count": 8,
   "id": "d7e7248d-4184-419b-be39-58d7b6ccb75a",
   "metadata": {},
   "outputs": [
    {
     "data": {
      "text/plain": [
       "[4, 9, 16, 25, 36]"
      ]
     },
     "execution_count": 8,
     "metadata": {},
     "output_type": "execute_result"
    }
   ],
   "source": [
    "# now using map() along with lambda()\n",
    "l = [2,3,4,5,6]\n",
    "list(map(lambda a: a**2, l))"
   ]
  },
  {
   "cell_type": "code",
   "execution_count": 15,
   "id": "102a374b-192f-4baa-a17a-0ac4651529e4",
   "metadata": {},
   "outputs": [
    {
     "name": "stdout",
     "output_type": "stream",
     "text": [
      "[7, 9, 11, 13, 15]\n"
     ]
    }
   ],
   "source": [
    "# adding element of one list to another list of same index\n",
    "l1 = [1,2,3,4,5]\n",
    "l2 = [6,7,8,9,10]\n",
    "l3 = []\n",
    "def add_element(a,b):\n",
    "    for i in range(0,len(l1)):\n",
    "        l3.append( a[i] + b[i])\n",
    "    return l3\n",
    "add_element(l1,l2)   \n",
    "print(l3)"
   ]
  },
  {
   "cell_type": "code",
   "execution_count": 16,
   "id": "98c5bfb2-0a17-4f18-886d-b37c6ddc4ed8",
   "metadata": {},
   "outputs": [
    {
     "data": {
      "text/plain": [
       "[7, 9, 11, 13, 15]"
      ]
     },
     "execution_count": 16,
     "metadata": {},
     "output_type": "execute_result"
    }
   ],
   "source": [
    "# now using map() and lambda() function to solve above question\n",
    "l1 = [1,2,3,4,5]\n",
    "l2 = [6,7,8,9,10]\n",
    "list(map(lambda x,y: x + y, l1 , l2 ))"
   ]
  },
  {
   "cell_type": "code",
   "execution_count": 4,
   "id": "a11380bf-2181-4ab2-ae4b-4ea1f4af5a48",
   "metadata": {},
   "outputs": [
    {
     "data": {
      "text/plain": [
       "[7, 9, 11, 13, 15]"
      ]
     },
     "execution_count": 4,
     "metadata": {},
     "output_type": "execute_result"
    }
   ],
   "source": [
    "# now using map() and external function for above question\n",
    "l1 = [1,2,3,4,5]\n",
    "l2 = [6,7,8,9,10]\n",
    "def add(x,y):\n",
    "    return x+y\n",
    "list(map(add,l1,l2))"
   ]
  },
  {
   "cell_type": "code",
   "execution_count": 8,
   "id": "f19b8d15-b839-4a09-ae2e-f98f14d8569e",
   "metadata": {},
   "outputs": [
    {
     "data": {
      "text/plain": [
       "['P', 'W', 'S', 'K', 'I', 'L', 'L', 'S']"
      ]
     },
     "execution_count": 8,
     "metadata": {},
     "output_type": "execute_result"
    }
   ],
   "source": [
    "# converting string to upper case using map() function and storing it in list\n",
    "s = \"pwskills\"\n",
    "list(map(lambda a: a.upper(),s))"
   ]
  },
  {
   "cell_type": "code",
   "execution_count": 9,
   "id": "8f7f9bd0-7351-4fc4-8079-d54a51c73f12",
   "metadata": {},
   "outputs": [
    {
     "data": {
      "text/plain": [
       "'\\nREDUCE FUNCTION()\\n'"
      ]
     },
     "execution_count": 9,
     "metadata": {},
     "output_type": "execute_result"
    }
   ],
   "source": [
    "\"\"\"\n",
    "REDUCE FUNCTION() - used when we want single cumulative value\n",
    "\"\"\""
   ]
  },
  {
   "cell_type": "code",
   "execution_count": 11,
   "id": "6d416408-5f6f-4777-a305-e7a28165e217",
   "metadata": {},
   "outputs": [],
   "source": [
    "from functools import reduce # this is how we import reduce function"
   ]
  },
  {
   "cell_type": "code",
   "execution_count": 12,
   "id": "ae908648-d723-482b-9a1d-b81af8db6d41",
   "metadata": {},
   "outputs": [],
   "source": [
    "# reduce() takes two argumnets, same as map() function\n",
    "# reudce() takes atmost 2 arguments"
   ]
  },
  {
   "cell_type": "code",
   "execution_count": 15,
   "id": "4b11c130-c287-4bcf-bcea-cd0d89532452",
   "metadata": {},
   "outputs": [
    {
     "data": {
      "text/plain": [
       "15"
      ]
     },
     "execution_count": 15,
     "metadata": {},
     "output_type": "execute_result"
    }
   ],
   "source": [
    "# adding elements of list using reduce() function\n",
    "l = [1,2,3,4,5]\n",
    "reduce(lambda x,y: x + y  , l )"
   ]
  },
  {
   "cell_type": "code",
   "execution_count": 19,
   "id": "1af912fb-f2b4-4741-919d-89a2c4518d27",
   "metadata": {},
   "outputs": [
    {
     "data": {
      "text/plain": [
       "5"
      ]
     },
     "execution_count": 19,
     "metadata": {},
     "output_type": "execute_result"
    }
   ],
   "source": [
    "# finding maximum number from list using reduce function\n",
    "l = [1,2,3,4,5]\n",
    "reduce(lambda m,n: m if m>n else n, l)"
   ]
  },
  {
   "cell_type": "code",
   "execution_count": 20,
   "id": "bb1df85c-f768-4d5b-813b-9b65a018b1dd",
   "metadata": {},
   "outputs": [
    {
     "data": {
      "text/plain": [
       "'\\nFILTER FUNCTION\\n'"
      ]
     },
     "execution_count": 20,
     "metadata": {},
     "output_type": "execute_result"
    }
   ],
   "source": [
    "\"\"\"\n",
    "FILTER FUNCTION - allows us to process an iterable and extract those items that satisfies given conditions\n",
    "\"\"\"\n",
    "filter() # takes similar arguments as map() and reduce()"
   ]
  },
  {
   "cell_type": "code",
   "execution_count": 27,
   "id": "cac34da8-f110-4a95-8719-f5d8ea24e1fe",
   "metadata": {},
   "outputs": [
    {
     "data": {
      "text/plain": [
       "[2, 4, 6, 8, 10]"
      ]
     },
     "execution_count": 27,
     "metadata": {},
     "output_type": "execute_result"
    }
   ],
   "source": [
    "# finding even number from list and storing it in another list\n",
    "l = [1,2,3,4,5,6,7,8,9,10]\n",
    "list(filter(lambda a: a%2 == 0 , l))"
   ]
  },
  {
   "cell_type": "code",
   "execution_count": 31,
   "id": "4c1d1510-e2b6-42da-9948-6895bcda03ff",
   "metadata": {},
   "outputs": [
    {
     "data": {
      "text/plain": [
       "['Ayan', 'Arsalan', 'Arshad', 'Khan']"
      ]
     },
     "execution_count": 31,
     "metadata": {},
     "output_type": "execute_result"
    }
   ],
   "source": [
    "# finding string whose length is less than equal to 7\n",
    "l = [\"Ayan\",\"Arsalan\",\"Arshad\",\"Khan\",\"Rourkela\",\"Television\"]\n",
    "list(filter(lambda s: len(s)<=7 , l))"
   ]
  },
  {
   "cell_type": "code",
   "execution_count": null,
   "id": "1a83a851-0bc1-4b5c-8b09-d69962f14275",
   "metadata": {},
   "outputs": [],
   "source": []
  }
 ],
 "metadata": {
  "kernelspec": {
   "display_name": "Python 3 (ipykernel)",
   "language": "python",
   "name": "python3"
  },
  "language_info": {
   "codemirror_mode": {
    "name": "ipython",
    "version": 3
   },
   "file_extension": ".py",
   "mimetype": "text/x-python",
   "name": "python",
   "nbconvert_exporter": "python",
   "pygments_lexer": "ipython3",
   "version": "3.10.8"
  }
 },
 "nbformat": 4,
 "nbformat_minor": 5
}
