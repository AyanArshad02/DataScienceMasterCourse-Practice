{
 "cells": [
  {
   "cell_type": "code",
   "execution_count": 3,
   "id": "fcbf1117-f9be-49e0-95c5-3ed0fd3a611b",
   "metadata": {},
   "outputs": [
    {
     "name": "stdout",
     "output_type": "stream",
     "text": [
      "The current value of 'i' is 0\n",
      "The current value of 'i' is 1\n",
      "The current value of 'i' is 2\n",
      "The current value of 'i' is 3\n",
      "The current value of 'i' is 4\n",
      "The current value of 'i' is 5\n",
      "The current value of 'i' is 6\n",
      "The current value of 'i' is 7\n",
      "The current value of 'i' is 8\n",
      "The current value of 'i' is 9\n"
     ]
    }
   ],
   "source": [
    "i = 0\n",
    "while i < 10:\n",
    "    print(f\"The current value of 'i' is {i}\")\n",
    "    i = i + 1\n",
    "    "
   ]
  },
  {
   "cell_type": "code",
   "execution_count": 9,
   "id": "a2e35490-68ee-4b25-8173-7eae3e9ff12f",
   "metadata": {},
   "outputs": [
    {
     "name": "stdin",
     "output_type": "stream",
     "text": [
      "Enter your number: 5\n"
     ]
    },
    {
     "name": "stdout",
     "output_type": "stream",
     "text": [
      "Factorial of number '5' is: 120\n"
     ]
    }
   ],
   "source": [
    "# finding factorial using while loop\n",
    "num = int(input(\"Enter your number:\"))\n",
    "a = num\n",
    "fact = 1\n",
    "while num > 1:\n",
    "    fact = fact * num\n",
    "    num = num - 1\n",
    "print(f\"Factorial of number '{a}' is:\", fact)"
   ]
  },
  {
   "cell_type": "code",
   "execution_count": 9,
   "id": "d81768ff-c7ab-44dc-a3ad-dbb4f0ef8057",
   "metadata": {},
   "outputs": [
    {
     "name": "stdin",
     "output_type": "stream",
     "text": [
      "Enter the number of element you are looking for: 5\n"
     ]
    },
    {
     "name": "stdout",
     "output_type": "stream",
     "text": [
      "0\n",
      "1\n",
      "1\n",
      "2\n",
      "3\n"
     ]
    }
   ],
   "source": [
    "# Fibbonaci series- 0 1 1 2 3 5 8\n",
    "num = int(input(\"Enter the number of element you are looking for:\"))\n",
    "count = 0\n",
    "a,b = 0,1\n",
    "while (count<num):\n",
    "    print(a)\n",
    "    c = a + b\n",
    "    a = b\n",
    "    b = c\n",
    "    count = count + 1"
   ]
  },
  {
   "cell_type": "code",
   "execution_count": 3,
   "id": "485cd3d3-71bd-49b3-8a9d-1578b0d08d79",
   "metadata": {},
   "outputs": [
    {
     "name": "stdout",
     "output_type": "stream",
     "text": [
      "0\n",
      "1\n",
      "1\n",
      "2\n",
      "3\n",
      "5\n",
      "8\n",
      "13\n",
      "21\n",
      "34\n"
     ]
    }
   ],
   "source": [
    "#Fibonacci series in for loop\n",
    "a, b = 0,1\n",
    "for i in range(10):\n",
    "    print(a)\n",
    "    c = a + b\n",
    "    a = b\n",
    "    b = c"
   ]
  },
  {
   "cell_type": "code",
   "execution_count": 4,
   "id": "bf66156d-815f-4f7b-97f1-2396341fd722",
   "metadata": {},
   "outputs": [
    {
     "data": {
      "text/plain": [
       "'naya'"
      ]
     },
     "execution_count": 4,
     "metadata": {},
     "output_type": "execute_result"
    }
   ],
   "source": [
    "#reversing a given string using string slicing method\n",
    "s = \"ayan\"\n",
    "s[::-1]"
   ]
  },
  {
   "cell_type": "code",
   "execution_count": 3,
   "id": "805ade7f-0f04-4f6d-97cc-ebd5738034bb",
   "metadata": {},
   "outputs": [
    {
     "name": "stdin",
     "output_type": "stream",
     "text": [
      "Enter your string for reversal: ayan\n"
     ]
    }
   ],
   "source": [
    "# reversing a string using while loop\n",
    "word = input(\"Enter your string for reversal:\")"
   ]
  },
  {
   "cell_type": "code",
   "execution_count": 4,
   "id": "b821e204-6d3d-4a79-b2ce-1b89607a0c19",
   "metadata": {},
   "outputs": [
    {
     "name": "stdout",
     "output_type": "stream",
     "text": [
      "naya\n"
     ]
    }
   ],
   "source": [
    "word = input(\"Enter your string for reversal:\")\n",
    "reverse = \"\"\n",
    "length = len(word)\n",
    "while length>0:\n",
    "    reverse = reverse + (word[length-1])\n",
    "    length = length - 1\n",
    "print(reverse)    "
   ]
  },
  {
   "cell_type": "code",
   "execution_count": 6,
   "id": "78bd7e5c-1775-4f5d-8416-6ca5b5433a3b",
   "metadata": {},
   "outputs": [
    {
     "name": "stdin",
     "output_type": "stream",
     "text": [
      "Enter number whose table you want: 2\n"
     ]
    },
    {
     "name": "stdout",
     "output_type": "stream",
     "text": [
      "2 * 1 =  2\n",
      "2 * 2 =  4\n",
      "2 * 3 =  6\n",
      "2 * 4 =  8\n",
      "2 * 5 =  10\n",
      "2 * 6 =  12\n",
      "2 * 7 =  14\n",
      "2 * 8 =  16\n",
      "2 * 9 =  18\n",
      "2 * 10 =  20\n"
     ]
    }
   ],
   "source": [
    "# print table of numbers\n",
    "num = int(input(\"Enter number whose table you want:\"))\n",
    "i = 1\n",
    "while i < 11:\n",
    "    print(f\"{num} * {i} = \",num*i)\n",
    "    i = i + 1"
   ]
  },
  {
   "cell_type": "code",
   "execution_count": 7,
   "id": "a6201f17-7ed1-4bf4-81f5-b2b6021448ae",
   "metadata": {},
   "outputs": [
    {
     "name": "stdout",
     "output_type": "stream",
     "text": [
      "1\n",
      "2\n",
      "3\n",
      "4\n",
      "This will be executed once your while loop is completed successfully\n"
     ]
    }
   ],
   "source": [
    "# while with else loop\n",
    "n = 5\n",
    "i = 1\n",
    "while i < n:\n",
    "    print(i)\n",
    "    i = i + 1\n",
    "else:\n",
    "    print(\"This will be executed once your while loop is completed successfully\")"
   ]
  },
  {
   "cell_type": "code",
   "execution_count": 9,
   "id": "8078628c-f2d3-489b-ae80-2de6cf90af16",
   "metadata": {},
   "outputs": [
    {
     "name": "stdout",
     "output_type": "stream",
     "text": [
      "1\n",
      "2\n",
      "3\n"
     ]
    }
   ],
   "source": [
    "# while with else loop\n",
    "n = 5\n",
    "i = 1\n",
    "while i < n:\n",
    "    print(i)\n",
    "    if i == 3:\n",
    "        break\n",
    "    i = i + 1\n",
    "else:\n",
    "    print(\"This will not execute if while loops breaks in between\")"
   ]
  },
  {
   "cell_type": "code",
   "execution_count": 10,
   "id": "121e1596-d2e3-4d08-949c-476f1aa43b1e",
   "metadata": {},
   "outputs": [],
   "source": [
    "# Comprehension operation"
   ]
  },
  {
   "cell_type": "code",
   "execution_count": 11,
   "id": "6bebc5fa-7689-4caa-a567-bc906450088a",
   "metadata": {},
   "outputs": [
    {
     "name": "stdout",
     "output_type": "stream",
     "text": [
      "[1, 4, 9, 16, 25]\n"
     ]
    }
   ],
   "source": [
    "# printing squares of elements of list and appending it in another list\n",
    "l = [1,2,3,4,5]\n",
    "l1 = []\n",
    "for i in l:\n",
    "    l1.append(i**2)\n",
    "print(l1)    "
   ]
  },
  {
   "cell_type": "code",
   "execution_count": 13,
   "id": "c0c93f42-4326-42ad-b3f7-fb88232728f9",
   "metadata": {},
   "outputs": [
    {
     "name": "stdout",
     "output_type": "stream",
     "text": [
      "[1, 4, 9, 16, 25]\n"
     ]
    }
   ],
   "source": [
    "# now using list comprehension to find squares of element present in list\n",
    "l = [1,2,3,4,5]\n",
    "l1 = [i**2 for i in l]\n",
    "print(l1)"
   ]
  },
  {
   "cell_type": "code",
   "execution_count": 14,
   "id": "ca13dd89-05b9-4896-baa2-5ffb02ff809d",
   "metadata": {},
   "outputs": [
    {
     "name": "stdout",
     "output_type": "stream",
     "text": [
      "[2, 4, 6, 8, 10]\n"
     ]
    }
   ],
   "source": [
    "l = [1,2,3,4,5,6,7,8,9,10]\n",
    "l1 = [i for i in l if i % 2 == 0]\n",
    "print(l1)"
   ]
  },
  {
   "cell_type": "code",
   "execution_count": 16,
   "id": "d3315064-7b91-48ab-b723-0dc24a45de6b",
   "metadata": {},
   "outputs": [
    {
     "name": "stdout",
     "output_type": "stream",
     "text": [
      "['AYAN', 'KHAN', 'PWSKILLS', 'ARSHAD', 'ARSALAN']\n"
     ]
    }
   ],
   "source": [
    "# converting elements of list in upper case using comprehension method\n",
    "l = [\"ayan\",\"khan\",\"pwskills\",\"arshad\",\"arsalan\"]\n",
    "l1 = [i.upper() for i in l]\n",
    "print(l1)"
   ]
  },
  {
   "cell_type": "code",
   "execution_count": 19,
   "id": "72adb466-dec7-4a07-be47-d24a83699161",
   "metadata": {},
   "outputs": [
    {
     "name": "stdout",
     "output_type": "stream",
     "text": [
      "<generator object <genexpr> at 0x7f3ee01352a0>\n",
      "[1, 4, 9, 16, 25]\n"
     ]
    }
   ],
   "source": [
    "# Tuple comprehension\n",
    "l = [1,2,3,4,5]\n",
    "tup = (i**2 for i in l)\n",
    "print(tup)\n",
    "print(list(tup)) # will convert tuple into list"
   ]
  },
  {
   "cell_type": "code",
   "execution_count": 20,
   "id": "a1ee33b3-0f00-4314-b33a-5f25b379dd0f",
   "metadata": {},
   "outputs": [
    {
     "name": "stdout",
     "output_type": "stream",
     "text": [
      "{'key1': 1, 'key2': 4, 'key3': 9, 'key': 16}\n"
     ]
    }
   ],
   "source": [
    "d = {\"key1\":1 , \"key2\":2 , \"key3\":3 , \"key\":4}\n",
    "d1 = {k:v**2 for k,v in d.items()}\n",
    "print(d1)"
   ]
  },
  {
   "cell_type": "code",
   "execution_count": 21,
   "id": "7322d43d-af54-4320-a9d2-600757972125",
   "metadata": {},
   "outputs": [
    {
     "data": {
      "text/plain": [
       "{'key2': 4, 'key3': 9, 'key': 16}"
      ]
     },
     "execution_count": 21,
     "metadata": {},
     "output_type": "execute_result"
    }
   ],
   "source": [
    "{k:v**2 for k,v in d.items() if v**2 > 1} #will give the dictioanary whose value of 'value' is greater than 1"
   ]
  },
  {
   "cell_type": "code",
   "execution_count": 22,
   "id": "daf4a949-a300-46e3-9295-92ae88fc1090",
   "metadata": {},
   "outputs": [
    {
     "data": {
      "text/plain": [
       "'\\nFUNCTIONS\\n'"
      ]
     },
     "execution_count": 22,
     "metadata": {},
     "output_type": "execute_result"
    }
   ],
   "source": [
    "\"\"\"\n",
    "FUNCTIONS\n",
    "\"\"\""
   ]
  },
  {
   "cell_type": "code",
   "execution_count": 23,
   "id": "faeea82a-e9b9-4c64-a939-10ccc0fa29b2",
   "metadata": {},
   "outputs": [],
   "source": [
    "def test():\n",
    "    pass # pass keyword will pass this code and will not give any error"
   ]
  },
  {
   "cell_type": "code",
   "execution_count": 28,
   "id": "0890fdd0-41aa-4191-8766-03c1fa27e89d",
   "metadata": {},
   "outputs": [
    {
     "name": "stdout",
     "output_type": "stream",
     "text": [
      "This is my very first function\n"
     ]
    },
    {
     "ename": "TypeError",
     "evalue": "unsupported operand type(s) for +: 'NoneType' and 'str'",
     "output_type": "error",
     "traceback": [
      "\u001b[0;31m---------------------------------------------------------------------------\u001b[0m",
      "\u001b[0;31mTypeError\u001b[0m                                 Traceback (most recent call last)",
      "Cell \u001b[0;32mIn[28], line 4\u001b[0m\n\u001b[1;32m      2\u001b[0m     \u001b[38;5;28mprint\u001b[39m(\u001b[38;5;124m\"\u001b[39m\u001b[38;5;124mThis is my very first function\u001b[39m\u001b[38;5;124m\"\u001b[39m)\n\u001b[1;32m      3\u001b[0m \u001b[38;5;66;03m# test1()    \u001b[39;00m\n\u001b[0;32m----> 4\u001b[0m \u001b[43mtest1\u001b[49m\u001b[43m(\u001b[49m\u001b[43m)\u001b[49m\u001b[43m \u001b[49m\u001b[38;5;241;43m+\u001b[39;49m\u001b[43m \u001b[49m\u001b[38;5;124;43m\"\u001b[39;49m\u001b[38;5;124;43mAyan\u001b[39;49m\u001b[38;5;124;43m\"\u001b[39;49m\n",
      "\u001b[0;31mTypeError\u001b[0m: unsupported operand type(s) for +: 'NoneType' and 'str'"
     ]
    }
   ],
   "source": [
    "def test1():\n",
    "    print(\"This is my very first function\")\n",
    "# test1()    \n",
    "test1() + \"Ayan\""
   ]
  },
  {
   "cell_type": "code",
   "execution_count": 25,
   "id": "a953d7ac-abfb-477d-b620-c7fda2a7dfc5",
   "metadata": {},
   "outputs": [],
   "source": [
    "# print() is NoneType function"
   ]
  },
  {
   "cell_type": "code",
   "execution_count": 29,
   "id": "c6e4f6f8-8b2e-47b3-bdd1-5b2f75ccd310",
   "metadata": {},
   "outputs": [],
   "source": [
    "def test2():\n",
    "    return \"This is my very first return\""
   ]
  },
  {
   "cell_type": "code",
   "execution_count": 30,
   "id": "eced5314-6a57-42db-a100-61729297d904",
   "metadata": {},
   "outputs": [
    {
     "data": {
      "text/plain": [
       "'This is my very first return'"
      ]
     },
     "execution_count": 30,
     "metadata": {},
     "output_type": "execute_result"
    }
   ],
   "source": [
    "test2()"
   ]
  },
  {
   "cell_type": "code",
   "execution_count": 32,
   "id": "0dc69e9a-739d-4832-a854-974d87ec5aed",
   "metadata": {},
   "outputs": [
    {
     "data": {
      "text/plain": [
       "'This is my very first return Ayan'"
      ]
     },
     "execution_count": 32,
     "metadata": {},
     "output_type": "execute_result"
    }
   ],
   "source": [
    "test2() + \" Ayan\" # here \"Ayan\" gets concatenated to function named test2() because retun function returns the data type as it is "
   ]
  },
  {
   "cell_type": "code",
   "execution_count": 42,
   "id": "19c9db7a-8763-46ec-9ade-aadd158b8afb",
   "metadata": {},
   "outputs": [
    {
     "data": {
      "text/plain": [
       "('Ayan', 23, 87.98, [1, 2, 3, 4])"
      ]
     },
     "execution_count": 42,
     "metadata": {},
     "output_type": "execute_result"
    }
   ],
   "source": [
    "def test3():\n",
    "    return \"Ayan\", 23, 87.98, [1,2,3,4]\n",
    "test3() "
   ]
  },
  {
   "cell_type": "code",
   "execution_count": 43,
   "id": "59cbd9b6-deb7-46c2-8b2d-6b18170de1e9",
   "metadata": {},
   "outputs": [],
   "source": [
    "a,b,c,d = test3()"
   ]
  },
  {
   "cell_type": "code",
   "execution_count": 44,
   "id": "678d4734-0af7-49fa-b9f3-01393f96ae28",
   "metadata": {},
   "outputs": [
    {
     "data": {
      "text/plain": [
       "'Ayan'"
      ]
     },
     "execution_count": 44,
     "metadata": {},
     "output_type": "execute_result"
    }
   ],
   "source": [
    "a"
   ]
  },
  {
   "cell_type": "code",
   "execution_count": 36,
   "id": "2eaaa8b0-0050-4858-857b-44b080c93ac6",
   "metadata": {},
   "outputs": [
    {
     "data": {
      "text/plain": [
       "23"
      ]
     },
     "execution_count": 36,
     "metadata": {},
     "output_type": "execute_result"
    }
   ],
   "source": [
    "b"
   ]
  },
  {
   "cell_type": "code",
   "execution_count": 37,
   "id": "f1150a0a-3b13-458c-8faa-37cb5449c0a7",
   "metadata": {},
   "outputs": [
    {
     "data": {
      "text/plain": [
       "87.98"
      ]
     },
     "execution_count": 37,
     "metadata": {},
     "output_type": "execute_result"
    }
   ],
   "source": [
    "c"
   ]
  },
  {
   "cell_type": "code",
   "execution_count": 38,
   "id": "2447080c-0184-4092-a809-769bb7c66946",
   "metadata": {},
   "outputs": [
    {
     "data": {
      "text/plain": [
       "[1, 2, 3, 4]"
      ]
     },
     "execution_count": 38,
     "metadata": {},
     "output_type": "execute_result"
    }
   ],
   "source": [
    "d"
   ]
  },
  {
   "cell_type": "code",
   "execution_count": 45,
   "id": "c574dcdb-8aea-4587-a868-7cdf7880e6f3",
   "metadata": {},
   "outputs": [
    {
     "data": {
      "text/plain": [
       "5.857142857142857"
      ]
     },
     "execution_count": 45,
     "metadata": {},
     "output_type": "execute_result"
    }
   ],
   "source": [
    "def test4():\n",
    "    a = 5 + 6 / 7\n",
    "    return a\n",
    "test4()"
   ]
  },
  {
   "cell_type": "code",
   "execution_count": 46,
   "id": "4b6aa4be-f934-427f-ac9e-2b0b7ef5d64f",
   "metadata": {},
   "outputs": [
    {
     "data": {
      "text/plain": [
       "float"
      ]
     },
     "execution_count": 46,
     "metadata": {},
     "output_type": "execute_result"
    }
   ],
   "source": [
    "type(test4())"
   ]
  },
  {
   "cell_type": "code",
   "execution_count": 48,
   "id": "80058edd-55c6-4b72-a970-5c8eb42799bb",
   "metadata": {},
   "outputs": [
    {
     "data": {
      "text/plain": [
       "12.5"
      ]
     },
     "execution_count": 48,
     "metadata": {},
     "output_type": "execute_result"
    }
   ],
   "source": [
    "def test5(a,b,c):\n",
    "    d = a+b/c\n",
    "    return d\n",
    "test5(10,5,2)    "
   ]
  },
  {
   "cell_type": "code",
   "execution_count": 7,
   "id": "b2892591-ab2e-4937-a168-1b62649d10f5",
   "metadata": {},
   "outputs": [
    {
     "data": {
      "text/plain": [
       "[1, 2, 3, 4, 1, 2, 3, 4, 5]"
      ]
     },
     "execution_count": 7,
     "metadata": {},
     "output_type": "execute_result"
    }
   ],
   "source": [
    "# storing numeric element of list in another list\n",
    "l = [1,2,3,4,\"ayan\",\"khan\",[1,2,3,4,5]]\n",
    "l1 = []\n",
    "def test7():\n",
    "    for i in l:\n",
    "        if type(i) == int or type(i) == float:\n",
    "            l1.append(i)\n",
    "        if type(i) == list:\n",
    "            for j in i:\n",
    "                l1.append(j)\n",
    "    return l1\n",
    "test7()            "
   ]
  },
  {
   "cell_type": "code",
   "execution_count": null,
   "id": "4d9b50b3-66a1-48f9-a457-f62951ad02cc",
   "metadata": {},
   "outputs": [],
   "source": [
    "# docstrings are the string which gives information about function"
   ]
  },
  {
   "cell_type": "code",
   "execution_count": 8,
   "id": "894f1f06-a2f0-4374-8f6e-fef8359376d9",
   "metadata": {},
   "outputs": [
    {
     "data": {
      "text/plain": [
       "[1, 2, 3, 4, 1, 2, 3, 4, 5]"
      ]
     },
     "execution_count": 8,
     "metadata": {},
     "output_type": "execute_result"
    }
   ],
   "source": [
    "# storing numeric element of list in another list\n",
    "l = [1,2,3,4,\"ayan\",\"khan\",[1,2,3,4,5]]\n",
    "l1 = []\n",
    "def test7():\n",
    "    \"\"\"This is my function which append numeric element of list into another list\"\"\"\n",
    "    for i in l:\n",
    "        if type(i) == int or type(i) == float:\n",
    "            l1.append(i)\n",
    "        if type(i) == list:\n",
    "            for j in i:\n",
    "                l1.append(j)\n",
    "    return l1\n",
    "test7()            "
   ]
  },
  {
   "cell_type": "code",
   "execution_count": 12,
   "id": "463baded-104f-484a-a0f0-eb4e2e58d3be",
   "metadata": {},
   "outputs": [
    {
     "data": {
      "text/plain": [
       "()"
      ]
     },
     "execution_count": 12,
     "metadata": {},
     "output_type": "execute_result"
    }
   ],
   "source": [
    "def test10(*args): # *args is used when we dont know how many arguments we have to pass in given function\n",
    "    return args\n",
    "test10()\n",
    "\"\"\"\n",
    "*args allows us to pass n-number of arguments.\n",
    "*args is not a keyword, we can use anything like *ayan or *khan etc\n",
    "*args return tuple\n",
    "\"\"\""
   ]
  },
  {
   "cell_type": "code",
   "execution_count": 14,
   "id": "0eba44ca-1086-4e8f-91f8-7c2b364edba6",
   "metadata": {},
   "outputs": [
    {
     "data": {
      "text/plain": [
       "((4, 5, 6, 6), 2)"
      ]
     },
     "execution_count": 14,
     "metadata": {},
     "output_type": "execute_result"
    }
   ],
   "source": [
    "def test11(*args,a):\n",
    "    return args,a\n",
    "test11(4,5,6,6, a = 2)"
   ]
  },
  {
   "cell_type": "code",
   "execution_count": 15,
   "id": "9aac649b-5e7a-4006-b25d-559b998a0e8d",
   "metadata": {},
   "outputs": [
    {
     "data": {
      "text/plain": [
       "(3, 4, 1, 2)"
      ]
     },
     "execution_count": 15,
     "metadata": {},
     "output_type": "execute_result"
    }
   ],
   "source": [
    "def test14(a,b,c=1,d=2):\n",
    "    return a,b,c,d\n",
    "test14(3,4) # a will take value 3 and b will take value 4"
   ]
  },
  {
   "cell_type": "code",
   "execution_count": 17,
   "id": "fa02e5dd-b6ba-42e0-a159-7ca2e7537589",
   "metadata": {},
   "outputs": [
    {
     "data": {
      "text/plain": [
       "(5, 6, 1, 23)"
      ]
     },
     "execution_count": 17,
     "metadata": {},
     "output_type": "execute_result"
    }
   ],
   "source": [
    "test14(5,6,d=23)"
   ]
  },
  {
   "cell_type": "code",
   "execution_count": 19,
   "id": "d1f67fc1-bf41-4760-98e5-1895138bd473",
   "metadata": {},
   "outputs": [
    {
     "data": {
      "text/plain": [
       "dict"
      ]
     },
     "execution_count": 19,
     "metadata": {},
     "output_type": "execute_result"
    }
   ],
   "source": [
    "def test15(**kwargs):\n",
    "    return kwargs\n",
    "test15()\n",
    "type(test15())\n",
    "# **kwargs returns dictionary"
   ]
  },
  {
   "cell_type": "code",
   "execution_count": null,
   "id": "4cd2a54e-f6e5-4d75-90d1-4737b3d1cfe3",
   "metadata": {},
   "outputs": [],
   "source": []
  }
 ],
 "metadata": {
  "kernelspec": {
   "display_name": "Python 3 (ipykernel)",
   "language": "python",
   "name": "python3"
  },
  "language_info": {
   "codemirror_mode": {
    "name": "ipython",
    "version": 3
   },
   "file_extension": ".py",
   "mimetype": "text/x-python",
   "name": "python",
   "nbconvert_exporter": "python",
   "pygments_lexer": "ipython3",
   "version": "3.10.8"
  }
 },
 "nbformat": 4,
 "nbformat_minor": 5
}
