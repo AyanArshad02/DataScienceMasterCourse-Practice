{
 "cells": [
  {
   "cell_type": "code",
   "execution_count": 3,
   "id": "77b09c74-a126-4260-ad9d-aaea5d6bd6e9",
   "metadata": {},
   "outputs": [
    {
     "name": "stdout",
     "output_type": "stream",
     "text": [
      "<class 'dict'>\n"
     ]
    }
   ],
   "source": [
    "d = {}\n",
    "print(type(d))"
   ]
  },
  {
   "cell_type": "code",
   "execution_count": 4,
   "id": "d242447d-ec49-4dc0-9d05-978164a6b4ad",
   "metadata": {},
   "outputs": [],
   "source": [
    "d1 = {'key':'value'} #key should be unique in a dictionary"
   ]
  },
  {
   "cell_type": "code",
   "execution_count": 7,
   "id": "e301ff35-2608-48a1-801b-2389624210b0",
   "metadata": {},
   "outputs": [
    {
     "name": "stdout",
     "output_type": "stream",
     "text": [
      "{'key': 'value'}\n"
     ]
    }
   ],
   "source": [
    "print(d1)"
   ]
  },
  {
   "cell_type": "code",
   "execution_count": 8,
   "id": "a8f49e6c-56af-4fbe-9e3c-a4b5d7ecc4bc",
   "metadata": {},
   "outputs": [],
   "source": [
    "d2 = {'name':\"ayan\" , \"email\" : \"aa@gmail.com\" }"
   ]
  },
  {
   "cell_type": "code",
   "execution_count": 9,
   "id": "8ee9bd9d-0335-4ea0-a9ff-bd1dade279dc",
   "metadata": {},
   "outputs": [],
   "source": [
    "d3 = {2 : \"ayan\" , True:45 , 40 : 33}"
   ]
  },
  {
   "cell_type": "code",
   "execution_count": 10,
   "id": "08294455-3d78-41b3-98fa-2d1ea6709277",
   "metadata": {},
   "outputs": [
    {
     "data": {
      "text/plain": [
       "'ayan'"
      ]
     },
     "execution_count": 10,
     "metadata": {},
     "output_type": "execute_result"
    }
   ],
   "source": [
    "d3[2]"
   ]
  },
  {
   "cell_type": "code",
   "execution_count": 11,
   "id": "00c4e8e8-adb3-468f-ab9d-5ba210a61101",
   "metadata": {},
   "outputs": [
    {
     "data": {
      "text/plain": [
       "45"
      ]
     },
     "execution_count": 11,
     "metadata": {},
     "output_type": "execute_result"
    }
   ],
   "source": [
    "d3[1] # kaam kr gya because True = 1 hta hai"
   ]
  },
  {
   "cell_type": "code",
   "execution_count": 12,
   "id": "48d0527d-2a7e-4f44-b71e-d2754d26c7dd",
   "metadata": {},
   "outputs": [],
   "source": [
    "d4 = {\"name\":\"ayan\" , \"mail\":\"@gmail.com\" , \"name\":\"aaayan\"}"
   ]
  },
  {
   "cell_type": "code",
   "execution_count": 14,
   "id": "cc83ce77-dce5-43a9-ba58-d39cc808eccf",
   "metadata": {},
   "outputs": [
    {
     "data": {
      "text/plain": [
       "'aaayan'"
      ]
     },
     "execution_count": 14,
     "metadata": {},
     "output_type": "execute_result"
    }
   ],
   "source": [
    "d4[\"name\"] # key agr unique nhi rhega tb last updated value store hga key mein"
   ]
  },
  {
   "cell_type": "code",
   "execution_count": 15,
   "id": "af6580c2-858c-499b-a96f-1b0aaec48395",
   "metadata": {},
   "outputs": [],
   "source": [
    "d5 = {\"company\": \"pwskills\" , \"course\":[\"web dev\",\"data science\",\"java\"]}"
   ]
  },
  {
   "cell_type": "code",
   "execution_count": 17,
   "id": "3069218c-9c1f-4cb1-bca0-778ff0e10aa4",
   "metadata": {},
   "outputs": [
    {
     "data": {
      "text/plain": [
       "['web dev', 'data science', 'java']"
      ]
     },
     "execution_count": 17,
     "metadata": {},
     "output_type": "execute_result"
    }
   ],
   "source": [
    "d5[\"course\"]"
   ]
  },
  {
   "cell_type": "code",
   "execution_count": 18,
   "id": "ac06efcb-eefc-4e31-a3a1-20acc0204201",
   "metadata": {},
   "outputs": [],
   "source": [
    "d5[\"mentor\"] = [\"sudhanshu\",\"krish\",\"haider\",\"anurag\"]"
   ]
  },
  {
   "cell_type": "code",
   "execution_count": 19,
   "id": "80e5a388-5981-49fa-9686-679ee3d122dc",
   "metadata": {},
   "outputs": [
    {
     "name": "stdout",
     "output_type": "stream",
     "text": [
      "{'company': 'pwskills', 'course': ['web dev', 'data science', 'java'], 'mentor': ['sudhanshu', 'krish', 'haider', 'anurag']}\n"
     ]
    }
   ],
   "source": [
    "print(d5)"
   ]
  },
  {
   "cell_type": "code",
   "execution_count": 20,
   "id": "84e84b06-0eac-49b2-98c5-dcf9fc0f8d82",
   "metadata": {},
   "outputs": [],
   "source": [
    "d5[\"assignment\"]=(1,3,4,2)"
   ]
  },
  {
   "cell_type": "code",
   "execution_count": 23,
   "id": "682a6d2c-6134-4a12-a7a9-629bc969d976",
   "metadata": {},
   "outputs": [
    {
     "data": {
      "text/plain": [
       "dict_keys(['company', 'course', 'mentor', 'assignment'])"
      ]
     },
     "execution_count": 23,
     "metadata": {},
     "output_type": "execute_result"
    }
   ],
   "source": [
    "d5.keys()"
   ]
  },
  {
   "cell_type": "code",
   "execution_count": 24,
   "id": "43dd15cc-b8bd-44b9-bece-c182f193480a",
   "metadata": {},
   "outputs": [
    {
     "data": {
      "text/plain": [
       "['company', 'course', 'mentor', 'assignment']"
      ]
     },
     "execution_count": 24,
     "metadata": {},
     "output_type": "execute_result"
    }
   ],
   "source": [
    "list(d5.keys())"
   ]
  },
  {
   "cell_type": "code",
   "execution_count": 25,
   "id": "224492dc-34a9-4c45-ae14-88b8b165ad3c",
   "metadata": {},
   "outputs": [
    {
     "data": {
      "text/plain": [
       "dict_values(['pwskills', ['web dev', 'data science', 'java'], ['sudhanshu', 'krish', 'haider', 'anurag'], (1, 3, 4, 2)])"
      ]
     },
     "execution_count": 25,
     "metadata": {},
     "output_type": "execute_result"
    }
   ],
   "source": [
    "d5.values()"
   ]
  },
  {
   "cell_type": "code",
   "execution_count": 26,
   "id": "6afc6381-e6a3-46ec-885c-56f58d222f34",
   "metadata": {},
   "outputs": [
    {
     "data": {
      "text/plain": [
       "['pwskills',\n",
       " ['web dev', 'data science', 'java'],\n",
       " ['sudhanshu', 'krish', 'haider', 'anurag'],\n",
       " (1, 3, 4, 2)]"
      ]
     },
     "execution_count": 26,
     "metadata": {},
     "output_type": "execute_result"
    }
   ],
   "source": [
    "list(d5.values())"
   ]
  },
  {
   "cell_type": "code",
   "execution_count": 27,
   "id": "22a876bc-6c63-4d8d-b32b-714922ecf0ba",
   "metadata": {},
   "outputs": [
    {
     "data": {
      "text/plain": [
       "dict_items([('company', 'pwskills'), ('course', ['web dev', 'data science', 'java']), ('mentor', ['sudhanshu', 'krish', 'haider', 'anurag']), ('assignment', (1, 3, 4, 2))])"
      ]
     },
     "execution_count": 27,
     "metadata": {},
     "output_type": "execute_result"
    }
   ],
   "source": [
    "d5.items()"
   ]
  },
  {
   "cell_type": "code",
   "execution_count": 28,
   "id": "4f61b71a-ad1a-468a-b9e6-14a21db53632",
   "metadata": {},
   "outputs": [
    {
     "data": {
      "text/plain": [
       "[('company', 'pwskills'),\n",
       " ('course', ['web dev', 'data science', 'java']),\n",
       " ('mentor', ['sudhanshu', 'krish', 'haider', 'anurag']),\n",
       " ('assignment', (1, 3, 4, 2))]"
      ]
     },
     "execution_count": 28,
     "metadata": {},
     "output_type": "execute_result"
    }
   ],
   "source": [
    "list(d5.items())"
   ]
  },
  {
   "cell_type": "code",
   "execution_count": 30,
   "id": "45418786-237a-43ae-9102-46fb3525b587",
   "metadata": {},
   "outputs": [
    {
     "data": {
      "text/plain": [
       "'pwskills'"
      ]
     },
     "execution_count": 30,
     "metadata": {},
     "output_type": "execute_result"
    }
   ],
   "source": [
    "d5.pop(\"company\")"
   ]
  },
  {
   "cell_type": "code",
   "execution_count": 34,
   "id": "669df5ea-4ec1-4d05-9ed0-538858da915e",
   "metadata": {},
   "outputs": [
    {
     "name": "stdin",
     "output_type": "stream",
     "text": [
      "Enter your marks: 90\n"
     ]
    },
    {
     "name": "stdout",
     "output_type": "stream",
     "text": [
      "you will be part of A0 batch\n"
     ]
    }
   ],
   "source": [
    "marks = int(input(\"Enter your marks:\"))\n",
    "if marks >= 80:\n",
    "    print(\"you will be part of A0 batch\")\n",
    "elif marks >= 60 and marks< 80:\n",
    "    print(\"you will be a part of A1 batch\")\n",
    "elif marks >= 40 and  marks <60:\n",
    "    print(\"you will be a part of A2 batch\")\n",
    "else:\n",
    "    print(\"you will be a part of A3 batch\")"
   ]
  },
  {
   "cell_type": "code",
   "execution_count": 35,
   "id": "fd1fc389-2525-444c-aad8-3fa15ae423a0",
   "metadata": {},
   "outputs": [
    {
     "name": "stdin",
     "output_type": "stream",
     "text": [
      "Enter price: 9000\n"
     ]
    },
    {
     "name": "stdout",
     "output_type": "stream",
     "text": [
      "I will not purchase\n",
      "Too Expensive\n"
     ]
    }
   ],
   "source": [
    "price = int(input(\"Enter price:\"))\n",
    "if price > 1000:\n",
    "    print(\"I will not purchase\")\n",
    "    if price > 5000:\n",
    "        print(\"Too Expensive\")\n",
    "else:\n",
    "    print(\"I will purchase\")"
   ]
  },
  {
   "cell_type": "code",
   "execution_count": 40,
   "id": "108c5b2a-6a18-4664-85ab-632212c0a565",
   "metadata": {},
   "outputs": [
    {
     "name": "stdout",
     "output_type": "stream",
     "text": [
      "2\n",
      "3\n",
      "4\n",
      "5\n",
      "6\n",
      "7\n",
      "8\n",
      "9\n",
      "[2, 3, 4, 5, 6, 7, 8, 9]\n"
     ]
    }
   ],
   "source": [
    "# adding 1 to each elements of list\n",
    "l =[1, 2, 3, 4, 5, 6, 7, 8]\n",
    "l1 = []\n",
    "for i in l:\n",
    "    print(i+1)\n",
    "    l1.append(i + 1)\n",
    "print(l1)"
   ]
  },
  {
   "cell_type": "code",
   "execution_count": 43,
   "id": "0bdef74a-c054-4d7d-9d57-531f2ecfb1c1",
   "metadata": {},
   "outputs": [
    {
     "data": {
      "text/plain": [
       "['AYAN', 'KHAN', 'ARSHAD']"
      ]
     },
     "execution_count": 43,
     "metadata": {},
     "output_type": "execute_result"
    }
   ],
   "source": [
    "l = [\"ayan\",\"khan\",\"arshad\"]\n",
    "l1 = []\n",
    "for i in l:\n",
    "    l1.append(i.upper())\n",
    "# print(l1) \n",
    "l1\n"
   ]
  },
  {
   "cell_type": "code",
   "execution_count": 44,
   "id": "aa64a700-7b20-4cd8-91dd-400d1a9e625d",
   "metadata": {},
   "outputs": [],
   "source": [
    "l = [1,2,3,4,5,6,\"ayan\",\"khan\",87.453,44] \n",
    "\"\"\"\n",
    "requirements: make separate list for integer and string\n",
    "of above string\n",
    "\"\"\""
   ]
  },
  {
   "cell_type": "code",
   "execution_count": 50,
   "id": "0f62eed4-c5b5-4409-9574-74f9adad3b5f",
   "metadata": {},
   "outputs": [
    {
     "name": "stdout",
     "output_type": "stream",
     "text": [
      "[1, 2, 3, 4, 5, 6, 87.453, 44]\n",
      "['ayan', 'khan']\n"
     ]
    }
   ],
   "source": [
    "l = [1,2,3,4,5,6,\"ayan\",\"khan\",87.453,44]\n",
    "l1 = []\n",
    "l2 = []\n",
    "for i in l:\n",
    "    if type(i) == int or type(i) == float:\n",
    "        l1.append(i)\n",
    "    elif type(i) == str:\n",
    "        l2.append(i)\n",
    "print(l1)\n",
    "print(l2)"
   ]
  },
  {
   "cell_type": "code",
   "execution_count": null,
   "id": "99a3944e-5abf-4540-8806-7b404e420975",
   "metadata": {},
   "outputs": [],
   "source": []
  }
 ],
 "metadata": {
  "kernelspec": {
   "display_name": "Python 3 (ipykernel)",
   "language": "python",
   "name": "python3"
  },
  "language_info": {
   "codemirror_mode": {
    "name": "ipython",
    "version": 3
   },
   "file_extension": ".py",
   "mimetype": "text/x-python",
   "name": "python",
   "nbconvert_exporter": "python",
   "pygments_lexer": "ipython3",
   "version": "3.10.8"
  }
 },
 "nbformat": 4,
 "nbformat_minor": 5
}
