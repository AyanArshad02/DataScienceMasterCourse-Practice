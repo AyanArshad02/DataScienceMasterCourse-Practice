{
 "cells": [
  {
   "cell_type": "code",
   "execution_count": null,
   "id": "725a7d15-983b-4ebb-b382-20a5ee29f394",
   "metadata": {},
   "outputs": [],
   "source": [
    "\"\"\"Numpy Part-1\"\"\""
   ]
  },
  {
   "cell_type": "code",
   "execution_count": 1,
   "id": "f7a1be37-f918-45f4-8ac9-9d497890e42d",
   "metadata": {},
   "outputs": [],
   "source": [
    "import numpy as np"
   ]
  },
  {
   "cell_type": "code",
   "execution_count": 5,
   "id": "83113aa1-07d7-4ed9-b29e-9a70c1d0856d",
   "metadata": {},
   "outputs": [
    {
     "name": "stdout",
     "output_type": "stream",
     "text": [
      "[1 2 3 4]\n"
     ]
    }
   ],
   "source": [
    "l = [1,2,3,4]\n",
    "ar = np.array(l)\n",
    "print(ar)"
   ]
  },
  {
   "cell_type": "code",
   "execution_count": 6,
   "id": "711d190a-2943-4c78-b757-d4d55fd27d87",
   "metadata": {},
   "outputs": [
    {
     "data": {
      "text/plain": [
       "array([1, 2, 3, 4])"
      ]
     },
     "execution_count": 6,
     "metadata": {},
     "output_type": "execute_result"
    }
   ],
   "source": [
    "ar"
   ]
  },
  {
   "cell_type": "code",
   "execution_count": 7,
   "id": "ef72cc86-e958-4228-8121-28759d892dfc",
   "metadata": {},
   "outputs": [
    {
     "data": {
      "text/plain": [
       "numpy.ndarray"
      ]
     },
     "execution_count": 7,
     "metadata": {},
     "output_type": "execute_result"
    }
   ],
   "source": [
    "type(ar)"
   ]
  },
  {
   "cell_type": "code",
   "execution_count": 8,
   "id": "8f7dc81d-3233-409c-9d43-31d35af5cbc4",
   "metadata": {},
   "outputs": [
    {
     "data": {
      "text/plain": [
       "array([[1, 2],\n",
       "       [3, 4]])"
      ]
     },
     "execution_count": 8,
     "metadata": {},
     "output_type": "execute_result"
    }
   ],
   "source": [
    "np.array([[1,2],[3,4]]) # it is 2-d array"
   ]
  },
  {
   "cell_type": "code",
   "execution_count": 9,
   "id": "cba44ac6-6bca-4bea-aa61-ad62f8aaf602",
   "metadata": {},
   "outputs": [
    {
     "data": {
      "text/plain": [
       "array([1, 2, 3, 4])"
      ]
     },
     "execution_count": 9,
     "metadata": {},
     "output_type": "execute_result"
    }
   ],
   "source": [
    "np.asarray(l) # same as np.array()"
   ]
  },
  {
   "cell_type": "code",
   "execution_count": 10,
   "id": "e9f6c612-ebe0-42bc-859b-bedac2273e1a",
   "metadata": {},
   "outputs": [
    {
     "data": {
      "text/plain": [
       "array([1, 2, 3, 4])"
      ]
     },
     "execution_count": 10,
     "metadata": {},
     "output_type": "execute_result"
    }
   ],
   "source": [
    "np.asanyarray(l) # same as np.array()"
   ]
  },
  {
   "cell_type": "code",
   "execution_count": 11,
   "id": "fe4b6b94-8753-4a3e-860d-0137d48e442b",
   "metadata": {},
   "outputs": [],
   "source": [
    "b = np.matrix(l) # matrix is a subset of array"
   ]
  },
  {
   "cell_type": "code",
   "execution_count": 12,
   "id": "478e11ab-b4dc-450a-af10-d4c6c690a7e3",
   "metadata": {},
   "outputs": [
    {
     "data": {
      "text/plain": [
       "matrix([[1, 2, 3, 4]])"
      ]
     },
     "execution_count": 12,
     "metadata": {},
     "output_type": "execute_result"
    }
   ],
   "source": [
    "b # matrix is by default 2-d array"
   ]
  },
  {
   "cell_type": "code",
   "execution_count": 13,
   "id": "f4f1eaa5-0f59-487f-8b0a-0d322d3acad2",
   "metadata": {},
   "outputs": [
    {
     "data": {
      "text/plain": [
       "matrix([[1, 2, 3, 4]])"
      ]
     },
     "execution_count": 13,
     "metadata": {},
     "output_type": "execute_result"
    }
   ],
   "source": [
    "np.asanyarray(b) # this will not convert matrix into array because matrix is already a subset of array"
   ]
  },
  {
   "cell_type": "code",
   "execution_count": 14,
   "id": "bef05620-fba9-48c6-8df3-af68b4fe8b62",
   "metadata": {},
   "outputs": [],
   "source": [
    "a = np.array(l)"
   ]
  },
  {
   "cell_type": "code",
   "execution_count": 15,
   "id": "c4cb3204-4219-43c6-9ced-67d711555148",
   "metadata": {},
   "outputs": [
    {
     "data": {
      "text/plain": [
       "array([1, 2, 3, 4])"
      ]
     },
     "execution_count": 15,
     "metadata": {},
     "output_type": "execute_result"
    }
   ],
   "source": [
    "a"
   ]
  },
  {
   "cell_type": "code",
   "execution_count": 16,
   "id": "ed9802b4-809b-4227-8db6-fa25e669b3b3",
   "metadata": {},
   "outputs": [],
   "source": [
    "c = a"
   ]
  },
  {
   "cell_type": "code",
   "execution_count": 17,
   "id": "ed8b3f5d-0ec5-4079-888a-d8586fa39b8a",
   "metadata": {},
   "outputs": [
    {
     "data": {
      "text/plain": [
       "array([1, 2, 3, 4])"
      ]
     },
     "execution_count": 17,
     "metadata": {},
     "output_type": "execute_result"
    }
   ],
   "source": [
    "c"
   ]
  },
  {
   "cell_type": "code",
   "execution_count": 18,
   "id": "90214ed2-a07d-4c33-8deb-ee2c0c0ed9e6",
   "metadata": {},
   "outputs": [
    {
     "data": {
      "text/plain": [
       "array([100,   2,   3,   4])"
      ]
     },
     "execution_count": 18,
     "metadata": {},
     "output_type": "execute_result"
    }
   ],
   "source": [
    "c[0] = 100 # changes made into 'c' will be reflected in 'a' too AND vice-versa\n",
    "c"
   ]
  },
  {
   "cell_type": "code",
   "execution_count": 19,
   "id": "4e5966ed-773d-49ec-bfac-bdbea4df2ffe",
   "metadata": {},
   "outputs": [
    {
     "data": {
      "text/plain": [
       "array([100,   2,   3,   4])"
      ]
     },
     "execution_count": 19,
     "metadata": {},
     "output_type": "execute_result"
    }
   ],
   "source": [
    "a"
   ]
  },
  {
   "cell_type": "code",
   "execution_count": 20,
   "id": "c0f9090f-915c-4c16-a207-d4aa6791aae3",
   "metadata": {},
   "outputs": [],
   "source": [
    "d = np.copy(a)"
   ]
  },
  {
   "cell_type": "code",
   "execution_count": 21,
   "id": "19213af9-8deb-4dc3-be97-cb43333c99b4",
   "metadata": {},
   "outputs": [
    {
     "data": {
      "text/plain": [
       "array([100,   2,   3,   4])"
      ]
     },
     "execution_count": 21,
     "metadata": {},
     "output_type": "execute_result"
    }
   ],
   "source": [
    "d"
   ]
  },
  {
   "cell_type": "code",
   "execution_count": 23,
   "id": "b2853ca3-1b48-470b-a596-d64177807573",
   "metadata": {},
   "outputs": [
    {
     "data": {
      "text/plain": [
       "array([100, 200,   3,   4])"
      ]
     },
     "execution_count": 23,
     "metadata": {},
     "output_type": "execute_result"
    }
   ],
   "source": [
    "a[1] = 200\n",
    "a"
   ]
  },
  {
   "cell_type": "code",
   "execution_count": 24,
   "id": "08f3d84c-8290-4f85-8910-129367899976",
   "metadata": {},
   "outputs": [
    {
     "data": {
      "text/plain": [
       "array([100,   2,   3,   4])"
      ]
     },
     "execution_count": 24,
     "metadata": {},
     "output_type": "execute_result"
    }
   ],
   "source": [
    "d #nothing changes in 'd' when we change in 'a'"
   ]
  },
  {
   "cell_type": "code",
   "execution_count": 25,
   "id": "7bd97144-ba68-49e2-a1f5-d4b62fca7259",
   "metadata": {},
   "outputs": [
    {
     "data": {
      "text/plain": [
       "array([[ True, False, False],\n",
       "       [False,  True, False],\n",
       "       [False, False,  True]])"
      ]
     },
     "execution_count": 25,
     "metadata": {},
     "output_type": "execute_result"
    }
   ],
   "source": [
    "np.fromfunction(lambda i,j : i==j,(3,3))"
   ]
  },
  {
   "cell_type": "code",
   "execution_count": 27,
   "id": "80aab809-bef4-457f-a162-2b876a87a33c",
   "metadata": {},
   "outputs": [
    {
     "data": {
      "text/plain": [
       "array([[0., 0., 0.],\n",
       "       [0., 1., 2.],\n",
       "       [0., 2., 4.],\n",
       "       [0., 3., 6.]])"
      ]
     },
     "execution_count": 27,
     "metadata": {},
     "output_type": "execute_result"
    }
   ],
   "source": [
    "np.fromfunction(lambda i,j : i*j,(4,3))"
   ]
  },
  {
   "cell_type": "code",
   "execution_count": 29,
   "id": "e2d2db77-3975-4a29-9355-912a4e0eeec3",
   "metadata": {},
   "outputs": [
    {
     "data": {
      "text/plain": [
       "array([ 0.,  1.,  4.,  9., 16.])"
      ]
     },
     "execution_count": 29,
     "metadata": {},
     "output_type": "execute_result"
    }
   ],
   "source": [
    "iterable = (i*i for i in range(5)) # this is iter function\n",
    "np.fromiter(iterable,float)"
   ]
  },
  {
   "cell_type": "code",
   "execution_count": 35,
   "id": "d8aa1b8f-ff41-4c11-ae06-720f9b4490e1",
   "metadata": {},
   "outputs": [
    {
     "data": {
      "text/plain": [
       "array([12., 23., 34.])"
      ]
     },
     "execution_count": 35,
     "metadata": {},
     "output_type": "execute_result"
    }
   ],
   "source": [
    "np.fromstring(\"12 23 34\", sep = \" \") # will create an array from string"
   ]
  },
  {
   "cell_type": "code",
   "execution_count": null,
   "id": "0497f52a-0aa9-4155-b501-1feee936608a",
   "metadata": {},
   "outputs": [],
   "source": [
    "# Numpy - Data Types"
   ]
  },
  {
   "cell_type": "code",
   "execution_count": 36,
   "id": "712e58e7-639f-4556-8a9d-ef8e7b5e555e",
   "metadata": {},
   "outputs": [],
   "source": [
    "ar = np.array([1,2,3,4])"
   ]
  },
  {
   "cell_type": "code",
   "execution_count": 37,
   "id": "34d3fe9a-4ba3-429e-95be-9a18584a0f45",
   "metadata": {},
   "outputs": [
    {
     "data": {
      "text/plain": [
       "array([1, 2, 3, 4])"
      ]
     },
     "execution_count": 37,
     "metadata": {},
     "output_type": "execute_result"
    }
   ],
   "source": [
    "ar"
   ]
  },
  {
   "cell_type": "code",
   "execution_count": 38,
   "id": "232c521b-377b-4c41-9b3f-3eed57af2d17",
   "metadata": {},
   "outputs": [
    {
     "data": {
      "text/plain": [
       "1"
      ]
     },
     "execution_count": 38,
     "metadata": {},
     "output_type": "execute_result"
    }
   ],
   "source": [
    "ar.ndim # use to find dimension of array"
   ]
  },
  {
   "cell_type": "code",
   "execution_count": 39,
   "id": "0618517a-b254-4d0c-8023-7d066fc259a5",
   "metadata": {},
   "outputs": [
    {
     "data": {
      "text/plain": [
       "4"
      ]
     },
     "execution_count": 39,
     "metadata": {},
     "output_type": "execute_result"
    }
   ],
   "source": [
    "ar.size # use to find size of array"
   ]
  },
  {
   "cell_type": "code",
   "execution_count": 40,
   "id": "e055022f-3b0b-4cd1-870d-fe77fda617e5",
   "metadata": {},
   "outputs": [],
   "source": [
    "ar2 = np.array([[1,2,3],[4,5,6]])"
   ]
  },
  {
   "cell_type": "code",
   "execution_count": 41,
   "id": "9efe8afb-1976-4f53-b998-c0dc6f09bbeb",
   "metadata": {},
   "outputs": [
    {
     "data": {
      "text/plain": [
       "(2, 3)"
      ]
     },
     "execution_count": 41,
     "metadata": {},
     "output_type": "execute_result"
    }
   ],
   "source": [
    "ar2.shape # tells us about the shape\n",
    "# OUTPUT: (2,3) means there is 2 row and 3 columns"
   ]
  },
  {
   "cell_type": "code",
   "execution_count": 43,
   "id": "9ee3793c-a32c-4140-9ca6-26831f4c853f",
   "metadata": {},
   "outputs": [
    {
     "data": {
      "text/plain": [
       "array([1.3, 2.3, 3.3, 4.3, 5.3])"
      ]
     },
     "execution_count": 43,
     "metadata": {},
     "output_type": "execute_result"
    }
   ],
   "source": [
    "np.arange(1.3,5.6) # will generate floating numbers from 1.3 till 5.6 with jump = 1"
   ]
  },
  {
   "cell_type": "code",
   "execution_count": 44,
   "id": "2bdd4461-50b8-4714-9841-13299bb55cd0",
   "metadata": {},
   "outputs": [
    {
     "data": {
      "text/plain": [
       "array([1.3, 1.7, 2.1, 2.5, 2.9, 3.3, 3.7, 4.1, 4.5, 4.9, 5.3])"
      ]
     },
     "execution_count": 44,
     "metadata": {},
     "output_type": "execute_result"
    }
   ],
   "source": [
    "np.arange(1.3,5.6, 0.4) # will generate floating numbers from 1.3 till 5.6 with jump = 0.4"
   ]
  },
  {
   "cell_type": "code",
   "execution_count": 45,
   "id": "4d296112-4d55-4b53-bf4e-95bbe037e34a",
   "metadata": {},
   "outputs": [
    {
     "data": {
      "text/plain": [
       "[1.3,\n",
       " 1.7000000000000002,\n",
       " 2.1000000000000005,\n",
       " 2.5000000000000004,\n",
       " 2.9000000000000004,\n",
       " 3.3000000000000007,\n",
       " 3.700000000000001,\n",
       " 4.1000000000000005,\n",
       " 4.500000000000001,\n",
       " 4.900000000000001,\n",
       " 5.300000000000002]"
      ]
     },
     "execution_count": 45,
     "metadata": {},
     "output_type": "execute_result"
    }
   ],
   "source": [
    "list(np.arange(1.3,5.6, 0.4)) # will generate and store this in list"
   ]
  },
  {
   "cell_type": "code",
   "execution_count": 3,
   "id": "0e600b06-c426-4f67-8f32-b9296ab7ed74",
   "metadata": {},
   "outputs": [
    {
     "data": {
      "text/plain": [
       "array([1.        , 1.44444444, 1.88888889, 2.33333333, 2.77777778,\n",
       "       3.22222222, 3.66666667, 4.11111111, 4.55555556, 5.        ])"
      ]
     },
     "execution_count": 3,
     "metadata": {},
     "output_type": "execute_result"
    }
   ],
   "source": [
    "np.linspace(1,5,10) # will generate 10 data between 1 to 5 and sb equally divided hga"
   ]
  },
  {
   "cell_type": "code",
   "execution_count": 4,
   "id": "d671bf54-18f3-4338-9cb2-cfa899c61960",
   "metadata": {},
   "outputs": [
    {
     "data": {
      "text/plain": [
       "array([0., 0., 0., 0., 0.])"
      ]
     },
     "execution_count": 4,
     "metadata": {},
     "output_type": "execute_result"
    }
   ],
   "source": [
    "np.zeros(5) # WILL GENERATE 1-D ARRAY WITH 5 DATA ITEMS WHOSE VALUE = 0"
   ]
  },
  {
   "cell_type": "code",
   "execution_count": 6,
   "id": "60b1ec98-f850-463e-a09c-9e8a01406327",
   "metadata": {},
   "outputs": [
    {
     "data": {
      "text/plain": [
       "array([[0., 0., 0., 0.],\n",
       "       [0., 0., 0., 0.],\n",
       "       [0., 0., 0., 0.]])"
      ]
     },
     "execution_count": 6,
     "metadata": {},
     "output_type": "execute_result"
    }
   ],
   "source": [
    "np.zeros((3,4)) # will generate 2-d array (dimension = (3,4)) with all the values = 0"
   ]
  },
  {
   "cell_type": "code",
   "execution_count": 4,
   "id": "e9318566-0fc0-49e0-a591-e20279cdb8d7",
   "metadata": {},
   "outputs": [
    {
     "data": {
      "text/plain": [
       "array([[[0., 0.],\n",
       "        [0., 0.],\n",
       "        [0., 0.],\n",
       "        [0., 0.]],\n",
       "\n",
       "       [[0., 0.],\n",
       "        [0., 0.],\n",
       "        [0., 0.],\n",
       "        [0., 0.]],\n",
       "\n",
       "       [[0., 0.],\n",
       "        [0., 0.],\n",
       "        [0., 0.],\n",
       "        [0., 0.]]])"
      ]
     },
     "execution_count": 4,
     "metadata": {},
     "output_type": "execute_result"
    }
   ],
   "source": [
    "np.zeros((3,4,2)) # we have 4*2 , 3 such kind of arrays"
   ]
  },
  {
   "cell_type": "code",
   "execution_count": 6,
   "id": "78e6cc75-df31-4bf6-891e-b0ac214bc193",
   "metadata": {},
   "outputs": [
    {
     "data": {
      "text/plain": [
       "array([[[0., 0.],\n",
       "        [0., 0.]],\n",
       "\n",
       "       [[0., 0.],\n",
       "        [0., 0.]],\n",
       "\n",
       "       [[0., 0.],\n",
       "        [0., 0.]],\n",
       "\n",
       "       [[0., 0.],\n",
       "        [0., 0.]]])"
      ]
     },
     "execution_count": 6,
     "metadata": {},
     "output_type": "execute_result"
    }
   ],
   "source": [
    "np.zeros((4,2,2))"
   ]
  },
  {
   "cell_type": "code",
   "execution_count": 7,
   "id": "1cd727ba-d956-4598-923c-96f4a6c9bd12",
   "metadata": {},
   "outputs": [
    {
     "data": {
      "text/plain": [
       "array([1., 1., 1.])"
      ]
     },
     "execution_count": 7,
     "metadata": {},
     "output_type": "execute_result"
    }
   ],
   "source": [
    "np.ones(3)"
   ]
  },
  {
   "cell_type": "code",
   "execution_count": 9,
   "id": "b243a710-f60c-497f-91ce-21f5ec5239b9",
   "metadata": {},
   "outputs": [
    {
     "data": {
      "text/plain": [
       "array([[1., 1., 1.],\n",
       "       [1., 1., 1.]])"
      ]
     },
     "execution_count": 9,
     "metadata": {},
     "output_type": "execute_result"
    }
   ],
   "source": [
    "np.ones((2,3)) # will create 2*3 array"
   ]
  },
  {
   "cell_type": "code",
   "execution_count": 12,
   "id": "d1f1bc4f-f3f4-45f8-8d56-b59ded8bfd70",
   "metadata": {},
   "outputs": [],
   "source": [
    "on = np.ones((2,3,3)) # will create 3*3, 2 such kind of arrays"
   ]
  },
  {
   "cell_type": "code",
   "execution_count": 13,
   "id": "38c9c69f-7e9a-4079-af2b-0ae88bccd90f",
   "metadata": {},
   "outputs": [
    {
     "data": {
      "text/plain": [
       "array([[[6., 6., 6.],\n",
       "        [6., 6., 6.],\n",
       "        [6., 6., 6.]],\n",
       "\n",
       "       [[6., 6., 6.],\n",
       "        [6., 6., 6.],\n",
       "        [6., 6., 6.]]])"
      ]
     },
     "execution_count": 13,
     "metadata": {},
     "output_type": "execute_result"
    }
   ],
   "source": [
    "on + 5 # will add 5 to each of the element"
   ]
  },
  {
   "cell_type": "code",
   "execution_count": 14,
   "id": "764e1892-88ac-4cf6-baf5-7b6e8d0e7325",
   "metadata": {},
   "outputs": [
    {
     "data": {
      "text/plain": [
       "array([[[4., 4., 4.],\n",
       "        [4., 4., 4.],\n",
       "        [4., 4., 4.]],\n",
       "\n",
       "       [[4., 4., 4.],\n",
       "        [4., 4., 4.],\n",
       "        [4., 4., 4.]]])"
      ]
     },
     "execution_count": 14,
     "metadata": {},
     "output_type": "execute_result"
    }
   ],
   "source": [
    "on * 4 # will multiply each element with 4"
   ]
  },
  {
   "cell_type": "code",
   "execution_count": 16,
   "id": "ff83dfdb-1f4f-45ae-90a6-eff0742c6f3d",
   "metadata": {},
   "outputs": [
    {
     "data": {
      "text/plain": [
       "array([[1., 1., 1.],\n",
       "       [1., 1., 1.]])"
      ]
     },
     "execution_count": 16,
     "metadata": {},
     "output_type": "execute_result"
    }
   ],
   "source": [
    "np.empty((2,3)) # will create an empty array"
   ]
  },
  {
   "cell_type": "code",
   "execution_count": 18,
   "id": "25155aa5-1840-4b9c-b3fc-976305955e63",
   "metadata": {},
   "outputs": [
    {
     "data": {
      "text/plain": [
       "array([[1., 0., 0., 0.],\n",
       "       [0., 1., 0., 0.],\n",
       "       [0., 0., 1., 0.],\n",
       "       [0., 0., 0., 1.]])"
      ]
     },
     "execution_count": 18,
     "metadata": {},
     "output_type": "execute_result"
    }
   ],
   "source": [
    "np.eye(4) # will create an identity matrix of dimension 4"
   ]
  },
  {
   "cell_type": "code",
   "execution_count": 19,
   "id": "7999fd8a-120b-47a4-ad6f-38a9b3824faf",
   "metadata": {},
   "outputs": [
    {
     "data": {
      "text/plain": [
       "array([2.        , 2.33333333, 2.66666667, 3.        , 3.33333333,\n",
       "       3.66666667, 4.        , 4.33333333, 4.66666667, 5.        ])"
      ]
     },
     "execution_count": 19,
     "metadata": {},
     "output_type": "execute_result"
    }
   ],
   "source": [
    "np.linspace(2,5,10)"
   ]
  },
  {
   "cell_type": "code",
   "execution_count": 21,
   "id": "7cd221e3-8812-499c-9e15-0f37d8605a8e",
   "metadata": {},
   "outputs": [
    {
     "data": {
      "text/plain": [
       "array([ 4.        ,  5.0396842 ,  6.34960421,  8.        , 10.0793684 ,\n",
       "       12.69920842, 16.        , 20.1587368 , 25.39841683, 32.        ])"
      ]
     },
     "execution_count": 21,
     "metadata": {},
     "output_type": "execute_result"
    }
   ],
   "source": [
    "np.logspace(2,5,10,base=2) # similar to linspace but it will give logarithmic value"
   ]
  },
  {
   "cell_type": "code",
   "execution_count": 22,
   "id": "da16708b-d125-4db3-81b8-b9a9e4795e8c",
   "metadata": {},
   "outputs": [
    {
     "data": {
      "text/plain": [
       "array([[-0.51757098,  0.08160756, -0.78611662, -0.37363104],\n",
       "       [ 0.64425812, -0.96811879, -1.73056168, -0.35991192],\n",
       "       [-1.07800569,  1.1121852 ,  0.94478684, -1.37175688]])"
      ]
     },
     "execution_count": 22,
     "metadata": {},
     "output_type": "execute_result"
    }
   ],
   "source": [
    "\"Most use concept of Numpy\"\n",
    "np.random.randn(3,4) # will give array of size 3*4 with random values"
   ]
  },
  {
   "cell_type": "code",
   "execution_count": 23,
   "id": "7ed6086f-c2df-498d-b108-c553afe976aa",
   "metadata": {},
   "outputs": [],
   "source": [
    "arr = np.random.randn(2,3)"
   ]
  },
  {
   "cell_type": "code",
   "execution_count": 4,
   "id": "02b19e7c-e4e6-4568-9ca6-db81a830fbab",
   "metadata": {},
   "outputs": [],
   "source": [
    "import pandas as pd"
   ]
  },
  {
   "cell_type": "code",
   "execution_count": 26,
   "id": "f5e16702-d791-4458-a381-a7e3298c6b9b",
   "metadata": {},
   "outputs": [
    {
     "data": {
      "text/html": [
       "<div>\n",
       "<style scoped>\n",
       "    .dataframe tbody tr th:only-of-type {\n",
       "        vertical-align: middle;\n",
       "    }\n",
       "\n",
       "    .dataframe tbody tr th {\n",
       "        vertical-align: top;\n",
       "    }\n",
       "\n",
       "    .dataframe thead th {\n",
       "        text-align: right;\n",
       "    }\n",
       "</style>\n",
       "<table border=\"1\" class=\"dataframe\">\n",
       "  <thead>\n",
       "    <tr style=\"text-align: right;\">\n",
       "      <th></th>\n",
       "      <th>0</th>\n",
       "      <th>1</th>\n",
       "      <th>2</th>\n",
       "    </tr>\n",
       "  </thead>\n",
       "  <tbody>\n",
       "    <tr>\n",
       "      <th>0</th>\n",
       "      <td>0.210804</td>\n",
       "      <td>1.809304</td>\n",
       "      <td>0.458003</td>\n",
       "    </tr>\n",
       "    <tr>\n",
       "      <th>1</th>\n",
       "      <td>-0.254013</td>\n",
       "      <td>-0.459779</td>\n",
       "      <td>-0.337131</td>\n",
       "    </tr>\n",
       "  </tbody>\n",
       "</table>\n",
       "</div>"
      ],
      "text/plain": [
       "          0         1         2\n",
       "0  0.210804  1.809304  0.458003\n",
       "1 -0.254013 -0.459779 -0.337131"
      ]
     },
     "execution_count": 26,
     "metadata": {},
     "output_type": "execute_result"
    }
   ],
   "source": [
    "pd.DataFrame(arr)"
   ]
  },
  {
   "cell_type": "code",
   "execution_count": 27,
   "id": "35b74845-9722-4c28-ab5b-4aaafa45b1f3",
   "metadata": {},
   "outputs": [
    {
     "data": {
      "text/plain": [
       "array([[0.8508673 , 0.80112106, 0.46282118, 0.86716077],\n",
       "       [0.04091731, 0.8608774 , 0.46877952, 0.6587793 ],\n",
       "       [0.21011103, 0.79688254, 0.9042691 , 0.7625014 ]])"
      ]
     },
     "execution_count": 27,
     "metadata": {},
     "output_type": "execute_result"
    }
   ],
   "source": [
    "np.random.rand(3,4)"
   ]
  },
  {
   "cell_type": "code",
   "execution_count": null,
   "id": "5d7f641a-8acd-4152-aa61-2a5a4f9a1edf",
   "metadata": {},
   "outputs": [],
   "source": [
    "\"\"\"\n",
    "Understand difference between 'randn' & 'rand' function in Numpy\n",
    "\"\"\""
   ]
  },
  {
   "cell_type": "code",
   "execution_count": 30,
   "id": "5790c3cc-62ae-4b3e-9e3b-c68b316d4164",
   "metadata": {},
   "outputs": [
    {
     "data": {
      "text/plain": [
       "array([[55, 61,  7, 93],\n",
       "       [37, 28, 95,  6],\n",
       "       [15,  6, 42, 75]])"
      ]
     },
     "execution_count": 30,
     "metadata": {},
     "output_type": "execute_result"
    }
   ],
   "source": [
    "np.random.randint(1,100,(3,4)) # will give integer between 1 and 100 and fill it in 3*4 array"
   ]
  },
  {
   "cell_type": "code",
   "execution_count": 5,
   "id": "306c2805-db8e-4065-b702-1330585a8b6e",
   "metadata": {},
   "outputs": [
    {
     "data": {
      "text/html": [
       "<div>\n",
       "<style scoped>\n",
       "    .dataframe tbody tr th:only-of-type {\n",
       "        vertical-align: middle;\n",
       "    }\n",
       "\n",
       "    .dataframe tbody tr th {\n",
       "        vertical-align: top;\n",
       "    }\n",
       "\n",
       "    .dataframe thead th {\n",
       "        text-align: right;\n",
       "    }\n",
       "</style>\n",
       "<table border=\"1\" class=\"dataframe\">\n",
       "  <thead>\n",
       "    <tr style=\"text-align: right;\">\n",
       "      <th></th>\n",
       "      <th>0</th>\n",
       "      <th>1</th>\n",
       "      <th>2</th>\n",
       "      <th>3</th>\n",
       "      <th>4</th>\n",
       "      <th>5</th>\n",
       "      <th>6</th>\n",
       "      <th>7</th>\n",
       "      <th>8</th>\n",
       "      <th>9</th>\n",
       "    </tr>\n",
       "  </thead>\n",
       "  <tbody>\n",
       "    <tr>\n",
       "      <th>0</th>\n",
       "      <td>56</td>\n",
       "      <td>82</td>\n",
       "      <td>18</td>\n",
       "      <td>43</td>\n",
       "      <td>99</td>\n",
       "      <td>57</td>\n",
       "      <td>57</td>\n",
       "      <td>85</td>\n",
       "      <td>3</td>\n",
       "      <td>73</td>\n",
       "    </tr>\n",
       "    <tr>\n",
       "      <th>1</th>\n",
       "      <td>95</td>\n",
       "      <td>92</td>\n",
       "      <td>60</td>\n",
       "      <td>97</td>\n",
       "      <td>21</td>\n",
       "      <td>12</td>\n",
       "      <td>35</td>\n",
       "      <td>86</td>\n",
       "      <td>63</td>\n",
       "      <td>72</td>\n",
       "    </tr>\n",
       "    <tr>\n",
       "      <th>2</th>\n",
       "      <td>85</td>\n",
       "      <td>74</td>\n",
       "      <td>50</td>\n",
       "      <td>99</td>\n",
       "      <td>82</td>\n",
       "      <td>2</td>\n",
       "      <td>34</td>\n",
       "      <td>93</td>\n",
       "      <td>91</td>\n",
       "      <td>73</td>\n",
       "    </tr>\n",
       "    <tr>\n",
       "      <th>3</th>\n",
       "      <td>80</td>\n",
       "      <td>65</td>\n",
       "      <td>63</td>\n",
       "      <td>21</td>\n",
       "      <td>26</td>\n",
       "      <td>72</td>\n",
       "      <td>57</td>\n",
       "      <td>22</td>\n",
       "      <td>70</td>\n",
       "      <td>59</td>\n",
       "    </tr>\n",
       "    <tr>\n",
       "      <th>4</th>\n",
       "      <td>99</td>\n",
       "      <td>84</td>\n",
       "      <td>3</td>\n",
       "      <td>84</td>\n",
       "      <td>98</td>\n",
       "      <td>93</td>\n",
       "      <td>95</td>\n",
       "      <td>63</td>\n",
       "      <td>92</td>\n",
       "      <td>32</td>\n",
       "    </tr>\n",
       "    <tr>\n",
       "      <th>5</th>\n",
       "      <td>61</td>\n",
       "      <td>35</td>\n",
       "      <td>58</td>\n",
       "      <td>6</td>\n",
       "      <td>53</td>\n",
       "      <td>85</td>\n",
       "      <td>3</td>\n",
       "      <td>63</td>\n",
       "      <td>1</td>\n",
       "      <td>23</td>\n",
       "    </tr>\n",
       "    <tr>\n",
       "      <th>6</th>\n",
       "      <td>37</td>\n",
       "      <td>11</td>\n",
       "      <td>53</td>\n",
       "      <td>31</td>\n",
       "      <td>17</td>\n",
       "      <td>70</td>\n",
       "      <td>12</td>\n",
       "      <td>1</td>\n",
       "      <td>99</td>\n",
       "      <td>2</td>\n",
       "    </tr>\n",
       "    <tr>\n",
       "      <th>7</th>\n",
       "      <td>4</td>\n",
       "      <td>61</td>\n",
       "      <td>36</td>\n",
       "      <td>38</td>\n",
       "      <td>98</td>\n",
       "      <td>78</td>\n",
       "      <td>85</td>\n",
       "      <td>33</td>\n",
       "      <td>68</td>\n",
       "      <td>85</td>\n",
       "    </tr>\n",
       "    <tr>\n",
       "      <th>8</th>\n",
       "      <td>45</td>\n",
       "      <td>14</td>\n",
       "      <td>13</td>\n",
       "      <td>38</td>\n",
       "      <td>94</td>\n",
       "      <td>41</td>\n",
       "      <td>35</td>\n",
       "      <td>39</td>\n",
       "      <td>45</td>\n",
       "      <td>50</td>\n",
       "    </tr>\n",
       "    <tr>\n",
       "      <th>9</th>\n",
       "      <td>93</td>\n",
       "      <td>85</td>\n",
       "      <td>13</td>\n",
       "      <td>15</td>\n",
       "      <td>90</td>\n",
       "      <td>62</td>\n",
       "      <td>65</td>\n",
       "      <td>87</td>\n",
       "      <td>6</td>\n",
       "      <td>94</td>\n",
       "    </tr>\n",
       "  </tbody>\n",
       "</table>\n",
       "</div>"
      ],
      "text/plain": [
       "    0   1   2   3   4   5   6   7   8   9\n",
       "0  56  82  18  43  99  57  57  85   3  73\n",
       "1  95  92  60  97  21  12  35  86  63  72\n",
       "2  85  74  50  99  82   2  34  93  91  73\n",
       "3  80  65  63  21  26  72  57  22  70  59\n",
       "4  99  84   3  84  98  93  95  63  92  32\n",
       "5  61  35  58   6  53  85   3  63   1  23\n",
       "6  37  11  53  31  17  70  12   1  99   2\n",
       "7   4  61  36  38  98  78  85  33  68  85\n",
       "8  45  14  13  38  94  41  35  39  45  50\n",
       "9  93  85  13  15  90  62  65  87   6  94"
      ]
     },
     "execution_count": 5,
     "metadata": {},
     "output_type": "execute_result"
    }
   ],
   "source": [
    "pd.DataFrame(np.random.randint(1,100,(10,10))) # will generate array between 1 & 100 of size 10*10 and convert it into data frame"
   ]
  },
  {
   "cell_type": "code",
   "execution_count": 6,
   "id": "b7f08a97-f1cb-491a-bcab-e41b4768469f",
   "metadata": {},
   "outputs": [],
   "source": [
    "arr = np.random.randint(1,100,(3,4))"
   ]
  },
  {
   "cell_type": "code",
   "execution_count": 7,
   "id": "00e288e7-1657-4ef8-8a3e-80d7a5880230",
   "metadata": {},
   "outputs": [
    {
     "data": {
      "text/plain": [
       "array([[39, 24, 54, 24],\n",
       "       [39, 60, 51, 57],\n",
       "       [63, 57, 57, 13]])"
      ]
     },
     "execution_count": 7,
     "metadata": {},
     "output_type": "execute_result"
    }
   ],
   "source": [
    "arr"
   ]
  },
  {
   "cell_type": "code",
   "execution_count": 8,
   "id": "0273a6a3-8f51-4662-a523-f6015cedb6a3",
   "metadata": {},
   "outputs": [
    {
     "data": {
      "text/plain": [
       "array([[39, 24],\n",
       "       [54, 24],\n",
       "       [39, 60],\n",
       "       [51, 57],\n",
       "       [63, 57],\n",
       "       [57, 13]])"
      ]
     },
     "execution_count": 8,
     "metadata": {},
     "output_type": "execute_result"
    }
   ],
   "source": [
    "arr.reshape(6,2) # will reshape \"arr\" array into 6 rows and 2 columns"
   ]
  },
  {
   "cell_type": "code",
   "execution_count": 9,
   "id": "62ad86c5-3532-4b15-8194-4a7c0c265fbd",
   "metadata": {},
   "outputs": [],
   "source": [
    "arr1 = np.random.randint(1,100,(5,5))"
   ]
  },
  {
   "cell_type": "code",
   "execution_count": 10,
   "id": "aabcfe7b-d080-4832-9cd8-0a30ef81b5c0",
   "metadata": {},
   "outputs": [
    {
     "data": {
      "text/plain": [
       "array([[94, 66, 30, 21, 82],\n",
       "       [85, 78, 38, 80, 37],\n",
       "       [79, 37, 55, 33,  8],\n",
       "       [44,  6, 14, 20,  1],\n",
       "       [71, 69, 30, 20, 32]])"
      ]
     },
     "execution_count": 10,
     "metadata": {},
     "output_type": "execute_result"
    }
   ],
   "source": [
    "arr1"
   ]
  },
  {
   "cell_type": "code",
   "execution_count": 11,
   "id": "bb18be22-922e-4e5e-980d-dbe96f8efbf8",
   "metadata": {},
   "outputs": [
    {
     "data": {
      "text/plain": [
       "array([[ True,  True, False, False,  True],\n",
       "       [ True,  True, False,  True, False],\n",
       "       [ True, False,  True, False, False],\n",
       "       [False, False, False, False, False],\n",
       "       [ True,  True, False, False, False]])"
      ]
     },
     "execution_count": 11,
     "metadata": {},
     "output_type": "execute_result"
    }
   ],
   "source": [
    "arr1>50 # will show data in arr1 where arr1 value is > 50"
   ]
  },
  {
   "cell_type": "code",
   "execution_count": 12,
   "id": "97a7a2b5-232d-4335-976b-21ed17a43abe",
   "metadata": {},
   "outputs": [
    {
     "data": {
      "text/plain": [
       "array([94, 66, 82, 85, 78, 80, 79, 55, 71, 69])"
      ]
     },
     "execution_count": 12,
     "metadata": {},
     "output_type": "execute_result"
    }
   ],
   "source": [
    "arr1[arr1>50] # will return only those value which is greater than 50"
   ]
  },
  {
   "cell_type": "code",
   "execution_count": 13,
   "id": "54bbb8ec-391b-4daf-b036-23e481842662",
   "metadata": {},
   "outputs": [
    {
     "data": {
      "text/plain": [
       "array([[94, 66, 30, 21, 82],\n",
       "       [85, 78, 38, 80, 37],\n",
       "       [79, 37, 55, 33,  8],\n",
       "       [44,  6, 14, 20,  1],\n",
       "       [71, 69, 30, 20, 32]])"
      ]
     },
     "execution_count": 13,
     "metadata": {},
     "output_type": "execute_result"
    }
   ],
   "source": [
    "arr1"
   ]
  },
  {
   "cell_type": "code",
   "execution_count": 15,
   "id": "6f63f8f9-e25f-4979-9d58-227d45876678",
   "metadata": {},
   "outputs": [
    {
     "data": {
      "text/plain": [
       "array([[37, 55],\n",
       "       [ 6, 14]])"
      ]
     },
     "execution_count": 15,
     "metadata": {},
     "output_type": "execute_result"
    }
   ],
   "source": [
    "# we want to data from 2 & 3 rows and 1st & 2nd column only\n",
    "arr1[2:4,[1,2]] # slicing"
   ]
  },
  {
   "cell_type": "code",
   "execution_count": 16,
   "id": "696354e2-e0bd-45df-9cec-2525ab6bcbdd",
   "metadata": {},
   "outputs": [
    {
     "data": {
      "text/plain": [
       "94"
      ]
     },
     "execution_count": 16,
     "metadata": {},
     "output_type": "execute_result"
    }
   ],
   "source": [
    "arr1[0][0]"
   ]
  },
  {
   "cell_type": "code",
   "execution_count": 17,
   "id": "c281746b-fb0f-4f26-b736-abe5f305e4de",
   "metadata": {},
   "outputs": [],
   "source": [
    "arr1[0][0] = 500 # manipulating data in an array"
   ]
  },
  {
   "cell_type": "code",
   "execution_count": 18,
   "id": "6ecaa921-8e76-4aea-9e85-c12ea12745e0",
   "metadata": {},
   "outputs": [
    {
     "data": {
      "text/plain": [
       "array([[500,  66,  30,  21,  82],\n",
       "       [ 85,  78,  38,  80,  37],\n",
       "       [ 79,  37,  55,  33,   8],\n",
       "       [ 44,   6,  14,  20,   1],\n",
       "       [ 71,  69,  30,  20,  32]])"
      ]
     },
     "execution_count": 18,
     "metadata": {},
     "output_type": "execute_result"
    }
   ],
   "source": [
    "arr1"
   ]
  },
  {
   "cell_type": "code",
   "execution_count": 19,
   "id": "0abf478f-70e3-4520-87f7-206cf7e8e271",
   "metadata": {},
   "outputs": [],
   "source": [
    "a1 = np.random.randint(1,5,(3,3))\n",
    "a2 = np.random.randint(1,5,(3,3))"
   ]
  },
  {
   "cell_type": "code",
   "execution_count": 20,
   "id": "bbde8714-28bb-4cf9-88ac-fdd644cfd4b9",
   "metadata": {},
   "outputs": [
    {
     "data": {
      "text/plain": [
       "array([[4, 4, 4],\n",
       "       [2, 3, 4],\n",
       "       [3, 1, 2]])"
      ]
     },
     "execution_count": 20,
     "metadata": {},
     "output_type": "execute_result"
    }
   ],
   "source": [
    "a1"
   ]
  },
  {
   "cell_type": "code",
   "execution_count": 21,
   "id": "4d3516a8-6324-4865-9308-55867db9c002",
   "metadata": {},
   "outputs": [
    {
     "data": {
      "text/plain": [
       "array([[3, 3, 4],\n",
       "       [2, 2, 3],\n",
       "       [1, 2, 1]])"
      ]
     },
     "execution_count": 21,
     "metadata": {},
     "output_type": "execute_result"
    }
   ],
   "source": [
    "a2"
   ]
  },
  {
   "cell_type": "code",
   "execution_count": 22,
   "id": "ca930847-800e-447d-82e9-49cb01e06141",
   "metadata": {},
   "outputs": [
    {
     "data": {
      "text/plain": [
       "array([[7, 7, 8],\n",
       "       [4, 5, 7],\n",
       "       [4, 3, 3]])"
      ]
     },
     "execution_count": 22,
     "metadata": {},
     "output_type": "execute_result"
    }
   ],
   "source": [
    "a1+a2 # will sum both the array"
   ]
  },
  {
   "cell_type": "code",
   "execution_count": 23,
   "id": "ede71539-65b6-4dc9-bf85-658c8b57fb9d",
   "metadata": {},
   "outputs": [
    {
     "data": {
      "text/plain": [
       "array([[ 1,  1,  0],\n",
       "       [ 0,  1,  1],\n",
       "       [ 2, -1,  1]])"
      ]
     },
     "execution_count": 23,
     "metadata": {},
     "output_type": "execute_result"
    }
   ],
   "source": [
    "a1-a2"
   ]
  },
  {
   "cell_type": "code",
   "execution_count": 24,
   "id": "1cc67ef5-7470-421b-8751-652683fd4b98",
   "metadata": {},
   "outputs": [
    {
     "data": {
      "text/plain": [
       "array([[1.33333333, 1.33333333, 1.        ],\n",
       "       [1.        , 1.5       , 1.33333333],\n",
       "       [3.        , 0.5       , 2.        ]])"
      ]
     },
     "execution_count": 24,
     "metadata": {},
     "output_type": "execute_result"
    }
   ],
   "source": [
    "a1/a2"
   ]
  },
  {
   "cell_type": "code",
   "execution_count": 25,
   "id": "d563e3a8-279a-408c-bc6c-c0ea8759cf79",
   "metadata": {},
   "outputs": [
    {
     "data": {
      "text/plain": [
       "array([[12, 12, 16],\n",
       "       [ 4,  6, 12],\n",
       "       [ 3,  2,  2]])"
      ]
     },
     "execution_count": 25,
     "metadata": {},
     "output_type": "execute_result"
    }
   ],
   "source": [
    "a1*a2 # this is simple index multiplication and not a matrix multiplication"
   ]
  },
  {
   "cell_type": "code",
   "execution_count": 26,
   "id": "28f48d85-da78-41d1-8a1e-c9955999141e",
   "metadata": {},
   "outputs": [
    {
     "data": {
      "text/plain": [
       "array([[24, 28, 32],\n",
       "       [16, 20, 21],\n",
       "       [13, 15, 17]])"
      ]
     },
     "execution_count": 26,
     "metadata": {},
     "output_type": "execute_result"
    }
   ],
   "source": [
    "a1@a2 # this will give matrix multiplication"
   ]
  },
  {
   "cell_type": "code",
   "execution_count": 27,
   "id": "70fdb319-4d60-4cae-b098-e6eba435d391",
   "metadata": {},
   "outputs": [
    {
     "data": {
      "text/plain": [
       "array([[104, 104, 104],\n",
       "       [102, 103, 104],\n",
       "       [103, 101, 102]])"
      ]
     },
     "execution_count": 27,
     "metadata": {},
     "output_type": "execute_result"
    }
   ],
   "source": [
    "a1 + 100 # will add 100 to each element of array"
   ]
  },
  {
   "cell_type": "code",
   "execution_count": 28,
   "id": "c0b512be-a2aa-4e99-8e9b-6f5ef36da424",
   "metadata": {},
   "outputs": [
    {
     "data": {
      "text/plain": [
       "array([[16, 16, 16],\n",
       "       [ 4,  9, 16],\n",
       "       [ 9,  1,  4]])"
      ]
     },
     "execution_count": 28,
     "metadata": {},
     "output_type": "execute_result"
    }
   ],
   "source": [
    "a1 ** 2 # sbka power 2 se badha dega"
   ]
  },
  {
   "cell_type": "code",
   "execution_count": 66,
   "id": "f514dbeb-5f11-4f30-bf69-a84a1ab4be6d",
   "metadata": {},
   "outputs": [
    {
     "data": {
      "text/plain": [
       "array([[-5, -5, -5],\n",
       "       [-3, -4, -5],\n",
       "       [-4, -2, -3]])"
      ]
     },
     "execution_count": 66,
     "metadata": {},
     "output_type": "execute_result"
    }
   ],
   "source": [
    "~a1 # negation of a1"
   ]
  },
  {
   "cell_type": "code",
   "execution_count": 67,
   "id": "0305de35-3cdd-4b42-914b-77ab831a4840",
   "metadata": {},
   "outputs": [
    {
     "data": {
      "text/plain": [
       "array([[ True,  True, False],\n",
       "       [False,  True,  True],\n",
       "       [ True, False,  True]])"
      ]
     },
     "execution_count": 67,
     "metadata": {},
     "output_type": "execute_result"
    }
   ],
   "source": [
    "a1>a2"
   ]
  },
  {
   "cell_type": "code",
   "execution_count": 29,
   "id": "f7df892b-f476-46d3-ba62-296a8e5d037e",
   "metadata": {},
   "outputs": [],
   "source": [
    "# NUMPY - BROADCASTING"
   ]
  },
  {
   "cell_type": "code",
   "execution_count": 39,
   "id": "db88b509-73aa-496a-8a68-1376a3413071",
   "metadata": {},
   "outputs": [],
   "source": [
    "a3 = np.zeros((3,3))"
   ]
  },
  {
   "cell_type": "code",
   "execution_count": 40,
   "id": "69aa8d91-0558-4458-8589-17e3ced3a555",
   "metadata": {},
   "outputs": [
    {
     "data": {
      "text/plain": [
       "array([[0., 0., 0.],\n",
       "       [0., 0., 0.],\n",
       "       [0., 0., 0.]])"
      ]
     },
     "execution_count": 40,
     "metadata": {},
     "output_type": "execute_result"
    }
   ],
   "source": [
    "a3"
   ]
  },
  {
   "cell_type": "code",
   "execution_count": 41,
   "id": "897d4317-7689-447f-b4ed-3a24f76bc06a",
   "metadata": {},
   "outputs": [],
   "source": [
    "row = np.array([1,2,3])"
   ]
  },
  {
   "cell_type": "code",
   "execution_count": 42,
   "id": "5f04c4a7-1f2f-4858-962e-c41f1141f5fb",
   "metadata": {},
   "outputs": [
    {
     "data": {
      "text/plain": [
       "array([1, 2, 3])"
      ]
     },
     "execution_count": 42,
     "metadata": {},
     "output_type": "execute_result"
    }
   ],
   "source": [
    "row"
   ]
  },
  {
   "cell_type": "code",
   "execution_count": 43,
   "id": "10f4883a-82bb-4179-98df-b11a7a1e29c5",
   "metadata": {},
   "outputs": [
    {
     "data": {
      "text/plain": [
       "array([[1., 2., 3.],\n",
       "       [1., 2., 3.],\n",
       "       [1., 2., 3.]])"
      ]
     },
     "execution_count": 43,
     "metadata": {},
     "output_type": "execute_result"
    }
   ],
   "source": [
    "a3 + row # will add row to each row of a3 array and this is known as broadcasting"
   ]
  },
  {
   "cell_type": "code",
   "execution_count": 44,
   "id": "1d56e76a-a591-45e7-951c-697f05defa44",
   "metadata": {},
   "outputs": [],
   "source": [
    "a4 = np.random.randint(1,4,(3,3))"
   ]
  },
  {
   "cell_type": "code",
   "execution_count": 45,
   "id": "3f1fb8fe-4b98-4e86-9476-8b520ca106d8",
   "metadata": {},
   "outputs": [
    {
     "data": {
      "text/plain": [
       "array([[1.        , 1.41421356, 1.73205081],\n",
       "       [1.41421356, 1.        , 1.        ],\n",
       "       [1.        , 1.41421356, 1.        ]])"
      ]
     },
     "execution_count": 45,
     "metadata": {},
     "output_type": "execute_result"
    }
   ],
   "source": [
    "np.sqrt(a4) # will find sqrt of each element is array"
   ]
  },
  {
   "cell_type": "code",
   "execution_count": 46,
   "id": "c5fb663f-716c-4924-8d26-5704ebc02703",
   "metadata": {},
   "outputs": [
    {
     "data": {
      "text/plain": [
       "'\\nNumpy: Part-2\\n'"
      ]
     },
     "execution_count": 46,
     "metadata": {},
     "output_type": "execute_result"
    }
   ],
   "source": [
    "\"\"\"\n",
    "Numpy: Part-2\n",
    "\"\"\""
   ]
  },
  {
   "cell_type": "code",
   "execution_count": null,
   "id": "60330b1b-dcc4-44a2-9aa0-877e3cd6521f",
   "metadata": {},
   "outputs": [],
   "source": [
    "# MANIPULATING ARRAY"
   ]
  },
  {
   "cell_type": "code",
   "execution_count": 47,
   "id": "2936d94b-48f3-48f9-8633-47cd9adb4c2f",
   "metadata": {},
   "outputs": [],
   "source": [
    "arr = np.random.randint(1,10,(3,4))"
   ]
  },
  {
   "cell_type": "code",
   "execution_count": 48,
   "id": "e833229c-f802-4f71-8f48-eafef8dda1e6",
   "metadata": {},
   "outputs": [
    {
     "data": {
      "text/plain": [
       "array([[2, 7, 6, 2],\n",
       "       [5, 7, 1, 3],\n",
       "       [4, 6, 4, 3]])"
      ]
     },
     "execution_count": 48,
     "metadata": {},
     "output_type": "execute_result"
    }
   ],
   "source": [
    "arr"
   ]
  },
  {
   "cell_type": "code",
   "execution_count": null,
   "id": "2e5a5390-0919-41b7-a760-d21cea15fa20",
   "metadata": {},
   "outputs": [],
   "source": [
    "# now we want to reshape our array\n",
    "# there is 3 rows and 4 columns & their multiplication is 12\n",
    "# In order to reshape it one condition must satisfy\n",
    "# Condition: multiplication of rows and columns must be 12"
   ]
  },
  {
   "cell_type": "code",
   "execution_count": 49,
   "id": "f6803a22-cd6b-4176-9857-734d4a1e400b",
   "metadata": {},
   "outputs": [
    {
     "data": {
      "text/plain": [
       "array([[2, 7, 6, 2, 5, 7],\n",
       "       [1, 3, 4, 6, 4, 3]])"
      ]
     },
     "execution_count": 49,
     "metadata": {},
     "output_type": "execute_result"
    }
   ],
   "source": [
    "arr.reshape(2,6) # 2*6 = 12"
   ]
  },
  {
   "cell_type": "code",
   "execution_count": 50,
   "id": "49768389-6fc2-413d-b26f-b48325b0e395",
   "metadata": {},
   "outputs": [
    {
     "data": {
      "text/plain": [
       "array([[2, 7, 6],\n",
       "       [2, 5, 7],\n",
       "       [1, 3, 4],\n",
       "       [6, 4, 3]])"
      ]
     },
     "execution_count": 50,
     "metadata": {},
     "output_type": "execute_result"
    }
   ],
   "source": [
    "arr.reshape(4,3) # 4*3 = 12"
   ]
  },
  {
   "cell_type": "code",
   "execution_count": 51,
   "id": "3cd55f6c-4d74-4d38-99ed-d048d738c125",
   "metadata": {},
   "outputs": [
    {
     "data": {
      "text/plain": [
       "array([[2, 5, 4],\n",
       "       [7, 7, 6],\n",
       "       [6, 1, 4],\n",
       "       [2, 3, 3]])"
      ]
     },
     "execution_count": 51,
     "metadata": {},
     "output_type": "execute_result"
    }
   ],
   "source": [
    "# Transposing an array\n",
    "arr.T"
   ]
  },
  {
   "cell_type": "code",
   "execution_count": 53,
   "id": "161901a5-af18-426d-bf5c-d49ed26be91e",
   "metadata": {},
   "outputs": [
    {
     "data": {
      "text/plain": [
       "array([2, 7, 6, 2, 5, 7, 1, 3, 4, 6, 4, 3])"
      ]
     },
     "execution_count": 53,
     "metadata": {},
     "output_type": "execute_result"
    }
   ],
   "source": [
    "arr.flatten()"
   ]
  },
  {
   "cell_type": "code",
   "execution_count": 54,
   "id": "af417075-76fe-4f09-9eec-a9f871092f84",
   "metadata": {},
   "outputs": [],
   "source": [
    "arr1 = np.random.randint(1,10,(3,4))"
   ]
  },
  {
   "cell_type": "code",
   "execution_count": 55,
   "id": "d8e7245b-f12a-4435-a4ee-0cfefb3fd3e9",
   "metadata": {},
   "outputs": [
    {
     "data": {
      "text/plain": [
       "array([[4, 5, 5, 7],\n",
       "       [8, 9, 5, 8],\n",
       "       [6, 8, 5, 2]])"
      ]
     },
     "execution_count": 55,
     "metadata": {},
     "output_type": "execute_result"
    }
   ],
   "source": [
    "arr1"
   ]
  },
  {
   "cell_type": "code",
   "execution_count": 56,
   "id": "d0336fc2-e819-4313-b171-6cf3f6a3434c",
   "metadata": {},
   "outputs": [
    {
     "data": {
      "text/plain": [
       "2"
      ]
     },
     "execution_count": 56,
     "metadata": {},
     "output_type": "execute_result"
    }
   ],
   "source": [
    "arr1.ndim"
   ]
  },
  {
   "cell_type": "code",
   "execution_count": 57,
   "id": "72d4a4b5-dbb0-420a-9b94-c9ae86c26186",
   "metadata": {},
   "outputs": [
    {
     "data": {
      "text/plain": [
       "array([[[4, 5, 5, 7]],\n",
       "\n",
       "       [[8, 9, 5, 8]],\n",
       "\n",
       "       [[6, 8, 5, 2]]])"
      ]
     },
     "execution_count": 57,
     "metadata": {},
     "output_type": "execute_result"
    }
   ],
   "source": [
    "np.expand_dims(arr1,axis = 1) # will increase dimension by 1 and axis = 1 means along columns"
   ]
  },
  {
   "cell_type": "code",
   "execution_count": 58,
   "id": "6415faff-aaff-4bb2-a202-0173e62c6669",
   "metadata": {},
   "outputs": [
    {
     "data": {
      "text/plain": [
       "array([[[4, 5, 5, 7],\n",
       "        [8, 9, 5, 8],\n",
       "        [6, 8, 5, 2]]])"
      ]
     },
     "execution_count": 58,
     "metadata": {},
     "output_type": "execute_result"
    }
   ],
   "source": [
    "np.expand_dims(arr1,axis = 0) # will increase dimension by 1 and axis = 0 means along rows"
   ]
  },
  {
   "cell_type": "code",
   "execution_count": 60,
   "id": "ec6da40b-687e-4623-b076-ed8ca0e6c655",
   "metadata": {},
   "outputs": [],
   "source": [
    "data = np.array([[1],[2],[3]])"
   ]
  },
  {
   "cell_type": "code",
   "execution_count": 61,
   "id": "d4b8e6de-4e0c-471e-90fe-5ba0ecf49a6d",
   "metadata": {},
   "outputs": [
    {
     "data": {
      "text/plain": [
       "array([[1],\n",
       "       [2],\n",
       "       [3]])"
      ]
     },
     "execution_count": 61,
     "metadata": {},
     "output_type": "execute_result"
    }
   ],
   "source": [
    "data"
   ]
  },
  {
   "cell_type": "code",
   "execution_count": 62,
   "id": "ddf08d49-7b56-44fe-a82d-46bf267e2be3",
   "metadata": {},
   "outputs": [
    {
     "data": {
      "text/plain": [
       "array([1, 2, 3])"
      ]
     },
     "execution_count": 62,
     "metadata": {},
     "output_type": "execute_result"
    }
   ],
   "source": [
    "np.squeeze(data) # will reduce dimension"
   ]
  },
  {
   "cell_type": "code",
   "execution_count": 65,
   "id": "1dbc807b-e4a7-4736-882d-4dad72f8e6a8",
   "metadata": {},
   "outputs": [
    {
     "data": {
      "text/plain": [
       "array([[1, 0, 0, 0],\n",
       "       [0, 2, 0, 0],\n",
       "       [0, 0, 3, 0],\n",
       "       [0, 0, 0, 4]])"
      ]
     },
     "execution_count": 65,
     "metadata": {},
     "output_type": "execute_result"
    }
   ],
   "source": [
    "np.diag(np.array([1,2,3,4])) # diagonal element set kr dega"
   ]
  },
  {
   "cell_type": "code",
   "execution_count": null,
   "id": "342135ae-18ac-4140-a0bb-aca93349a2a8",
   "metadata": {},
   "outputs": [],
   "source": [
    "# NUMPY - STRING FUNCTIONS"
   ]
  },
  {
   "cell_type": "code",
   "execution_count": 68,
   "id": "c3a621a9-d0e2-4a0b-9c07-d97dd4fdd447",
   "metadata": {},
   "outputs": [],
   "source": [
    "arr = np.array(['ayan','khan'])"
   ]
  },
  {
   "cell_type": "code",
   "execution_count": 70,
   "id": "ee9cecc0-937b-4b31-bc4f-7b370aed0fa3",
   "metadata": {},
   "outputs": [
    {
     "data": {
      "text/plain": [
       "array(['ayan', 'khan'], dtype='<U4')"
      ]
     },
     "execution_count": 70,
     "metadata": {},
     "output_type": "execute_result"
    }
   ],
   "source": [
    "arr"
   ]
  },
  {
   "cell_type": "code",
   "execution_count": 71,
   "id": "b75199c4-035b-4e63-aa8e-021d4012551d",
   "metadata": {},
   "outputs": [
    {
     "data": {
      "text/plain": [
       "array(['AYAN', 'KHAN'], dtype='<U4')"
      ]
     },
     "execution_count": 71,
     "metadata": {},
     "output_type": "execute_result"
    }
   ],
   "source": [
    "np.char.upper(arr) # sbko upper case mein convert kr dega"
   ]
  },
  {
   "cell_type": "code",
   "execution_count": 72,
   "id": "ea40e456-aff4-40a6-a0bb-7fb596921d16",
   "metadata": {},
   "outputs": [
    {
     "data": {
      "text/plain": [
       "array(['Ayan', 'Khan'], dtype='<U4')"
      ]
     },
     "execution_count": 72,
     "metadata": {},
     "output_type": "execute_result"
    }
   ],
   "source": [
    "np.char.title(arr)"
   ]
  },
  {
   "cell_type": "code",
   "execution_count": 73,
   "id": "7add6241-f644-418c-9367-848ce4b867f6",
   "metadata": {},
   "outputs": [
    {
     "data": {
      "text/plain": [
       "array(['Ayan', 'Khan'], dtype='<U4')"
      ]
     },
     "execution_count": 73,
     "metadata": {},
     "output_type": "execute_result"
    }
   ],
   "source": [
    "np.char.capitalize(arr)"
   ]
  },
  {
   "cell_type": "code",
   "execution_count": null,
   "id": "123af242-d442-4d64-b765-1dddfea5c312",
   "metadata": {},
   "outputs": [],
   "source": [
    "# NUMPY - MATHEMATICAL FUNCTIONS"
   ]
  },
  {
   "cell_type": "code",
   "execution_count": 74,
   "id": "482345ba-74cc-4ed3-a574-c4e5b0dae0c4",
   "metadata": {},
   "outputs": [],
   "source": [
    "arr1 = np.random.randint(1,10,(3,3))"
   ]
  },
  {
   "cell_type": "code",
   "execution_count": 75,
   "id": "5d935050-6293-485a-b9bb-6881ae54f498",
   "metadata": {},
   "outputs": [
    {
     "data": {
      "text/plain": [
       "array([[8, 9, 8],\n",
       "       [1, 9, 1],\n",
       "       [8, 4, 2]])"
      ]
     },
     "execution_count": 75,
     "metadata": {},
     "output_type": "execute_result"
    }
   ],
   "source": [
    "arr1"
   ]
  },
  {
   "cell_type": "code",
   "execution_count": 76,
   "id": "49e779bc-7cac-4cd6-af34-f82b690db3eb",
   "metadata": {},
   "outputs": [
    {
     "data": {
      "text/plain": [
       "array([[ 0.98935825,  0.41211849,  0.98935825],\n",
       "       [ 0.84147098,  0.41211849,  0.84147098],\n",
       "       [ 0.98935825, -0.7568025 ,  0.90929743]])"
      ]
     },
     "execution_count": 76,
     "metadata": {},
     "output_type": "execute_result"
    }
   ],
   "source": [
    "np.sin(arr1)"
   ]
  },
  {
   "cell_type": "code",
   "execution_count": 77,
   "id": "f50a9afd-ff94-4409-8395-801046e6b110",
   "metadata": {},
   "outputs": [
    {
     "data": {
      "text/plain": [
       "array([[-0.14550003, -0.91113026, -0.14550003],\n",
       "       [ 0.54030231, -0.91113026,  0.54030231],\n",
       "       [-0.14550003, -0.65364362, -0.41614684]])"
      ]
     },
     "execution_count": 77,
     "metadata": {},
     "output_type": "execute_result"
    }
   ],
   "source": [
    "np.cos(arr1)"
   ]
  },
  {
   "cell_type": "code",
   "execution_count": 78,
   "id": "d57a6926-a320-4fa4-954e-720dfdd75e38",
   "metadata": {},
   "outputs": [
    {
     "data": {
      "text/plain": [
       "array([[-6.79971146, -0.45231566, -6.79971146],\n",
       "       [ 1.55740772, -0.45231566,  1.55740772],\n",
       "       [-6.79971146,  1.15782128, -2.18503986]])"
      ]
     },
     "execution_count": 78,
     "metadata": {},
     "output_type": "execute_result"
    }
   ],
   "source": [
    "np.tan(arr1)"
   ]
  },
  {
   "cell_type": "code",
   "execution_count": 79,
   "id": "3e894a01-5cbb-48fe-9742-65a436a7ae6b",
   "metadata": {},
   "outputs": [
    {
     "data": {
      "text/plain": [
       "8.0"
      ]
     },
     "execution_count": 79,
     "metadata": {},
     "output_type": "execute_result"
    }
   ],
   "source": [
    "np.median(arr1)"
   ]
  },
  {
   "cell_type": "code",
   "execution_count": 80,
   "id": "26fbcb94-1631-4834-890e-bac38e704503",
   "metadata": {},
   "outputs": [
    {
     "data": {
      "text/plain": [
       "9"
      ]
     },
     "execution_count": 80,
     "metadata": {},
     "output_type": "execute_result"
    }
   ],
   "source": [
    "np.max(arr1)"
   ]
  },
  {
   "cell_type": "code",
   "execution_count": 81,
   "id": "209a60da-bb09-4fea-a8bd-def661c6346a",
   "metadata": {},
   "outputs": [
    {
     "data": {
      "text/plain": [
       "1"
      ]
     },
     "execution_count": 81,
     "metadata": {},
     "output_type": "execute_result"
    }
   ],
   "source": [
    "np.min(arr1)"
   ]
  },
  {
   "cell_type": "code",
   "execution_count": 82,
   "id": "dbf0fb57-6ee9-4474-a952-587781faf3cf",
   "metadata": {},
   "outputs": [
    {
     "data": {
      "text/plain": [
       "3.303570832737446"
      ]
     },
     "execution_count": 82,
     "metadata": {},
     "output_type": "execute_result"
    }
   ],
   "source": [
    "np.std(arr1)"
   ]
  },
  {
   "cell_type": "code",
   "execution_count": 83,
   "id": "1e73bfb5-a81b-4f78-a0b7-fd4f4ac02611",
   "metadata": {},
   "outputs": [
    {
     "data": {
      "text/plain": [
       "5.555555555555555"
      ]
     },
     "execution_count": 83,
     "metadata": {},
     "output_type": "execute_result"
    }
   ],
   "source": [
    "np.mean(arr1)"
   ]
  },
  {
   "cell_type": "code",
   "execution_count": null,
   "id": "6f711242-6f00-4a5e-b518-3ecf80d7fce1",
   "metadata": {},
   "outputs": [],
   "source": [
    "\"\"\"\n",
    "NUMPY: PART-3\n",
    "\"\"\""
   ]
  },
  {
   "cell_type": "code",
   "execution_count": 84,
   "id": "00ae9a42-7cd0-412b-a54d-8432862c5384",
   "metadata": {},
   "outputs": [],
   "source": [
    "# sort, search and counting functions"
   ]
  },
  {
   "cell_type": "code",
   "execution_count": 85,
   "id": "91b9c09b-3790-4551-9246-5b7411fcc6e0",
   "metadata": {},
   "outputs": [],
   "source": [
    "import numpy as np"
   ]
  },
  {
   "cell_type": "code",
   "execution_count": 87,
   "id": "b496d79c-dc48-487c-be72-42e50d101acb",
   "metadata": {},
   "outputs": [],
   "source": [
    "arr = np.array([4,6,3,2,6,7,88,32,54])"
   ]
  },
  {
   "cell_type": "code",
   "execution_count": 88,
   "id": "648010ce-c991-4984-bcf5-6a7dc198d42d",
   "metadata": {},
   "outputs": [
    {
     "data": {
      "text/plain": [
       "array([ 4,  6,  3,  2,  6,  7, 88, 32, 54])"
      ]
     },
     "execution_count": 88,
     "metadata": {},
     "output_type": "execute_result"
    }
   ],
   "source": [
    "arr"
   ]
  },
  {
   "cell_type": "code",
   "execution_count": 89,
   "id": "e2363bb2-8d22-4eb0-8319-0bc879cdd85a",
   "metadata": {},
   "outputs": [
    {
     "data": {
      "text/plain": [
       "array([ 2,  3,  4,  6,  6,  7, 32, 54, 88])"
      ]
     },
     "execution_count": 89,
     "metadata": {},
     "output_type": "execute_result"
    }
   ],
   "source": [
    "np.sort(arr)"
   ]
  },
  {
   "cell_type": "code",
   "execution_count": 90,
   "id": "af4b0284-5097-492a-a825-3e00f5397483",
   "metadata": {},
   "outputs": [
    {
     "data": {
      "text/plain": [
       "4"
      ]
     },
     "execution_count": 90,
     "metadata": {},
     "output_type": "execute_result"
    }
   ],
   "source": [
    "np.searchsorted(arr,5) # this will tell us that 5 will into which index in 'arr' array"
   ]
  },
  {
   "cell_type": "code",
   "execution_count": 92,
   "id": "cbff527b-5707-4172-92f5-59367dc7c00e",
   "metadata": {},
   "outputs": [],
   "source": [
    "arr1 = np.array([3,6,0,0,0,2,0,0])"
   ]
  },
  {
   "cell_type": "code",
   "execution_count": 93,
   "id": "6b1d5799-7543-4e04-a726-74d0b025ff1f",
   "metadata": {},
   "outputs": [
    {
     "data": {
      "text/plain": [
       "3"
      ]
     },
     "execution_count": 93,
     "metadata": {},
     "output_type": "execute_result"
    }
   ],
   "source": [
    "np.count_nonzero(arr1) # counts non zero element in an array"
   ]
  },
  {
   "cell_type": "code",
   "execution_count": 94,
   "id": "cfdf6a9c-f9f0-4a78-b078-29edf2bd0798",
   "metadata": {},
   "outputs": [
    {
     "data": {
      "text/plain": [
       "array([ 4,  6,  3,  2,  6,  7, 88, 32, 54])"
      ]
     },
     "execution_count": 94,
     "metadata": {},
     "output_type": "execute_result"
    }
   ],
   "source": [
    "arr"
   ]
  },
  {
   "cell_type": "code",
   "execution_count": 95,
   "id": "a95a289c-f9c5-4685-963d-2fe7a860558b",
   "metadata": {},
   "outputs": [
    {
     "data": {
      "text/plain": [
       "(array([1, 4, 5, 6, 7, 8]),)"
      ]
     },
     "execution_count": 95,
     "metadata": {},
     "output_type": "execute_result"
    }
   ],
   "source": [
    "np.where(arr>5) # return index where value is > 6"
   ]
  },
  {
   "cell_type": "code",
   "execution_count": 96,
   "id": "89e9f946-e48e-4400-a88c-a34aa4cbfc6e",
   "metadata": {},
   "outputs": [
    {
     "data": {
      "text/plain": [
       "array([ 6,  6,  7, 88, 32, 54])"
      ]
     },
     "execution_count": 96,
     "metadata": {},
     "output_type": "execute_result"
    }
   ],
   "source": [
    "np.extract(arr>5,arr) # data extract krega jaha pr bhi value > 6 hga in 'arr' array"
   ]
  },
  {
   "cell_type": "code",
   "execution_count": null,
   "id": "5dee224e-0788-4007-b48e-970636a6d67c",
   "metadata": {},
   "outputs": [],
   "source": [
    "# NUMPY - BYTE SWAPPING"
   ]
  },
  {
   "cell_type": "code",
   "execution_count": 97,
   "id": "dfa817c4-d4eb-42d0-8c20-6bd0fdf7743e",
   "metadata": {},
   "outputs": [
    {
     "data": {
      "text/plain": [
       "array([ 4,  6,  3,  2,  6,  7, 88, 32, 54])"
      ]
     },
     "execution_count": 97,
     "metadata": {},
     "output_type": "execute_result"
    }
   ],
   "source": [
    "arr"
   ]
  },
  {
   "cell_type": "code",
   "execution_count": 100,
   "id": "b9bbc80d-cf0c-4da3-807f-8991bc84cd2a",
   "metadata": {},
   "outputs": [
    {
     "data": {
      "text/plain": [
       "array([ 288230376151711744,  432345564227567616,  216172782113783808,\n",
       "        144115188075855872,  432345564227567616,  504403158265495552,\n",
       "       6341068275337658368, 2305843009213693952, 3891110078048108544])"
      ]
     },
     "execution_count": 100,
     "metadata": {},
     "output_type": "execute_result"
    }
   ],
   "source": [
    "arr.byteswap()"
   ]
  },
  {
   "cell_type": "code",
   "execution_count": null,
   "id": "21c4233f-a2c2-46d9-a782-2153f0f2f98e",
   "metadata": {},
   "outputs": [],
   "source": [
    "# NUMPY - COPIES & VIEWS"
   ]
  },
  {
   "cell_type": "code",
   "execution_count": 101,
   "id": "83a6143e-d012-448e-8da0-00fc45318871",
   "metadata": {},
   "outputs": [
    {
     "data": {
      "text/plain": [
       "array([ 4,  6,  3,  2,  6,  7, 88, 32, 54])"
      ]
     },
     "execution_count": 101,
     "metadata": {},
     "output_type": "execute_result"
    }
   ],
   "source": [
    "arr"
   ]
  },
  {
   "cell_type": "code",
   "execution_count": 102,
   "id": "5822aabb-34dd-4eb3-b697-bfff11407cad",
   "metadata": {},
   "outputs": [],
   "source": [
    "a = np.copy(arr) # deep copy i.e. changes made in 'a' will not reflect in 'arr'"
   ]
  },
  {
   "cell_type": "code",
   "execution_count": 103,
   "id": "2d7b182a-a2e8-45b9-82da-068bb0527db0",
   "metadata": {},
   "outputs": [
    {
     "data": {
      "text/plain": [
       "array([ 4,  6,  3,  2,  6,  7, 88, 32, 54])"
      ]
     },
     "execution_count": 103,
     "metadata": {},
     "output_type": "execute_result"
    }
   ],
   "source": [
    "a"
   ]
  },
  {
   "cell_type": "code",
   "execution_count": 111,
   "id": "39d92490-f2b4-4b11-a8c1-9c748e6f0f1a",
   "metadata": {},
   "outputs": [],
   "source": [
    "a[1] = 54"
   ]
  },
  {
   "cell_type": "code",
   "execution_count": 112,
   "id": "ecbad90b-0d08-4755-adef-bbee5abf4fab",
   "metadata": {},
   "outputs": [
    {
     "data": {
      "text/plain": [
       "array([ 4, 54,  3,  2,  6,  7, 88, 32, 54])"
      ]
     },
     "execution_count": 112,
     "metadata": {},
     "output_type": "execute_result"
    }
   ],
   "source": [
    "a"
   ]
  },
  {
   "cell_type": "code",
   "execution_count": 113,
   "id": "b8102d33-253c-4c3c-b022-3bd795ded625",
   "metadata": {},
   "outputs": [
    {
     "data": {
      "text/plain": [
       "array([ 4, 23,  3,  2,  6,  7, 88, 32, 54])"
      ]
     },
     "execution_count": 113,
     "metadata": {},
     "output_type": "execute_result"
    }
   ],
   "source": [
    "arr"
   ]
  },
  {
   "cell_type": "code",
   "execution_count": null,
   "id": "6af012e3-0406-4964-b282-ffa9dad48229",
   "metadata": {},
   "outputs": [],
   "source": []
  },
  {
   "cell_type": "code",
   "execution_count": 114,
   "id": "8065a9d5-c867-4eb6-964a-7fd2d4181d71",
   "metadata": {},
   "outputs": [],
   "source": [
    "b = arr.view() # shallow copy i.e. changes made in 'b' will reflect in 'arr'"
   ]
  },
  {
   "cell_type": "code",
   "execution_count": 115,
   "id": "71febe2c-760f-47bd-bf1e-dc7d7f6a442c",
   "metadata": {},
   "outputs": [
    {
     "data": {
      "text/plain": [
       "array([ 4, 23,  3,  2,  6,  7, 88, 32, 54])"
      ]
     },
     "execution_count": 115,
     "metadata": {},
     "output_type": "execute_result"
    }
   ],
   "source": [
    "b"
   ]
  },
  {
   "cell_type": "code",
   "execution_count": 116,
   "id": "5164b3b0-6fb8-4f9e-af4b-457ab80176c4",
   "metadata": {},
   "outputs": [],
   "source": [
    "b[1] = 65"
   ]
  },
  {
   "cell_type": "code",
   "execution_count": 117,
   "id": "a79220eb-11bf-424c-86be-957d19843314",
   "metadata": {},
   "outputs": [
    {
     "data": {
      "text/plain": [
       "array([ 4, 65,  3,  2,  6,  7, 88, 32, 54])"
      ]
     },
     "execution_count": 117,
     "metadata": {},
     "output_type": "execute_result"
    }
   ],
   "source": [
    "b"
   ]
  },
  {
   "cell_type": "code",
   "execution_count": 118,
   "id": "24d85567-7522-4da3-966d-d3021ef50e0b",
   "metadata": {},
   "outputs": [
    {
     "data": {
      "text/plain": [
       "array([ 4, 65,  3,  2,  6,  7, 88, 32, 54])"
      ]
     },
     "execution_count": 118,
     "metadata": {},
     "output_type": "execute_result"
    }
   ],
   "source": [
    "arr"
   ]
  },
  {
   "cell_type": "code",
   "execution_count": null,
   "id": "e7c85542-ec46-4e2c-a47e-8fe3ef9c69fe",
   "metadata": {},
   "outputs": [],
   "source": [
    "\" NUMPY: MATRIX\""
   ]
  },
  {
   "cell_type": "code",
   "execution_count": 1,
   "id": "7ec6a13d-5cdf-47b2-bdf8-b3674afa357d",
   "metadata": {},
   "outputs": [],
   "source": [
    "import numpy.matlib as nm"
   ]
  },
  {
   "cell_type": "code",
   "execution_count": 2,
   "id": "be049572-1f18-45fa-8ee9-687cd51aa8a2",
   "metadata": {},
   "outputs": [
    {
     "data": {
      "text/plain": [
       "matrix([[0., 0., 0., 0., 0.]])"
      ]
     },
     "execution_count": 2,
     "metadata": {},
     "output_type": "execute_result"
    }
   ],
   "source": [
    "nm.zeros(5)"
   ]
  },
  {
   "cell_type": "code",
   "execution_count": 4,
   "id": "7ed1243a-d8e6-4a8a-997e-bcbd8a22b530",
   "metadata": {},
   "outputs": [
    {
     "data": {
      "text/plain": [
       "matrix([[1., 1., 1., 1.],\n",
       "        [1., 1., 1., 1.],\n",
       "        [1., 1., 1., 1.]])"
      ]
     },
     "execution_count": 4,
     "metadata": {},
     "output_type": "execute_result"
    }
   ],
   "source": [
    "nm.ones((3,4))"
   ]
  },
  {
   "cell_type": "code",
   "execution_count": 5,
   "id": "f4e3d69d-5826-401a-b27d-a380f04c9405",
   "metadata": {},
   "outputs": [
    {
     "data": {
      "text/plain": [
       "matrix([[1., 0., 0., 0.],\n",
       "        [0., 1., 0., 0.],\n",
       "        [0., 0., 1., 0.],\n",
       "        [0., 0., 0., 1.]])"
      ]
     },
     "execution_count": 5,
     "metadata": {},
     "output_type": "execute_result"
    }
   ],
   "source": [
    "nm.eye(4)"
   ]
  },
  {
   "cell_type": "code",
   "execution_count": null,
   "id": "862dda04-2aa5-4296-8f03-b3d62bd26fb5",
   "metadata": {},
   "outputs": [],
   "source": [
    "\"NUMPY: LINEAR ALGEBRA\""
   ]
  },
  {
   "cell_type": "code",
   "execution_count": 6,
   "id": "7ed95e3e-e02f-4802-956c-326df1649e03",
   "metadata": {},
   "outputs": [],
   "source": [
    "import numpy as np\n",
    "\n",
    "a1 = nm.random.randint(1,10,(3,3))\n",
    "a2 = nm.random.randint(1,10,(3,3))"
   ]
  },
  {
   "cell_type": "code",
   "execution_count": 7,
   "id": "0c889adf-858a-421e-af34-f0ea624b815f",
   "metadata": {},
   "outputs": [
    {
     "data": {
      "text/plain": [
       "array([[7, 7, 3],\n",
       "       [4, 8, 9],\n",
       "       [4, 2, 1]])"
      ]
     },
     "execution_count": 7,
     "metadata": {},
     "output_type": "execute_result"
    }
   ],
   "source": [
    "a1"
   ]
  },
  {
   "cell_type": "code",
   "execution_count": 8,
   "id": "cbfb394d-3c82-4e6d-b041-91c799955375",
   "metadata": {},
   "outputs": [
    {
     "data": {
      "text/plain": [
       "array([[6, 8, 7],\n",
       "       [8, 9, 2],\n",
       "       [8, 2, 5]])"
      ]
     },
     "execution_count": 8,
     "metadata": {},
     "output_type": "execute_result"
    }
   ],
   "source": [
    "a2"
   ]
  },
  {
   "cell_type": "code",
   "execution_count": 9,
   "id": "fd25e167-b474-42f3-8cc9-34a2ece31eed",
   "metadata": {},
   "outputs": [
    {
     "data": {
      "text/plain": [
       "array([[122, 125,  78],\n",
       "       [160, 122,  89],\n",
       "       [ 48,  52,  37]])"
      ]
     },
     "execution_count": 9,
     "metadata": {},
     "output_type": "execute_result"
    }
   ],
   "source": [
    "nm.dot(a1,a2) # same as matrix multiplication"
   ]
  },
  {
   "cell_type": "code",
   "execution_count": 10,
   "id": "c78f029f-1bf4-4602-96bb-864b7c3c0cc4",
   "metadata": {},
   "outputs": [
    {
     "data": {
      "text/plain": [
       "array([[122, 125,  78],\n",
       "       [160, 122,  89],\n",
       "       [ 48,  52,  37]])"
      ]
     },
     "execution_count": 10,
     "metadata": {},
     "output_type": "execute_result"
    }
   ],
   "source": [
    "a1@a2 # matrix multiplication"
   ]
  },
  {
   "cell_type": "code",
   "execution_count": null,
   "id": "d8e30c5c-e279-4fcb-8d12-5545bac4a656",
   "metadata": {},
   "outputs": [],
   "source": []
  }
 ],
 "metadata": {
  "kernelspec": {
   "display_name": "Python 3 (ipykernel)",
   "language": "python",
   "name": "python3"
  },
  "language_info": {
   "codemirror_mode": {
    "name": "ipython",
    "version": 3
   },
   "file_extension": ".py",
   "mimetype": "text/x-python",
   "name": "python",
   "nbconvert_exporter": "python",
   "pygments_lexer": "ipython3",
   "version": "3.10.8"
  }
 },
 "nbformat": 4,
 "nbformat_minor": 5
}
