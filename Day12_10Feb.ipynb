{
 "cells": [
  {
   "cell_type": "code",
   "execution_count": 2,
   "id": "2e2c3676-a62c-4333-b635-e98866150cd9",
   "metadata": {},
   "outputs": [],
   "source": [
    "\"\"\"\n",
    "Decorators:\n",
    "A decorator is a design pattern in Python that allows a user to\n",
    "add new functionality to an existing object without modifying its structure\n",
    "\"\"\""
   ]
  },
  {
   "cell_type": "code",
   "execution_count": 3,
   "id": "66b9825b-594b-4864-87b0-f8742ddcdc41",
   "metadata": {},
   "outputs": [],
   "source": [
    "def test():\n",
    "    print(\"This is my function to test\")"
   ]
  },
  {
   "cell_type": "code",
   "execution_count": 4,
   "id": "628958aa-c701-49ab-848d-ba6ff6438657",
   "metadata": {},
   "outputs": [
    {
     "name": "stdout",
     "output_type": "stream",
     "text": [
      "This is my function to test\n"
     ]
    }
   ],
   "source": [
    "test()"
   ]
  },
  {
   "cell_type": "code",
   "execution_count": 4,
   "id": "fc801022-49f5-40c4-8a0b-f7519e861ce6",
   "metadata": {},
   "outputs": [],
   "source": [
    "def deco(func):\n",
    "    def inner_dec():\n",
    "        print(\"This is the start of the function\")\n",
    "        func()\n",
    "        print(\"This is the end of the function\")\n",
    "    return inner_dec"
   ]
  },
  {
   "cell_type": "code",
   "execution_count": 5,
   "id": "77a55cc0-014a-4563-aa9e-017d1fb697bd",
   "metadata": {},
   "outputs": [],
   "source": [
    "@deco\n",
    "def test1():\n",
    "    print(\"I am inside function named test1\")"
   ]
  },
  {
   "cell_type": "code",
   "execution_count": 6,
   "id": "6a013375-7904-4e29-93e5-9342a06914b3",
   "metadata": {},
   "outputs": [
    {
     "name": "stdout",
     "output_type": "stream",
     "text": [
      "This is the start of the function\n",
      "I am inside function named test1\n",
      "This is the end of the function\n"
     ]
    }
   ],
   "source": [
    "test1()"
   ]
  },
  {
   "cell_type": "code",
   "execution_count": 2,
   "id": "9cd9dc8c-ab42-404a-861d-99149789fceb",
   "metadata": {},
   "outputs": [],
   "source": [
    "# code to calculate the time taken by the program for running\n",
    "\n",
    "import time\n",
    "\n",
    "def timer_test(func):\n",
    "    def timer_test_inner():\n",
    "        start = time.time()\n",
    "        func()\n",
    "        end = time.time()\n",
    "        print(end-start)\n",
    "    return timer_test_inner()"
   ]
  },
  {
   "cell_type": "code",
   "execution_count": 17,
   "id": "62fc0040-a818-4cc4-8d8e-7fe038520dba",
   "metadata": {},
   "outputs": [],
   "source": [
    "def test2():\n",
    "    print(786*786)"
   ]
  },
  {
   "cell_type": "code",
   "execution_count": 18,
   "id": "a18870ab-1112-443a-9635-1704b25acc36",
   "metadata": {},
   "outputs": [
    {
     "name": "stdout",
     "output_type": "stream",
     "text": [
      "617796\n"
     ]
    }
   ],
   "source": [
    "test2()"
   ]
  },
  {
   "cell_type": "code",
   "execution_count": 19,
   "id": "0e1ef6b6-7842-466c-8fac-1dcb1d6b920c",
   "metadata": {},
   "outputs": [
    {
     "name": "stdout",
     "output_type": "stream",
     "text": [
      "4\n",
      "4.315376281738281e-05\n"
     ]
    }
   ],
   "source": [
    "@timer_test\n",
    "def test2():\n",
    "    print(2+2)"
   ]
  },
  {
   "cell_type": "code",
   "execution_count": 3,
   "id": "359eef6a-4547-4446-ace6-d81b29e3eeb6",
   "metadata": {},
   "outputs": [
    {
     "name": "stdout",
     "output_type": "stream",
     "text": [
      "0.25125646591186523\n"
     ]
    }
   ],
   "source": [
    "@timer_test\n",
    "def test3():\n",
    "    for i in range(10000000):\n",
    "        pass"
   ]
  },
  {
   "cell_type": "code",
   "execution_count": null,
   "id": "cfba8ba9-7a14-4e72-870d-1a25e0bb660b",
   "metadata": {},
   "outputs": [],
   "source": [
    "\"\"\"\n",
    "CLASS METHOD\n",
    "\"\"\""
   ]
  },
  {
   "cell_type": "code",
   "execution_count": 9,
   "id": "57fe8fab-a84d-4b13-83b1-2ce46d567b80",
   "metadata": {},
   "outputs": [],
   "source": [
    "class pwskills():\n",
    "    \n",
    "    def __init__(self, name, email):\n",
    "        self.name = name\n",
    "        self.email = email\n",
    "    \n",
    "    def student_details(self):\n",
    "        print(\"Name:\",self.name,\"Email:\" ,self.email)\n",
    "        \n",
    "pw = pwskills(\"Ayan\", \"ayan@gmail.com\") #creating an object for class pwskills"
   ]
  },
  {
   "cell_type": "code",
   "execution_count": 10,
   "id": "221eb497-d2a0-4b93-93f6-eadc1e0d426a",
   "metadata": {},
   "outputs": [
    {
     "data": {
      "text/plain": [
       "'Ayan'"
      ]
     },
     "execution_count": 10,
     "metadata": {},
     "output_type": "execute_result"
    }
   ],
   "source": [
    "pw.name"
   ]
  },
  {
   "cell_type": "code",
   "execution_count": 11,
   "id": "3f3b0edc-1188-4316-89d6-52b008d4042a",
   "metadata": {},
   "outputs": [
    {
     "data": {
      "text/plain": [
       "'ayan@gmail.com'"
      ]
     },
     "execution_count": 11,
     "metadata": {},
     "output_type": "execute_result"
    }
   ],
   "source": [
    "pw.email"
   ]
  },
  {
   "cell_type": "code",
   "execution_count": 13,
   "id": "72ef3d3a-b068-4de2-87ce-5f501a410123",
   "metadata": {},
   "outputs": [
    {
     "name": "stdout",
     "output_type": "stream",
     "text": [
      "Name: Ayan Email: ayan@gmail.com\n"
     ]
    }
   ],
   "source": [
    "pw.student_details()"
   ]
  },
  {
   "cell_type": "code",
   "execution_count": 1,
   "id": "e95915a9-664c-4aaa-9946-2392d479ae70",
   "metadata": {},
   "outputs": [
    {
     "data": {
      "text/plain": [
       "'\\nClass methods\\n'"
      ]
     },
     "execution_count": 1,
     "metadata": {},
     "output_type": "execute_result"
    }
   ],
   "source": [
    "\"\"\"\n",
    "Class methods: Method that is bound to a class rather than its object\n",
    "\"\"\""
   ]
  },
  {
   "cell_type": "code",
   "execution_count": 16,
   "id": "7624e694-7db9-4f42-87fc-1f178be254e1",
   "metadata": {},
   "outputs": [],
   "source": [
    "class student:\n",
    "    \n",
    "    def __init__(self, name, age):\n",
    "        self.name = name\n",
    "        self.age = age\n",
    "        \n",
    "    def student_details(self):\n",
    "        print(\"Name of student:\",self.name)\n",
    "        print(\"Age of student:\", self.age)\n",
    "        \n",
    "pw = student(\"Ayan\",20)"
   ]
  },
  {
   "cell_type": "code",
   "execution_count": 13,
   "id": "1520bb5c-a418-4f0f-83b2-79351e03ce8d",
   "metadata": {},
   "outputs": [
    {
     "data": {
      "text/plain": [
       "'Ayan'"
      ]
     },
     "execution_count": 13,
     "metadata": {},
     "output_type": "execute_result"
    }
   ],
   "source": [
    "pw.name"
   ]
  },
  {
   "cell_type": "code",
   "execution_count": 14,
   "id": "aad13be7-8438-47c2-984f-37b147472690",
   "metadata": {},
   "outputs": [
    {
     "data": {
      "text/plain": [
       "20"
      ]
     },
     "execution_count": 14,
     "metadata": {},
     "output_type": "execute_result"
    }
   ],
   "source": [
    "pw.age"
   ]
  },
  {
   "cell_type": "code",
   "execution_count": 17,
   "id": "0a899f82-7fe6-4a19-949c-263c3d4ab759",
   "metadata": {},
   "outputs": [
    {
     "name": "stdout",
     "output_type": "stream",
     "text": [
      "Name of student: Ayan\n",
      "Age of student: 20\n"
     ]
    }
   ],
   "source": [
    "pw.student_details()"
   ]
  },
  {
   "cell_type": "code",
   "execution_count": 6,
   "id": "6df8d1e4-8b88-44ff-8176-b0e0eda49921",
   "metadata": {},
   "outputs": [
    {
     "name": "stdout",
     "output_type": "stream",
     "text": [
      "Phone number is: 9999988888\n"
     ]
    }
   ],
   "source": [
    "# example of class method\n",
    "\n",
    "class student1:\n",
    "    \n",
    "    mobile = 9999988888\n",
    "    \n",
    "    def show(self):\n",
    "        print(f\"Phone number is: {self.mobile}\")\n",
    "        \n",
    "    @classmethod\n",
    "    def change_mobile(cls, mobile):\n",
    "        cls.mobile = mobile\n",
    "        \n",
    "s1 = student1()\n",
    "s1.show()"
   ]
  },
  {
   "cell_type": "code",
   "execution_count": 7,
   "id": "a6204135-f144-4ff1-bd5d-7486b4f4b97a",
   "metadata": {},
   "outputs": [
    {
     "name": "stdout",
     "output_type": "stream",
     "text": [
      "Phone number is: 123456789\n"
     ]
    }
   ],
   "source": [
    "# Now we can directly change the phone number as it is a class variable and we have used class method decorator for change_mobile function\n",
    "s1.change_mobile(123456789)\n",
    "s1.show()"
   ]
  },
  {
   "cell_type": "code",
   "execution_count": 10,
   "id": "2eb5458d-d9f3-475b-bb25-aed2b1f0e4c3",
   "metadata": {},
   "outputs": [],
   "source": [
    "# How can we add an external function to our class\n",
    "\n",
    "def name(cls,name):\n",
    "    print(f\"Name of the student is: {name}\")\n",
    "student1.name = classmethod(name)"
   ]
  },
  {
   "cell_type": "code",
   "execution_count": 12,
   "id": "492e55fb-ea43-49f7-b088-c0edc63f2026",
   "metadata": {},
   "outputs": [
    {
     "name": "stdout",
     "output_type": "stream",
     "text": [
      "Name of the student is: Ayan Arshad\n"
     ]
    }
   ],
   "source": [
    "student1.name(\"Ayan Arshad\") # This is how we can access an external function in a class with the help of class method"
   ]
  },
  {
   "cell_type": "code",
   "execution_count": 14,
   "id": "afd130b0-226d-466d-8d16-adbcae2e285f",
   "metadata": {},
   "outputs": [],
   "source": [
    "# we can delete any function of a class by just using a \"del\" keyword. Below it is show that how it can be done\n",
    "del student1.change_mobile"
   ]
  },
  {
   "cell_type": "code",
   "execution_count": 15,
   "id": "468cb310-60d1-4fb2-9862-769d80283cc5",
   "metadata": {},
   "outputs": [
    {
     "ename": "AttributeError",
     "evalue": "type object 'student1' has no attribute 'change_mobile'",
     "output_type": "error",
     "traceback": [
      "\u001b[0;31m---------------------------------------------------------------------------\u001b[0m",
      "\u001b[0;31mAttributeError\u001b[0m                            Traceback (most recent call last)",
      "Cell \u001b[0;32mIn[15], line 1\u001b[0m\n\u001b[0;32m----> 1\u001b[0m \u001b[43mstudent1\u001b[49m\u001b[38;5;241;43m.\u001b[39;49m\u001b[43mchange_mobile\u001b[49m(\u001b[38;5;241m1275836\u001b[39m)\n",
      "\u001b[0;31mAttributeError\u001b[0m: type object 'student1' has no attribute 'change_mobile'"
     ]
    }
   ],
   "source": [
    "student1.change_mobile(1275836)  # now we cannot access this function"
   ]
  },
  {
   "cell_type": "code",
   "execution_count": 1,
   "id": "b7136c3c-43e0-4230-9ca7-ed41e824ccbb",
   "metadata": {},
   "outputs": [
    {
     "data": {
      "text/plain": [
       "'\\nStatic Method: It is bound to a class rather than the objects for that class\\n'"
      ]
     },
     "execution_count": 1,
     "metadata": {},
     "output_type": "execute_result"
    }
   ],
   "source": [
    "\"\"\"\n",
    "Static Method: It is bound to a class rather than the objects for that class\n",
    "               In static method we dont have to use keyword such as self or something\n",
    "\"\"\""
   ]
  },
  {
   "cell_type": "code",
   "execution_count": 4,
   "id": "e8f609aa-8a7d-4a0c-bfe9-032398dfa735",
   "metadata": {},
   "outputs": [],
   "source": [
    "class ayan:\n",
    "    @staticmethod\n",
    "    def details(name,age):\n",
    "        print(\"Name is:\",name)\n",
    "        print(\"Age is:\",age)"
   ]
  },
  {
   "cell_type": "code",
   "execution_count": 5,
   "id": "ecdb21d9-348b-491b-a8d7-f0a87eb3e806",
   "metadata": {},
   "outputs": [
    {
     "name": "stdout",
     "output_type": "stream",
     "text": [
      "Name is: Ayan\n",
      "Age is: 21\n"
     ]
    }
   ],
   "source": [
    "ayan.details(\"Ayan\",21)"
   ]
  },
  {
   "cell_type": "code",
   "execution_count": 1,
   "id": "40758b0e-a0a7-4903-8eec-07168a628e43",
   "metadata": {},
   "outputs": [],
   "source": [
    "class pwskills7:\n",
    "    \n",
    "    def student_details(self, name, course_name):\n",
    "        self.name = name\n",
    "        self.course_name = course_name\n",
    "        \n",
    "    @staticmethod\n",
    "    def mentors(mentor_list):\n",
    "        print(mentor_list)"
   ]
  },
  {
   "cell_type": "code",
   "execution_count": 2,
   "id": "6e5eb1a1-79a8-4fdd-b969-816f26ee9fff",
   "metadata": {},
   "outputs": [
    {
     "ename": "TypeError",
     "evalue": "pwskills7.student_details() missing 1 required positional argument: 'course_name'",
     "output_type": "error",
     "traceback": [
      "\u001b[0;31m---------------------------------------------------------------------------\u001b[0m",
      "\u001b[0;31mTypeError\u001b[0m                                 Traceback (most recent call last)",
      "Cell \u001b[0;32mIn[2], line 1\u001b[0m\n\u001b[0;32m----> 1\u001b[0m \u001b[43mpwskills7\u001b[49m\u001b[38;5;241;43m.\u001b[39;49m\u001b[43mstudent_details\u001b[49m\u001b[43m(\u001b[49m\u001b[38;5;124;43m\"\u001b[39;49m\u001b[38;5;124;43mayan\u001b[39;49m\u001b[38;5;124;43m\"\u001b[39;49m\u001b[43m,\u001b[49m\u001b[38;5;124;43m\"\u001b[39;49m\u001b[38;5;124;43mDS\u001b[39;49m\u001b[38;5;124;43m\"\u001b[39;49m\u001b[43m)\u001b[49m\n",
      "\u001b[0;31mTypeError\u001b[0m: pwskills7.student_details() missing 1 required positional argument: 'course_name'"
     ]
    }
   ],
   "source": [
    "pwskills7.student_details(\"ayan\",\"DS\") # student_details ko access nahi kar payege bina object banaye hue bcoz we have not used static mehtod decorator here"
   ]
  },
  {
   "cell_type": "code",
   "execution_count": 3,
   "id": "be100e24-78a4-4e3d-b217-d437670cf009",
   "metadata": {},
   "outputs": [
    {
     "name": "stdout",
     "output_type": "stream",
     "text": [
      "['sudh', 'krish']\n"
     ]
    }
   ],
   "source": [
    "pwskills7.mentors([\"sudh\",\"krish\"]) # we don't need to create object here bcoz we have used static method as a decorator and directly we can call this function"
   ]
  },
  {
   "cell_type": "code",
   "execution_count": 7,
   "id": "349c40ab-ee58-4a08-a830-c26b975ff7c9",
   "metadata": {},
   "outputs": [],
   "source": [
    "# jab ek staticmethod wale function ke andar dusre\n",
    "# staticmethod wale function ko call krna ho\n",
    "\n",
    "class pwskills8:\n",
    "    \n",
    "    def student_details(self, name, course_name):\n",
    "        self.name = name\n",
    "        self.course_name = course_name\n",
    "        \n",
    "    @staticmethod\n",
    "    def mentor_mail_id(mentor_mail_id):\n",
    "        print(mentor_mail_id)\n",
    "    \n",
    "    @staticmethod\n",
    "    def mentors(mentor_list):\n",
    "        pwskills8.mentor_mail_id([\"sudh@gmail.com\",\"krish@gmail.com\"]) #class ke through access krege\n",
    "        print(mentor_list)\n",
    "        \n",
    "    \"\"\"staticmethod ko classmethod mein kaise call kare: given below\"\"\"\n",
    "    @classmethod\n",
    "    def class_method(cls):\n",
    "        cls.mentors([\"sudh\",\"krish\"])"
   ]
  },
  {
   "cell_type": "code",
   "execution_count": 6,
   "id": "708a9c9c-cac5-481b-89d9-d9181b1635e6",
   "metadata": {},
   "outputs": [
    {
     "name": "stdout",
     "output_type": "stream",
     "text": [
      "['sudh@gmail.com', 'krish@gmail.com']\n",
      "['sudh', 'krish']\n"
     ]
    }
   ],
   "source": [
    "pwskills8.mentors([\"sudh\",\"krish\"])"
   ]
  },
  {
   "cell_type": "code",
   "execution_count": 8,
   "id": "03d66a48-7122-4e81-b957-ef54bdb3e71a",
   "metadata": {},
   "outputs": [
    {
     "name": "stdout",
     "output_type": "stream",
     "text": [
      "['sudh@gmail.com', 'krish@gmail.com']\n",
      "['sudh', 'krish']\n"
     ]
    }
   ],
   "source": [
    "pwskills8.class_method()"
   ]
  },
  {
   "cell_type": "code",
   "execution_count": null,
   "id": "85cc0c77-9996-4976-ae73-7b421317eca3",
   "metadata": {},
   "outputs": [],
   "source": [
    "\"\"\"\n",
    "NOTE: staticmethod kaha use krna hai???\n",
    "ANS: jaha pr bhi utility function create krna hota hai i.e. jo repetative task hai,\n",
    "    jo har object ke liye create krna hota hai and memory consumption bhi kam hga\n",
    "\"\"\""
   ]
  },
  {
   "cell_type": "code",
   "execution_count": 9,
   "id": "45a4fee2-93e7-450f-b467-7515e83a0c8b",
   "metadata": {},
   "outputs": [
    {
     "data": {
      "text/plain": [
       "'\\nSPECIAL (MAGIC DUNDER) METHOD\\n'"
      ]
     },
     "execution_count": 9,
     "metadata": {},
     "output_type": "execute_result"
    }
   ],
   "source": [
    "\"\"\"\n",
    "SPECIAL (MAGIC OR DUNDER) METHOD\n",
    "\"\"\""
   ]
  },
  {
   "cell_type": "code",
   "execution_count": null,
   "id": "7f22abca-c9fd-4906-9452-7373bf73aae3",
   "metadata": {},
   "outputs": [],
   "source": [
    "# We don't call magic/dunder function directly \n",
    "# magic/dunder function is called indirectly by the system"
   ]
  },
  {
   "cell_type": "code",
   "execution_count": 1,
   "id": "24d756ff-3f08-4447-ae43-6bc6f494590e",
   "metadata": {},
   "outputs": [
    {
     "data": {
      "text/plain": [
       "'\\nMagic/Dunder is a predifined method(Function) in python.\\nThey are recognised by their double underscores at the beginning and end\\ne.g. __init__ ; __len__ ; __call__\\n'"
      ]
     },
     "execution_count": 1,
     "metadata": {},
     "output_type": "execute_result"
    }
   ],
   "source": [
    "\"\"\"\n",
    "Magic/Dunder is a predifined method(Function) in python.\n",
    "They are recognised by their double underscores at the beginning and end\n",
    "e.g. __init__ ; __len__ ; __call__\n",
    "\"\"\""
   ]
  },
  {
   "cell_type": "code",
   "execution_count": 2,
   "id": "12cd9037-ddb6-4fe8-b06d-e233722167df",
   "metadata": {},
   "outputs": [
    {
     "data": {
      "text/plain": [
       "['__abs__',\n",
       " '__add__',\n",
       " '__and__',\n",
       " '__bool__',\n",
       " '__ceil__',\n",
       " '__class__',\n",
       " '__delattr__',\n",
       " '__dir__',\n",
       " '__divmod__',\n",
       " '__doc__',\n",
       " '__eq__',\n",
       " '__float__',\n",
       " '__floor__',\n",
       " '__floordiv__',\n",
       " '__format__',\n",
       " '__ge__',\n",
       " '__getattribute__',\n",
       " '__getnewargs__',\n",
       " '__gt__',\n",
       " '__hash__',\n",
       " '__index__',\n",
       " '__init__',\n",
       " '__init_subclass__',\n",
       " '__int__',\n",
       " '__invert__',\n",
       " '__le__',\n",
       " '__lshift__',\n",
       " '__lt__',\n",
       " '__mod__',\n",
       " '__mul__',\n",
       " '__ne__',\n",
       " '__neg__',\n",
       " '__new__',\n",
       " '__or__',\n",
       " '__pos__',\n",
       " '__pow__',\n",
       " '__radd__',\n",
       " '__rand__',\n",
       " '__rdivmod__',\n",
       " '__reduce__',\n",
       " '__reduce_ex__',\n",
       " '__repr__',\n",
       " '__rfloordiv__',\n",
       " '__rlshift__',\n",
       " '__rmod__',\n",
       " '__rmul__',\n",
       " '__ror__',\n",
       " '__round__',\n",
       " '__rpow__',\n",
       " '__rrshift__',\n",
       " '__rshift__',\n",
       " '__rsub__',\n",
       " '__rtruediv__',\n",
       " '__rxor__',\n",
       " '__setattr__',\n",
       " '__sizeof__',\n",
       " '__str__',\n",
       " '__sub__',\n",
       " '__subclasshook__',\n",
       " '__truediv__',\n",
       " '__trunc__',\n",
       " '__xor__',\n",
       " 'as_integer_ratio',\n",
       " 'bit_count',\n",
       " 'bit_length',\n",
       " 'conjugate',\n",
       " 'denominator',\n",
       " 'from_bytes',\n",
       " 'imag',\n",
       " 'numerator',\n",
       " 'real',\n",
       " 'to_bytes']"
      ]
     },
     "execution_count": 2,
     "metadata": {},
     "output_type": "execute_result"
    }
   ],
   "source": [
    "dir(int) # dir gives us the list of dunder function about different data types whichever is passed as an argument in it"
   ]
  },
  {
   "cell_type": "code",
   "execution_count": 4,
   "id": "de0eb67e-aef2-46fa-b5fc-b1f2b8e4a0f0",
   "metadata": {},
   "outputs": [
    {
     "data": {
      "text/plain": [
       "'\\nProperty Decorators: Getters, Setters, Deletes\\n'"
      ]
     },
     "execution_count": 4,
     "metadata": {},
     "output_type": "execute_result"
    }
   ],
   "source": [
    "\"\"\"\n",
    "Property Decorators: Getters, Setters, Deletes\n",
    "\"\"\""
   ]
  },
  {
   "cell_type": "code",
   "execution_count": 5,
   "id": "ddba71b7-bbd3-4221-ad68-03c53cd0d1e0",
   "metadata": {},
   "outputs": [],
   "source": [
    "class pwskills:\n",
    "    \n",
    "    def __init__(self, course_price, course_name):\n",
    "        self.__course_price = course_price\n",
    "        self.course_name = course_name"
   ]
  },
  {
   "cell_type": "code",
   "execution_count": 7,
   "id": "a429fea6-54fe-42a6-949f-8edbf9c587d4",
   "metadata": {},
   "outputs": [],
   "source": [
    "pw = pwskills(3500, \"Data Science Masters\")"
   ]
  },
  {
   "cell_type": "code",
   "execution_count": 9,
   "id": "cdbb77ab-b9da-4a40-bd1e-6679324ea7c4",
   "metadata": {},
   "outputs": [
    {
     "ename": "AttributeError",
     "evalue": "'pwskills' object has no attribute '__course_price'",
     "output_type": "error",
     "traceback": [
      "\u001b[0;31m---------------------------------------------------------------------------\u001b[0m",
      "\u001b[0;31mAttributeError\u001b[0m                            Traceback (most recent call last)",
      "Cell \u001b[0;32mIn[9], line 1\u001b[0m\n\u001b[0;32m----> 1\u001b[0m \u001b[43mpw\u001b[49m\u001b[38;5;241;43m.\u001b[39;49m\u001b[43m__course_price\u001b[49m \u001b[38;5;66;03m# We cannot access this because we have made it private by putting 2 underscore\u001b[39;00m\n",
      "\u001b[0;31mAttributeError\u001b[0m: 'pwskills' object has no attribute '__course_price'"
     ]
    }
   ],
   "source": [
    "pw.__course_price # We cannot access this because we have made it private by putting 2 underscore"
   ]
  },
  {
   "cell_type": "code",
   "execution_count": 11,
   "id": "a28bd1d3-9f3e-40de-8d21-576a6e5cdcc9",
   "metadata": {},
   "outputs": [
    {
     "data": {
      "text/plain": [
       "3500"
      ]
     },
     "execution_count": 11,
     "metadata": {},
     "output_type": "execute_result"
    }
   ],
   "source": [
    "# However we as a owner of this code has the ability to access this by just putting underscore and class name\n",
    "pw._pwskills__course_price"
   ]
  },
  {
   "cell_type": "code",
   "execution_count": 30,
   "id": "61b932ab-771c-460d-9860-49718cce09af",
   "metadata": {},
   "outputs": [],
   "source": [
    "# Now we want to give private variable access to user then we use \"property\" decorator\n",
    "# After giving access we can also modify it\n",
    "class pwskills1:\n",
    "    \n",
    "    def __init__(self, course_price, course_name):\n",
    "        self.__course_price = course_price\n",
    "        self.course_name = course_name\n",
    "        \n",
    "    @property\n",
    "    def course_price_access(self):\n",
    "        return self.__course_price\n",
    "    \n",
    "    # Now we want that user can modify our private variable. Here's how he/she can do it\n",
    "    @course_price_access.setter\n",
    "    def course_price_set(self, price):\n",
    "        if price <= 3500:\n",
    "            pass\n",
    "        else:\n",
    "            self.__course_price = price\n",
    "            \n",
    "    # Now we want that user can delete this private variable\n",
    "    # for deleting also we need to access it first\n",
    "    @course_price_access.deleter\n",
    "    def delete_course_price(self):\n",
    "        del self.__course_price"
   ]
  },
  {
   "cell_type": "code",
   "execution_count": 31,
   "id": "63e53458-48a4-4f9f-aac0-21a0dc5a0f51",
   "metadata": {},
   "outputs": [],
   "source": [
    "pw1 = pwskills1(3500,\"Data Science Masters\")"
   ]
  },
  {
   "cell_type": "code",
   "execution_count": 32,
   "id": "04aacd8f-51df-4286-849b-f7a7d05ab869",
   "metadata": {},
   "outputs": [
    {
     "data": {
      "text/plain": [
       "3500"
      ]
     },
     "execution_count": 32,
     "metadata": {},
     "output_type": "execute_result"
    }
   ],
   "source": [
    "pw1.course_price_access"
   ]
  },
  {
   "cell_type": "code",
   "execution_count": 33,
   "id": "9ac681e1-f46f-4189-8adf-af2f23864be6",
   "metadata": {},
   "outputs": [],
   "source": [
    "pw1.course_price_set = 4500"
   ]
  },
  {
   "cell_type": "code",
   "execution_count": 34,
   "id": "078788b6-ca85-4d40-b1bb-b9d7c525d41e",
   "metadata": {},
   "outputs": [
    {
     "data": {
      "text/plain": [
       "4500"
      ]
     },
     "execution_count": 34,
     "metadata": {},
     "output_type": "execute_result"
    }
   ],
   "source": [
    "pw1.course_price_access"
   ]
  },
  {
   "cell_type": "code",
   "execution_count": 37,
   "id": "c2fdf6c8-864d-41c3-b61f-022a11eab5a0",
   "metadata": {},
   "outputs": [],
   "source": [
    "# Now if we want to delete course price therefor we will call delete_course_price \n",
    "del pw1.delete_course_price"
   ]
  },
  {
   "cell_type": "code",
   "execution_count": 38,
   "id": "733f0e99-bdec-4443-9f8d-bf6f7d41c78c",
   "metadata": {},
   "outputs": [
    {
     "ename": "AttributeError",
     "evalue": "'pwskills1' object has no attribute '_pwskills1__course_price'",
     "output_type": "error",
     "traceback": [
      "\u001b[0;31m---------------------------------------------------------------------------\u001b[0m",
      "\u001b[0;31mAttributeError\u001b[0m                            Traceback (most recent call last)",
      "Cell \u001b[0;32mIn[38], line 2\u001b[0m\n\u001b[1;32m      1\u001b[0m \u001b[38;5;66;03m# After deleting we will not be able to access course price\u001b[39;00m\n\u001b[0;32m----> 2\u001b[0m \u001b[43mpw1\u001b[49m\u001b[38;5;241;43m.\u001b[39;49m\u001b[43mcourse_price_access\u001b[49m\n",
      "Cell \u001b[0;32mIn[30], line 11\u001b[0m, in \u001b[0;36mpwskills1.course_price_access\u001b[0;34m(self)\u001b[0m\n\u001b[1;32m      9\u001b[0m \u001b[38;5;129m@property\u001b[39m\n\u001b[1;32m     10\u001b[0m \u001b[38;5;28;01mdef\u001b[39;00m \u001b[38;5;21mcourse_price_access\u001b[39m(\u001b[38;5;28mself\u001b[39m):\n\u001b[0;32m---> 11\u001b[0m     \u001b[38;5;28;01mreturn\u001b[39;00m \u001b[38;5;28;43mself\u001b[39;49m\u001b[38;5;241;43m.\u001b[39;49m\u001b[43m__course_price\u001b[49m\n",
      "\u001b[0;31mAttributeError\u001b[0m: 'pwskills1' object has no attribute '_pwskills1__course_price'"
     ]
    }
   ],
   "source": [
    "# After deleting we will not be able to access course price\n",
    "pw1.course_price_access"
   ]
  },
  {
   "cell_type": "code",
   "execution_count": null,
   "id": "e1b3176a-7f4f-4ff9-a6c2-56e814a1fe67",
   "metadata": {},
   "outputs": [],
   "source": []
  }
 ],
 "metadata": {
  "kernelspec": {
   "display_name": "Python 3 (ipykernel)",
   "language": "python",
   "name": "python3"
  },
  "language_info": {
   "codemirror_mode": {
    "name": "ipython",
    "version": 3
   },
   "file_extension": ".py",
   "mimetype": "text/x-python",
   "name": "python",
   "nbconvert_exporter": "python",
   "pygments_lexer": "ipython3",
   "version": "3.10.8"
  }
 },
 "nbformat": 4,
 "nbformat_minor": 5
}
