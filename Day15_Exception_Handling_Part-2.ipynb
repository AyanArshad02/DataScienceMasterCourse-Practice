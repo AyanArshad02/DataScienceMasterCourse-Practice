{
 "cells": [
  {
   "cell_type": "code",
   "execution_count": null,
   "id": "7282d0aa-01bf-4cf5-8e51-b3f38bcd3e0c",
   "metadata": {},
   "outputs": [],
   "source": [
    "\"\"\"\n",
    "List of General Use Exceptions\n",
    "\"\"\""
   ]
  },
  {
   "cell_type": "code",
   "execution_count": 2,
   "id": "b94d41b4-29fc-4639-962b-6e82b7a87ac7",
   "metadata": {},
   "outputs": [
    {
     "name": "stdout",
     "output_type": "stream",
     "text": [
      "invalid literal for int() with base 10: 'ayan'\n"
     ]
    }
   ],
   "source": [
    "try:\n",
    "    int(\"ayan\")\n",
    "except (TypeError, ValueError) as e:\n",
    "    print(e)"
   ]
  },
  {
   "cell_type": "code",
   "execution_count": 3,
   "id": "8bce03eb-a528-4efa-84bb-c5f60df5e81d",
   "metadata": {},
   "outputs": [
    {
     "name": "stdout",
     "output_type": "stream",
     "text": [
      "No module named 'ayan'\n"
     ]
    }
   ],
   "source": [
    "try:\n",
    "    import ayan\n",
    "except ImportError as e:\n",
    "    print(e)"
   ]
  },
  {
   "cell_type": "code",
   "execution_count": 4,
   "id": "6cb14e26-432a-4b6f-ae60-185c9fb51376",
   "metadata": {},
   "outputs": [
    {
     "name": "stdout",
     "output_type": "stream",
     "text": [
      "No module named 'ayan'\n"
     ]
    }
   ],
   "source": [
    "# If we don't know what type of error it is then simply we will do this\n",
    "try:\n",
    "    import ayan\n",
    "except Exception as e:\n",
    "    print(e)"
   ]
  },
  {
   "cell_type": "code",
   "execution_count": 5,
   "id": "a7725d7e-f555-494c-ad9c-5a28a708fd52",
   "metadata": {},
   "outputs": [
    {
     "name": "stdout",
     "output_type": "stream",
     "text": [
      "'str' object has no attribute 'test'\n"
     ]
    }
   ],
   "source": [
    "try:\n",
    "    \"ayan\".test()\n",
    "except AttributeError as e:\n",
    "    print(e)"
   ]
  },
  {
   "cell_type": "code",
   "execution_count": 6,
   "id": "c5f3c135-219a-46cb-b985-c90c7502f274",
   "metadata": {},
   "outputs": [
    {
     "name": "stdout",
     "output_type": "stream",
     "text": [
      "list index out of range\n"
     ]
    }
   ],
   "source": [
    "try:\n",
    "    l = [1,2,3,4]\n",
    "    l[6]\n",
    "except IndexError as e:\n",
    "    print(e)"
   ]
  },
  {
   "cell_type": "code",
   "execution_count": null,
   "id": "40aaed24-4556-4a42-a515-4f7ef950eb04",
   "metadata": {},
   "outputs": [],
   "source": [
    "\"\"\"\n",
    "-Always use logging module and Exception Handling in your code.\n",
    "-Use logging module in place of print statement. \n",
    "\"\"\""
   ]
  },
  {
   "cell_type": "code",
   "execution_count": null,
   "id": "f69a6e6b-a62e-4534-88cb-07d871e03cd7",
   "metadata": {},
   "outputs": [],
   "source": [
    "\"\"\"\n",
    "BEST PRACTICE FOR EXCEPTION HANDLING\n",
    "You need to follow these general instructions\n",
    "\"\"\""
   ]
  },
  {
   "cell_type": "code",
   "execution_count": null,
   "id": "6c6253ab-cbc7-45fb-ae4f-fd3db785b0d2",
   "metadata": {},
   "outputs": [],
   "source": [
    "# 1. ALways use a specific Exception\n",
    "try:\n",
    "    a = 10/0\n",
    "except ZeroDivisionError as e:\n",
    "    print(e)\n",
    "    \n",
    "\"\"\" Although we can use Exception Superclass but it is not recommended\n",
    "as someone reading this code will not understand which exception we are trying to handle\"\"\""
   ]
  },
  {
   "cell_type": "code",
   "execution_count": 11,
   "id": "2bda4b31-6e10-44bf-896b-2ca0564d1733",
   "metadata": {},
   "outputs": [
    {
     "name": "stdout",
     "output_type": "stream",
     "text": [
      "I am trying to handle ZeroDivisionError: division by zero\n"
     ]
    }
   ],
   "source": [
    "# 2. Always Print Proper Messages in except block\n",
    "try:\n",
    "    a = 10/0\n",
    "except ZeroDivisionError as e:\n",
    "    print(\"I am trying to handle ZeroDivisionError:\", e)"
   ]
  },
  {
   "cell_type": "code",
   "execution_count": 16,
   "id": "16cf462b-4fe5-4c3a-ae23-aad3d7f77881",
   "metadata": {},
   "outputs": [],
   "source": [
    "# 3. Always try to log your error:\n",
    "import logging\n",
    "logging.basicConfig(filename = \"ExceptionHandling.log\", level = logging.ERROR)\n",
    "\n",
    "try:\n",
    "    a = 10/0\n",
    "except ZeroDivisionError as e:\n",
    "    logging.info(\"I am trying to handle ZeroDivisonError: {}\".format(e))"
   ]
  },
  {
   "cell_type": "code",
   "execution_count": null,
   "id": "2ac386e7-b6a8-416a-bd3f-b2a73f5be8d5",
   "metadata": {},
   "outputs": [],
   "source": [
    "# 4. Always avoid writting multiple Exception Handling"
   ]
  },
  {
   "cell_type": "code",
   "execution_count": null,
   "id": "aec1e382-4812-4f0c-aa8e-ae346da0d14b",
   "metadata": {},
   "outputs": [],
   "source": [
    "# 5. Document all the error"
   ]
  },
  {
   "cell_type": "code",
   "execution_count": null,
   "id": "aa9da501-6a8e-4fce-a4ae-74d92f9e6dca",
   "metadata": {},
   "outputs": [],
   "source": [
    "# 6. CleanUp all the resources\n",
    "try:\n",
    "    with open(\"file.txt\", \"w\") as f:\n",
    "        f.write(\"This is my file\")\n",
    "except FileNotFoundError as e:\n",
    "    print(e)\n",
    "finally:\n",
    "    f.close()\n",
    "    \n",
    "\"\"\"\n",
    "Here we have opened our file and we also need to close it.\n",
    "That's we we have written it in 'finally' block as if try block shows an error \n",
    "\"\"\""
   ]
  }
 ],
 "metadata": {
  "kernelspec": {
   "display_name": "Python 3 (ipykernel)",
   "language": "python",
   "name": "python3"
  },
  "language_info": {
   "codemirror_mode": {
    "name": "ipython",
    "version": 3
   },
   "file_extension": ".py",
   "mimetype": "text/x-python",
   "name": "python",
   "nbconvert_exporter": "python",
   "pygments_lexer": "ipython3",
   "version": "3.10.8"
  }
 },
 "nbformat": 4,
 "nbformat_minor": 5
}
