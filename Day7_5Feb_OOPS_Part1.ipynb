{
 "cells": [
  {
   "cell_type": "code",
   "execution_count": 1,
   "id": "bac7190c-8f96-428a-9144-7baea2ab6595",
   "metadata": {},
   "outputs": [
    {
     "data": {
      "text/plain": [
       "\"'OOPS' Stands for OBJECT ORIENTED PROGRAMMING SYSTEM\""
      ]
     },
     "execution_count": 1,
     "metadata": {},
     "output_type": "execute_result"
    }
   ],
   "source": [
    "\"'OOPS' Stands for OBJECT ORIENTED PROGRAMMING SYSTEM\""
   ]
  },
  {
   "cell_type": "code",
   "execution_count": 4,
   "id": "26639485-6989-4542-99d8-57767750297b",
   "metadata": {},
   "outputs": [
    {
     "name": "stdout",
     "output_type": "stream",
     "text": [
      "<class 'int'>\n",
      "<class 'str'>\n"
     ]
    }
   ],
   "source": [
    "a = 1 \n",
    "b = \"string\"\n",
    "print(type(a))\n",
    "print(type(b))"
   ]
  },
  {
   "cell_type": "code",
   "execution_count": 5,
   "id": "a0f20f3c-5b11-43b5-8388-5dc64b508260",
   "metadata": {},
   "outputs": [
    {
     "data": {
      "text/plain": [
       "' now what is this class??? \\n    Here comes concept of classes\\n'"
      ]
     },
     "execution_count": 5,
     "metadata": {},
     "output_type": "execute_result"
    }
   ],
   "source": [
    "\"\"\" now what is this class??? \n",
    "    Here comes concept of classes\n",
    "    A class is a blueprint for creating object like class int, class str\n",
    "    object is variable or instances\n",
    "    e.g. class int: here 'int' is object\n",
    "\"\"\""
   ]
  },
  {
   "cell_type": "code",
   "execution_count": 6,
   "id": "ba5a75c2-6d3c-445a-9d09-fcb1d4837f83",
   "metadata": {},
   "outputs": [],
   "source": [
    "# way to create a blank class\n",
    "class test:\n",
    "    pass"
   ]
  },
  {
   "cell_type": "code",
   "execution_count": 1,
   "id": "dd1c8711-4245-46c3-bbdf-76940542dd02",
   "metadata": {},
   "outputs": [
    {
     "data": {
      "text/plain": [
       "' Class simplifies the different modules in program'"
      ]
     },
     "execution_count": 1,
     "metadata": {},
     "output_type": "execute_result"
    }
   ],
   "source": [
    "# Why there is need to make class in programming language\n",
    "\"\"\" Class simplifies the different modules in program\"\"\""
   ]
  },
  {
   "cell_type": "code",
   "execution_count": 3,
   "id": "b5ddbdac-678f-49f4-b8db-77811f617795",
   "metadata": {},
   "outputs": [
    {
     "name": "stdout",
     "output_type": "stream",
     "text": [
      "<class '__main__.ayan'>\n"
     ]
    }
   ],
   "source": [
    "class ayan:\n",
    "    pass\n",
    "a = ayan() # therefore type(a) is class ayan and this is how we can create class for variable\n",
    "print(type(a))"
   ]
  },
  {
   "cell_type": "code",
   "execution_count": 10,
   "id": "96457e4d-13e6-4680-87b3-c6ad72d54b1d",
   "metadata": {},
   "outputs": [
    {
     "name": "stdout",
     "output_type": "stream",
     "text": [
      "Welcome to Pwskills\n"
     ]
    }
   ],
   "source": [
    "class pwskills:\n",
    "    def welcome_message(self): # we need to pass self as an argument while defining a function inside class\n",
    "        print(\"Welcome to Pwskills\")\n",
    "\n",
    "ayan = pwskills()\n",
    "# print(ayan.welcome_message())\n",
    "ayan.welcome_message()"
   ]
  },
  {
   "cell_type": "code",
   "execution_count": 22,
   "id": "d9f15c90-ef6a-4b45-9f55-260d454b1b4e",
   "metadata": {},
   "outputs": [
    {
     "ename": "TypeError",
     "evalue": "pwskills1.__init__() missing 3 required positional arguments: 'ph_no', 'email_id', and 'student_id'",
     "output_type": "error",
     "traceback": [
      "\u001b[0;31m---------------------------------------------------------------------------\u001b[0m",
      "\u001b[0;31mTypeError\u001b[0m                                 Traceback (most recent call last)",
      "Cell \u001b[0;32mIn[22], line 13\u001b[0m\n\u001b[1;32m     10\u001b[0m     \u001b[38;5;28;01mdef\u001b[39;00m \u001b[38;5;21mreturn_student_details\u001b[39m(\u001b[38;5;28mself\u001b[39m):\n\u001b[1;32m     11\u001b[0m         \u001b[38;5;28;01mreturn\u001b[39;00m \u001b[38;5;28mself\u001b[39m\u001b[38;5;241m.\u001b[39mph_no, \u001b[38;5;28mself\u001b[39m\u001b[38;5;241m.\u001b[39memail_id, \u001b[38;5;28mself\u001b[39m\u001b[38;5;241m.\u001b[39mstudent_id\n\u001b[0;32m---> 13\u001b[0m ayan \u001b[38;5;241m=\u001b[39m \u001b[43mpwskills1\u001b[49m\u001b[43m(\u001b[49m\u001b[43m)\u001b[49m \u001b[38;5;66;03m#will throw an error because we need to pass three arguments but we have not passed 0\u001b[39;00m\n",
      "\u001b[0;31mTypeError\u001b[0m: pwskills1.__init__() missing 3 required positional arguments: 'ph_no', 'email_id', and 'student_id'"
     ]
    }
   ],
   "source": [
    "class pwskills1:\n",
    "    \"\"\"The __init__ function is called everytime a object is created from a class\n",
    "       The __init__ lets the class initalize the object attributes and serves no other purpose.\n",
    "       It is only used within the classes\"\"\"\n",
    "    def __init__(self, ph_no, email_id, student_id):\n",
    "        self.ph_no = ph_no\n",
    "        self.email_id = email_id\n",
    "        self.student_id = student_id\n",
    "    \n",
    "    def return_student_details(self):\n",
    "        return self.ph_no, self.email_id, self.student_id\n",
    "\n",
    "ayan = pwskills1() #will throw an error because we need to pass three arguments but we have not passed 0"
   ]
  },
  {
   "cell_type": "code",
   "execution_count": 27,
   "id": "1582fec9-20dd-4f09-a721-940e0bf35ab0",
   "metadata": {},
   "outputs": [],
   "source": [
    "ayan = pwskills1(123456789, \"ayanarshad\", \"iitmadras\") # creating object named ayan for class pwskills1"
   ]
  },
  {
   "cell_type": "code",
   "execution_count": 28,
   "id": "cccab168-3873-4eab-a640-900d8f2fadc8",
   "metadata": {},
   "outputs": [
    {
     "data": {
      "text/plain": [
       "(123456789, 'ayanarshad', 'iitmadras')"
      ]
     },
     "execution_count": 28,
     "metadata": {},
     "output_type": "execute_result"
    }
   ],
   "source": [
    "ayan.return_student_details()"
   ]
  },
  {
   "cell_type": "code",
   "execution_count": 41,
   "id": "07518a54-2c30-477e-abdb-0f0a01b3bebd",
   "metadata": {},
   "outputs": [
    {
     "name": "stdout",
     "output_type": "stream",
     "text": [
      "123456789\n",
      "akakak\n",
      "100\n"
     ]
    }
   ],
   "source": [
    "# NOTE: self is not a reserved keyword, we can use other word as a pointer too\n",
    "class ayan:\n",
    "    def __init__(khan,number,email,Id):\n",
    "        khan.number = number\n",
    "        khan.email = email\n",
    "        khan.Id = Id\n",
    "    def return_details(khan):\n",
    "        return khan.number, khan.email, khan.Id\n",
    "ak = ayan(123456789,\"akakak\", 100)\n",
    "print(ak.number)\n",
    "print(ak.email)\n",
    "print(ak.Id)"
   ]
  },
  {
   "cell_type": "code",
   "execution_count": null,
   "id": "27454234-882c-4724-a117-3e583a962a1f",
   "metadata": {},
   "outputs": [],
   "source": []
  }
 ],
 "metadata": {
  "kernelspec": {
   "display_name": "Python 3 (ipykernel)",
   "language": "python",
   "name": "python3"
  },
  "language_info": {
   "codemirror_mode": {
    "name": "ipython",
    "version": 3
   },
   "file_extension": ".py",
   "mimetype": "text/x-python",
   "name": "python",
   "nbconvert_exporter": "python",
   "pygments_lexer": "ipython3",
   "version": "3.10.8"
  }
 },
 "nbformat": 4,
 "nbformat_minor": 5
}
