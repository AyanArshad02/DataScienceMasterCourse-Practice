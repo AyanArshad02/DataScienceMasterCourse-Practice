{
 "cells": [
  {
   "cell_type": "code",
   "execution_count": null,
   "id": "f0b74190-7304-491f-8060-cad638c86084",
   "metadata": {},
   "outputs": [],
   "source": [
    "\"\"\"\n",
    "Multiprocessing is the technique of running multiple processes in parallel.\n",
    "It allows you to take advantage of multiple cores or processors on your system and\n",
    "can significantly improve the perfomance of your code.\n",
    "\"\"\""
   ]
  },
  {
   "cell_type": "code",
   "execution_count": 5,
   "id": "4e3a50fe-20ae-499a-a097-b8d58f771edf",
   "metadata": {},
   "outputs": [
    {
     "name": "stdout",
     "output_type": "stream",
     "text": [
      "This is my main program\n",
      "This is my multiprocessing program\n"
     ]
    }
   ],
   "source": [
    "# 1st method of using multiprocessing\n",
    "import multiprocessing\n",
    "\n",
    "def test():\n",
    "    print(\"This is my multiprocessing program\")\n",
    "    \n",
    "if __name__ == '__main__':\n",
    "    m = multiprocessing.Process(target = test)\n",
    "    print(\"This is my main program\")\n",
    "    m.start()\n",
    "    m.join()\n"
   ]
  },
  {
   "cell_type": "code",
   "execution_count": 8,
   "id": "e467a04c-3858-4a4c-babf-8b9808b95da1",
   "metadata": {},
   "outputs": [
    {
     "name": "stdout",
     "output_type": "stream",
     "text": [
      "[1, 4, 9, 16, 25, 36, 49, 64, 81, 100]\n"
     ]
    }
   ],
   "source": [
    "# 2nd method of using multiprocessing\n",
    "import multiprocessing\n",
    "\n",
    "def square(n):\n",
    "    return n**2\n",
    "\n",
    "if __name__ == '__main__':\n",
    "    with multiprocessing.Pool(processes = 4) as pool:\n",
    "        output = pool.map(square,[1,2,3,4,5,6,7,8,9,10])\n",
    "        print(output)"
   ]
  },
  {
   "cell_type": "code",
   "execution_count": null,
   "id": "ba51fb55-8823-4dac-92bf-5eda428952c6",
   "metadata": {},
   "outputs": [
    {
     "name": "stdout",
     "output_type": "stream",
     "text": [
      "0\n",
      "1\n",
      "2\n",
      "3\n",
      "4\n",
      "5\n",
      "6\n",
      "7\n",
      "8\n",
      "9\n",
      "ayan\n"
     ]
    }
   ],
   "source": [
    "# 3rd method of using multiprocessing\n",
    "import multiprocessing\n",
    "def producer(q):\n",
    "    for i in range(10):\n",
    "        q.put(i)\n",
    "        \n",
    "def consumer(q):\n",
    "    while True:\n",
    "        item = q.get()\n",
    "        if item is None:\n",
    "            break\n",
    "        print(item)\n",
    "        \n",
    "if __name__ == '__main__':\n",
    "    queue = multiprocessing.Queue()\n",
    "    m1 = multiprocessing.Process(target = producer, args = [queue])\n",
    "    m2 = multiprocessing.Process(target = consumer, args = (queue,))\n",
    "    m1.start()\n",
    "    m2.start()\n",
    "    queue.put(\"ayan\")\n",
    "    m1.join()\n",
    "    m2.join()\n",
    "    "
   ]
  },
  {
   "cell_type": "code",
   "execution_count": 5,
   "id": "962764c1-f159-4cfa-9056-5e033b50e96a",
   "metadata": {},
   "outputs": [
    {
     "name": "stderr",
     "output_type": "stream",
     "text": [
      "Process Process-27:\n",
      "Traceback (most recent call last):\n",
      "Process Process-28:\n",
      "  File \"/opt/conda/lib/python3.10/multiprocessing/process.py\", line 314, in _bootstrap\n",
      "    self.run()\n",
      "  File \"/opt/conda/lib/python3.10/multiprocessing/process.py\", line 108, in run\n",
      "    self._target(*self._args, **self._kwargs)\n",
      "Traceback (most recent call last):\n",
      "  File \"/tmp/ipykernel_84/3553246806.py\", line 3, in square\n",
      "    value[index] = value[index]**2\n",
      "  File \"/opt/conda/lib/python3.10/multiprocessing/process.py\", line 314, in _bootstrap\n",
      "    self.run()\n",
      "  File \"/opt/conda/lib/python3.10/multiprocessing/sharedctypes.py\", line 223, in __getitem__\n",
      "    return self._obj[i]\n",
      "  File \"/opt/conda/lib/python3.10/multiprocessing/process.py\", line 108, in run\n",
      "    self._target(*self._args, **self._kwargs)\n",
      "IndexError: invalid index\n",
      "  File \"/tmp/ipykernel_84/3553246806.py\", line 3, in square\n",
      "    value[index] = value[index]**2\n",
      "  File \"/opt/conda/lib/python3.10/multiprocessing/sharedctypes.py\", line 223, in __getitem__\n",
      "    return self._obj[i]\n",
      "IndexError: invalid index\n"
     ]
    },
    {
     "name": "stdout",
     "output_type": "stream",
     "text": [
      "[1, 4, 9, 16, 25]\n"
     ]
    }
   ],
   "source": [
    "import multiprocessing\n",
    "def square(index, value):\n",
    "    value[index] = value[index]**2\n",
    "    \n",
    "if __name__ == '__main__':\n",
    "    arr = multiprocessing.Array('i',[1,2,3,4,5])\n",
    "    process = []\n",
    "    for i in range(7):\n",
    "        m = multiprocessing.Process(target = square, args = (i,arr))\n",
    "        process.append(m)\n",
    "        m.start()\n",
    "    for m in process:\n",
    "        m.join()\n",
    "    print(list(arr))"
   ]
  },
  {
   "cell_type": "code",
   "execution_count": null,
   "id": "afd90d97-3c85-435e-b4c3-7d8858c1ba81",
   "metadata": {},
   "outputs": [
    {
     "name": "stdout",
     "output_type": "stream",
     "text": [
      "My name is Ayan\n",
      "Doing my undergraduation from IITM\n",
      "Learning Data Science\n"
     ]
    }
   ],
   "source": [
    "import multiprocessing\n",
    "\n",
    "def sender(conn, msg):\n",
    "    for i in msg:\n",
    "        conn.send(i)\n",
    "    conn.close()\n",
    "    \n",
    "def recieve(conn):\n",
    "    while True:\n",
    "        try:\n",
    "            msg = conn.recv()\n",
    "        except Exception as e:\n",
    "            print(e)\n",
    "            break\n",
    "        print(msg)\n",
    "        \n",
    "if __name__ == '__main__':\n",
    "    msg = [\"My name is Ayan\",\"Doing my undergraduation from IITM\",\"Learning Data Science\"]\n",
    "    parent_conn , child_conn = multiprocessing.Pipe()\n",
    "    m1 = multiprocessing.Process(target=sender, args = (child_conn,msg))\n",
    "    m2 = multiprocessing.Process(target = recieve, args = (parent_conn,))\n",
    "    m1.start()\n",
    "    m2.start()\n",
    "    m1.join()\n",
    "    child_conn.close()\n",
    "    m2.join()\n",
    "    parent_conn.close()"
   ]
  },
  {
   "cell_type": "code",
   "execution_count": null,
   "id": "d4d0c771-9cb4-4265-b13f-1c880fee9940",
   "metadata": {},
   "outputs": [],
   "source": [
    "\"\"\"\n",
    "Read properly about Multiprocessing and its different methods\n",
    "\"\"\""
   ]
  }
 ],
 "metadata": {
  "kernelspec": {
   "display_name": "Python 3 (ipykernel)",
   "language": "python",
   "name": "python3"
  },
  "language_info": {
   "codemirror_mode": {
    "name": "ipython",
    "version": 3
   },
   "file_extension": ".py",
   "mimetype": "text/x-python",
   "name": "python",
   "nbconvert_exporter": "python",
   "pygments_lexer": "ipython3",
   "version": "3.10.8"
  }
 },
 "nbformat": 4,
 "nbformat_minor": 5
}
