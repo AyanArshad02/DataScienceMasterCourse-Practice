{
 "cells": [
  {
   "cell_type": "code",
   "execution_count": 1,
   "id": "44097959-3354-4c7c-8a7b-6ada71562e15",
   "metadata": {},
   "outputs": [],
   "source": [
    "l = [1,2,3,4,5]"
   ]
  },
  {
   "cell_type": "code",
   "execution_count": 3,
   "id": "b55ea28b-3447-42a6-8da7-8a5d1989dc97",
   "metadata": {},
   "outputs": [
    {
     "name": "stdout",
     "output_type": "stream",
     "text": [
      "1 <class 'int'>\n",
      "2 <class 'int'>\n",
      "3 <class 'int'>\n",
      "4 <class 'int'>\n",
      "5 <class 'int'>\n"
     ]
    }
   ],
   "source": [
    "for i in l:\n",
    "    print(i,type(i))"
   ]
  },
  {
   "cell_type": "code",
   "execution_count": 3,
   "id": "1fd958a7-142f-47c6-be81-860b917c78f7",
   "metadata": {},
   "outputs": [],
   "source": [
    "l1 = [\"Ayan\",\"Khan\",\"Arshad\",\"Arsalan\"]"
   ]
  },
  {
   "cell_type": "code",
   "execution_count": 6,
   "id": "ea0a1d21-687d-4042-a5aa-c4f6743a07ad",
   "metadata": {},
   "outputs": [
    {
     "name": "stdout",
     "output_type": "stream",
     "text": [
      "Ayan\n",
      "Khan\n",
      "Arshad\n",
      "Arsalan\n"
     ]
    }
   ],
   "source": [
    "for i in l1:\n",
    "    print(i)"
   ]
  },
  {
   "cell_type": "code",
   "execution_count": 7,
   "id": "7e48c1dd-59c6-4be6-8418-eaa420fb70e4",
   "metadata": {},
   "outputs": [
    {
     "data": {
      "text/plain": [
       "['Ayan', 'Khan', 'Arshad', 'Arsalan']"
      ]
     },
     "execution_count": 7,
     "metadata": {},
     "output_type": "execute_result"
    }
   ],
   "source": [
    "l1"
   ]
  },
  {
   "cell_type": "code",
   "execution_count": 9,
   "id": "76f7ef34-8c2e-402d-a0c4-62259da66bfb",
   "metadata": {},
   "outputs": [
    {
     "name": "stdout",
     "output_type": "stream",
     "text": [
      "Ayan\n",
      "Khan\n",
      "Arshad\n",
      "Arsalan\n",
      "jb for loop pura chlega tb else execute hga\n"
     ]
    }
   ],
   "source": [
    "for i in l1:\n",
    "    print(i)\n",
    "else:\n",
    "    print(\"jb for loop pura chlega tb else execute hga\") # in for-else , else tb hi execute hga tb for loop pura chlega"
   ]
  },
  {
   "cell_type": "code",
   "execution_count": 10,
   "id": "d80099f7-7f4d-4cce-85f6-5078f4c1834d",
   "metadata": {},
   "outputs": [
    {
     "name": "stdout",
     "output_type": "stream",
     "text": [
      "Ayan\n",
      "Khan\n"
     ]
    }
   ],
   "source": [
    "for i in l1:\n",
    "    if i == \"Arshad\":\n",
    "        break\n",
    "    print(i)    \n",
    "else:\n",
    "    print(\"This will not execute if for loop beech mein ruk jyega in for-else loop\")"
   ]
  },
  {
   "cell_type": "code",
   "execution_count": 11,
   "id": "8d5a3064-200d-4831-866b-f3df6e6ce0d0",
   "metadata": {},
   "outputs": [
    {
     "name": "stdout",
     "output_type": "stream",
     "text": [
      "Ayan\n",
      "Arshad\n",
      "Arsalan\n"
     ]
    }
   ],
   "source": [
    "for i in l1:\n",
    "    if i == \"Khan\":\n",
    "        continue #continue skips the current iteration\n",
    "    print(i)    "
   ]
  },
  {
   "cell_type": "code",
   "execution_count": 12,
   "id": "d410a646-4c5e-4132-8a03-7fcdc6da2449",
   "metadata": {},
   "outputs": [
    {
     "data": {
      "text/plain": [
       "range(0, 5)"
      ]
     },
     "execution_count": 12,
     "metadata": {},
     "output_type": "execute_result"
    }
   ],
   "source": [
    "range(5)"
   ]
  },
  {
   "cell_type": "code",
   "execution_count": 13,
   "id": "0b7730a7-8114-4313-b3ff-e85b1b1e7f83",
   "metadata": {},
   "outputs": [
    {
     "data": {
      "text/plain": [
       "[0, 1, 2, 3, 4]"
      ]
     },
     "execution_count": 13,
     "metadata": {},
     "output_type": "execute_result"
    }
   ],
   "source": [
    "list(range(5))"
   ]
  },
  {
   "cell_type": "code",
   "execution_count": 14,
   "id": "0d34655b-3914-49a9-8c0e-ca23fa5209ea",
   "metadata": {},
   "outputs": [
    {
     "data": {
      "text/plain": [
       "[0, 2, 4, 6, 8]"
      ]
     },
     "execution_count": 14,
     "metadata": {},
     "output_type": "execute_result"
    }
   ],
   "source": [
    "list(range(0,10,2)) "
   ]
  },
  {
   "cell_type": "code",
   "execution_count": 5,
   "id": "476bf9a5-2f38-4c22-a916-94b0bb464658",
   "metadata": {},
   "outputs": [
    {
     "data": {
      "text/plain": [
       "['Ayan', 'Khan', 'Arshad', 'Arsalan']"
      ]
     },
     "execution_count": 5,
     "metadata": {},
     "output_type": "execute_result"
    }
   ],
   "source": [
    "l1"
   ]
  },
  {
   "cell_type": "code",
   "execution_count": 16,
   "id": "d4660258-3d67-4b7e-a4ee-54534bbf0233",
   "metadata": {},
   "outputs": [
    {
     "data": {
      "text/plain": [
       "4"
      ]
     },
     "execution_count": 16,
     "metadata": {},
     "output_type": "execute_result"
    }
   ],
   "source": [
    "len(l1)"
   ]
  },
  {
   "cell_type": "code",
   "execution_count": 17,
   "id": "e32aacca-0b4e-461a-8b36-ea710b102750",
   "metadata": {},
   "outputs": [
    {
     "data": {
      "text/plain": [
       "[0, 1, 2, 3]"
      ]
     },
     "execution_count": 17,
     "metadata": {},
     "output_type": "execute_result"
    }
   ],
   "source": [
    "list(range(len(l1)))"
   ]
  },
  {
   "cell_type": "code",
   "execution_count": 4,
   "id": "a90e20ff-ea1c-42fb-acc2-c8fff7e238fd",
   "metadata": {},
   "outputs": [
    {
     "name": "stdout",
     "output_type": "stream",
     "text": [
      "Arsalan\n",
      "Arshad\n",
      "Khan\n",
      "Ayan\n"
     ]
    }
   ],
   "source": [
    "# for i in range(len(l1)):\n",
    "#     print(l1[(len(l1)-1)-i])\n",
    "# easy alternative for above code\n",
    "for i in range(len(l1)-1,-1,-1):\n",
    "    print(l1[i])"
   ]
  },
  {
   "cell_type": "code",
   "execution_count": 6,
   "id": "88704811-d296-4352-a2d5-bfe6a2570828",
   "metadata": {},
   "outputs": [],
   "source": [
    "l2 = [34,53,66,36,23,98,543,57,987,76,35]"
   ]
  },
  {
   "cell_type": "code",
   "execution_count": 7,
   "id": "816526bd-e2b1-498c-86e7-d5733c9e2e93",
   "metadata": {},
   "outputs": [
    {
     "name": "stdout",
     "output_type": "stream",
     "text": [
      "[0, 2, 4, 6, 8, 10]\n",
      "34\n",
      "66\n",
      "23\n",
      "543\n",
      "987\n",
      "35\n"
     ]
    }
   ],
   "source": [
    "even_index = list(range(0,len(l2),2))\n",
    "print(even_index)\n",
    "for i in even_index:\n",
    "    print(l2[i])\n",
    "    \n",
    "    "
   ]
  },
  {
   "cell_type": "code",
   "execution_count": 19,
   "id": "e1436657-fa5a-420a-8494-d82f71d92c4f",
   "metadata": {},
   "outputs": [
    {
     "name": "stdout",
     "output_type": "stream",
     "text": [
      "The sum of elements of list: 45\n"
     ]
    }
   ],
   "source": [
    "l3 = [1,2,3,4,5,6,7,8,9]\n",
    "sum = 0\n",
    "for i in l3:\n",
    "    sum = sum + i\n",
    "print(\"The sum of elements of list:\",sum)    "
   ]
  },
  {
   "cell_type": "code",
   "execution_count": null,
   "id": "92def896-d69e-4d83-ba27-35eb0d914d54",
   "metadata": {},
   "outputs": [],
   "source": []
  }
 ],
 "metadata": {
  "kernelspec": {
   "display_name": "Python 3 (ipykernel)",
   "language": "python",
   "name": "python3"
  },
  "language_info": {
   "codemirror_mode": {
    "name": "ipython",
    "version": 3
   },
   "file_extension": ".py",
   "mimetype": "text/x-python",
   "name": "python",
   "nbconvert_exporter": "python",
   "pygments_lexer": "ipython3",
   "version": "3.10.8"
  }
 },
 "nbformat": 4,
 "nbformat_minor": 5
}
