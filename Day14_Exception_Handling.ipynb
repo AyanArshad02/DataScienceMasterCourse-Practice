{
 "cells": [
  {
   "cell_type": "code",
   "execution_count": null,
   "id": "4c4749c8-85c6-449b-b7b5-ceb24d7c70dc",
   "metadata": {},
   "outputs": [],
   "source": [
    "\"\"\"\n",
    "Exception Handling with Try Except\n",
    "\"\"\""
   ]
  },
  {
   "cell_type": "code",
   "execution_count": null,
   "id": "8d90e970-da21-42ed-8b7c-2679ef077e82",
   "metadata": {},
   "outputs": [],
   "source": [
    "f = open(\"ayan.txt\", 'r')\n",
    "print(\"This is my print statement\")\n",
    "# This code will throw an error bcoz file is absent therefore we can open it in read mode\n",
    "# And due to this error print statement is not executed\n",
    "\n",
    "# To solve this problem we use Exception Handling "
   ]
  },
  {
   "cell_type": "code",
   "execution_count": 2,
   "id": "d2c262b8-9032-43a5-8336-f90279d56498",
   "metadata": {},
   "outputs": [
    {
     "data": {
      "text/plain": [
       "\" Wherever it is possible that this line of code will show an error,\\nthat we will keep inside 'try' block and whenever it will show an error\\nit will go to 'except' block\""
      ]
     },
     "execution_count": 2,
     "metadata": {},
     "output_type": "execute_result"
    }
   ],
   "source": [
    "\"\"\" Wherever it is possible that this line of code will show an error,\n",
    "that we will keep inside 'try' block and whenever it will show an error\n",
    "it will go to 'except' block.\n",
    "'except' block is executed only when 'try' block code shows an error\n",
    "\"\"\""
   ]
  },
  {
   "cell_type": "code",
   "execution_count": 3,
   "id": "6a4c09e9-e325-4e97-9563-710dbabd0ed2",
   "metadata": {},
   "outputs": [
    {
     "name": "stdout",
     "output_type": "stream",
     "text": [
      "This is my except block [Errno 2] No such file or directory: 'ayan.txt'\n"
     ]
    }
   ],
   "source": [
    "try:\n",
    "    f = open(\"ayan.txt\", 'r')\n",
    "except Exception as e: # \"Exception\" is a superclass for different type of exception\n",
    "    print(\"This is my except block\", e)"
   ]
  },
  {
   "cell_type": "code",
   "execution_count": null,
   "id": "a0795e42-6dc4-425c-abe2-df91cd5584cf",
   "metadata": {},
   "outputs": [],
   "source": [
    "\"\"\"\n",
    "-In addition to 'try' and 'except' we also have 'else' block\n",
    "-'else' block tab hi execute hoga jb 'try' block execute hga\n",
    "-if 'try' block shows an error and 'except' block execute hga then 'else' block execute nhi hga \n",
    "\"\"\""
   ]
  },
  {
   "cell_type": "code",
   "execution_count": 4,
   "id": "f9e8c908-258c-4f9c-8a53-6a228f32ce97",
   "metadata": {},
   "outputs": [],
   "source": [
    "try:\n",
    "    f = open(\"ayan.txt\", 'w')\n",
    "    f.write(\"This is my file named ayan.txt\")\n",
    "except Exception as e:\n",
    "    print(\"This is my except block\",e)\n",
    "else:\n",
    "    f.close() # NOTE: We need to close file, then only we can see what we have written in file\n",
    "    print(\"This 'else' block will be executed once your 'try' block has been executed without error\")"
   ]
  },
  {
   "cell_type": "code",
   "execution_count": null,
   "id": "970ab687-bda8-4cbf-9ca0-7621f97c0073",
   "metadata": {},
   "outputs": [],
   "source": [
    "\"\"\"\n",
    "We also have 'finally' block\n",
    "It will execute itself in any situation\n",
    "\"\"\""
   ]
  },
  {
   "cell_type": "code",
   "execution_count": 7,
   "id": "0ce773a0-a83e-4197-9ccf-4e35e1d60096",
   "metadata": {},
   "outputs": [
    {
     "name": "stdout",
     "output_type": "stream",
     "text": [
      "finally will execute itself in any situation\n"
     ]
    }
   ],
   "source": [
    "try:\n",
    "    f = open(\"ayan.txt\",\"a\")\n",
    "    f.write(\"\\nwe have opened file in append mode\")\n",
    "    f.close()\n",
    "finally:\n",
    "    print(\"finally will execute itself in any situation\")"
   ]
  },
  {
   "cell_type": "code",
   "execution_count": null,
   "id": "abb3500d-945e-48f1-a9c6-15c0a3fb887f",
   "metadata": {},
   "outputs": [],
   "source": [
    "\"\"\"\n",
    "SUMMARY:\n",
    "We have 4 blocks in exception Handling:\n",
    "- try : Here we write code, which we think will throw an error\n",
    "- except : executed when try block code shows an error\n",
    "- else : executed after 'try' block code is successfully executed\n",
    "- finally : execute itself in any situation\n",
    "\"\"\""
   ]
  },
  {
   "cell_type": "code",
   "execution_count": null,
   "id": "384b20e4-74f1-49eb-bb6f-e8d51ff8a640",
   "metadata": {},
   "outputs": [],
   "source": [
    "\"\"\"\n",
    "CUSTOM EXCEPTION HANDLING\n",
    "\"\"\""
   ]
  },
  {
   "cell_type": "code",
   "execution_count": null,
   "id": "f80e925d-9fba-4ad6-a11c-6fbb27da745d",
   "metadata": {},
   "outputs": [],
   "source": [
    "# Now we want to create our own exception"
   ]
  },
  {
   "cell_type": "code",
   "execution_count": null,
   "id": "97df7ca9-167d-4a82-9231-41c7e1b18b85",
   "metadata": {},
   "outputs": [],
   "source": []
  },
  {
   "cell_type": "code",
   "execution_count": 7,
   "id": "14457b02-6397-4e02-80c5-940937b29653",
   "metadata": {},
   "outputs": [],
   "source": [
    "class age_validate(Exception):\n",
    "    def __init__(self, msg):\n",
    "        self.msg = msg"
   ]
  },
  {
   "cell_type": "code",
   "execution_count": 8,
   "id": "9085fa6b-deca-455c-9af0-0a0b15cc680f",
   "metadata": {},
   "outputs": [],
   "source": [
    "def validate_age(age):\n",
    "    if age < 0:\n",
    "        raise age_validate(\"Entered age is less than 0. \\nPlease enter a valid age\")\n",
    "    elif age > 110:\n",
    "        raise age_validate(\"Entered age is very very high. \\nPlease enter a valid age\")\n",
    "    else:\n",
    "        print(\"Age is valid\")"
   ]
  },
  {
   "cell_type": "code",
   "execution_count": 9,
   "id": "baca2869-bb16-424f-9b2f-c72f7e3e1a8b",
   "metadata": {},
   "outputs": [
    {
     "name": "stdin",
     "output_type": "stream",
     "text": [
      "Enter your age: -3\n"
     ]
    },
    {
     "name": "stdout",
     "output_type": "stream",
     "text": [
      "Entered age is less than 0. \n",
      "Please enter a valid age\n"
     ]
    }
   ],
   "source": [
    "try:\n",
    "    age = int(input(\"Enter your age:\"))\n",
    "    validate_age(age)\n",
    "except age_validate as e:\n",
    "    print(e)"
   ]
  },
  {
   "cell_type": "code",
   "execution_count": null,
   "id": "eb70a4ed-1a41-4ce9-9281-58476ef2796e",
   "metadata": {},
   "outputs": [],
   "source": []
  },
  {
   "cell_type": "code",
   "execution_count": null,
   "id": "5a2fa4a9-11b0-43c0-93e2-7976ad2de111",
   "metadata": {},
   "outputs": [],
   "source": []
  },
  {
   "cell_type": "code",
   "execution_count": null,
   "id": "925430ae-8f42-427f-a2a7-4b0e2716f9f6",
   "metadata": {},
   "outputs": [],
   "source": []
  },
  {
   "cell_type": "code",
   "execution_count": null,
   "id": "e1526168-2418-4dce-98b0-42c204b65791",
   "metadata": {},
   "outputs": [],
   "source": []
  }
 ],
 "metadata": {
  "kernelspec": {
   "display_name": "Python 3 (ipykernel)",
   "language": "python",
   "name": "python3"
  },
  "language_info": {
   "codemirror_mode": {
    "name": "ipython",
    "version": 3
   },
   "file_extension": ".py",
   "mimetype": "text/x-python",
   "name": "python",
   "nbconvert_exporter": "python",
   "pygments_lexer": "ipython3",
   "version": "3.10.8"
  }
 },
 "nbformat": 4,
 "nbformat_minor": 5
}
