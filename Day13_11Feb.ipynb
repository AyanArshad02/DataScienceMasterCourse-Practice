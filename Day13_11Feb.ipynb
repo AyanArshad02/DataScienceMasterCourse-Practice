{
 "cells": [
  {
   "cell_type": "code",
   "execution_count": 2,
   "id": "a0b1bdd4-7dcf-4db0-a65d-39e97681c7b9",
   "metadata": {},
   "outputs": [
    {
     "data": {
      "text/plain": [
       "'Working With Files'"
      ]
     },
     "execution_count": 2,
     "metadata": {},
     "output_type": "execute_result"
    }
   ],
   "source": [
    "\"Working With Files\""
   ]
  },
  {
   "cell_type": "code",
   "execution_count": 10,
   "id": "88bc24d4-404e-45ac-b22f-93621cca6753",
   "metadata": {},
   "outputs": [],
   "source": [
    "f = open(\"text.txt\", \"w\") # will open file in write mode\n",
    "# if file is not present then it will create a file named \"text\" and open it in write mode"
   ]
  },
  {
   "cell_type": "code",
   "execution_count": 4,
   "id": "3e04b7f8-77a5-46b6-9622-9194cd395fd9",
   "metadata": {},
   "outputs": [
    {
     "data": {
      "text/plain": [
       "'/home/jovyan/work'"
      ]
     },
     "execution_count": 4,
     "metadata": {},
     "output_type": "execute_result"
    }
   ],
   "source": [
    "pwd # known as present work directory; returns the file directory"
   ]
  },
  {
   "cell_type": "code",
   "execution_count": 11,
   "id": "7234a522-ce68-451f-939c-9758420ae07c",
   "metadata": {},
   "outputs": [
    {
     "data": {
      "text/plain": [
       "21"
      ]
     },
     "execution_count": 11,
     "metadata": {},
     "output_type": "execute_result"
    }
   ],
   "source": [
    "f.write(\"This is my first file\")"
   ]
  },
  {
   "cell_type": "code",
   "execution_count": 12,
   "id": "2446436e-0064-4244-900c-b2c4394f33a5",
   "metadata": {},
   "outputs": [],
   "source": [
    "f.close()"
   ]
  },
  {
   "cell_type": "code",
   "execution_count": 23,
   "id": "0dc6f895-77a4-4455-aa2c-5e6382dae4af",
   "metadata": {},
   "outputs": [],
   "source": [
    "f = open(\"text.txt\", \"w\")"
   ]
  },
  {
   "cell_type": "code",
   "execution_count": 24,
   "id": "4492bd57-7dbe-41ac-95a6-8d69175c1d90",
   "metadata": {},
   "outputs": [
    {
     "data": {
      "text/plain": [
       "229"
      ]
     },
     "execution_count": 24,
     "metadata": {},
     "output_type": "execute_result"
    }
   ],
   "source": [
    "f.write(\"I am writting in this file for second time but previous sentence will be erased bcoz #write function erases everything and write from the beginning. i.e. it truncates the file first means it deletes everything present in the file\")"
   ]
  },
  {
   "cell_type": "code",
   "execution_count": 26,
   "id": "99358af8-bbfc-4aaa-9bf5-62a15f75f5c7",
   "metadata": {},
   "outputs": [],
   "source": [
    "f.close()"
   ]
  },
  {
   "cell_type": "code",
   "execution_count": 27,
   "id": "3f874114-f884-417e-a88b-ce69067e21b0",
   "metadata": {},
   "outputs": [],
   "source": [
    "f = open(\"text.txt\", \"a\") #we have opened the file in append mode therefore it will not truncate the file and will append everything which we will write at the end of the file"
   ]
  },
  {
   "cell_type": "code",
   "execution_count": 28,
   "id": "91e92a29-b79d-4ffe-b959-f591e9f20722",
   "metadata": {},
   "outputs": [
    {
     "data": {
      "text/plain": [
       "87"
      ]
     },
     "execution_count": 28,
     "metadata": {},
     "output_type": "execute_result"
    }
   ],
   "source": [
    "f.write(\"Opening file in append mode helps us to append whatever we write at the end of the file\")"
   ]
  },
  {
   "cell_type": "code",
   "execution_count": 29,
   "id": "af0f8901-e0bc-4a68-b17b-3b053b96f0c0",
   "metadata": {},
   "outputs": [],
   "source": [
    "f.close()"
   ]
  },
  {
   "cell_type": "code",
   "execution_count": 30,
   "id": "5ffda6b4-96e9-4a77-9cf6-5a80e8a58e88",
   "metadata": {},
   "outputs": [],
   "source": [
    "data = open(\"text.txt\", 'r') # opening file in read mode"
   ]
  },
  {
   "cell_type": "code",
   "execution_count": 32,
   "id": "20c4683e-0f27-4ccc-8c4b-6f4eb9e15a1f",
   "metadata": {},
   "outputs": [
    {
     "data": {
      "text/plain": [
       "'I am writting in this file for second time but previous sentence will be erased bcoz #write function erases everything and write from the beginning. i.e. it truncates the file first means it deletes everything present in the fileOpening file in append mode helps us to append whatever we write at the end of the file'"
      ]
     },
     "execution_count": 32,
     "metadata": {},
     "output_type": "execute_result"
    }
   ],
   "source": [
    "data.read()"
   ]
  },
  {
   "cell_type": "code",
   "execution_count": 33,
   "id": "b42fb42e-da48-462d-818e-5c80340c229a",
   "metadata": {},
   "outputs": [
    {
     "data": {
      "text/plain": [
       "''"
      ]
     },
     "execution_count": 33,
     "metadata": {},
     "output_type": "execute_result"
    }
   ],
   "source": [
    "data.readline() # gives '' bcoz we have executed data.read() and now our pointer is at last. And upon callling data.readline() our pointer remains at last position and it will try to read line after it"
   ]
  },
  {
   "cell_type": "code",
   "execution_count": 34,
   "id": "8486c747-f121-4ec4-95d9-4f2f3b92b70f",
   "metadata": {},
   "outputs": [
    {
     "data": {
      "text/plain": [
       "0"
      ]
     },
     "execution_count": 34,
     "metadata": {},
     "output_type": "execute_result"
    }
   ],
   "source": [
    "data.seek(0) # take pointer to 0 position i.e. starting of the file"
   ]
  },
  {
   "cell_type": "code",
   "execution_count": 35,
   "id": "6f766ee4-b4b0-4648-9f33-cf56af9482ca",
   "metadata": {},
   "outputs": [
    {
     "data": {
      "text/plain": [
       "'I am writting in this file for second time but previous sentence will be erased bcoz #write function erases everything and write from the beginning. i.e. it truncates the file first means it deletes everything present in the fileOpening file in append mode helps us to append whatever we write at the end of the file'"
      ]
     },
     "execution_count": 35,
     "metadata": {},
     "output_type": "execute_result"
    }
   ],
   "source": [
    "data.readline()"
   ]
  },
  {
   "cell_type": "code",
   "execution_count": 36,
   "id": "cdde8e8c-2fed-47e5-b4c8-e02e75c9a9d5",
   "metadata": {},
   "outputs": [
    {
     "data": {
      "text/plain": [
       "316"
      ]
     },
     "execution_count": 36,
     "metadata": {},
     "output_type": "execute_result"
    }
   ],
   "source": [
    "# way to know size of the file\n",
    "import os\n",
    "\n",
    "os.path.getsize(\"text.txt\")"
   ]
  },
  {
   "cell_type": "code",
   "execution_count": 37,
   "id": "9d853c74-c704-42d6-b1a7-fe7b9b4e0b42",
   "metadata": {},
   "outputs": [],
   "source": [
    "# Delete a file\n",
    "import os\n",
    "\n",
    "os.remove(\"text.txt\")"
   ]
  },
  {
   "cell_type": "code",
   "execution_count": 41,
   "id": "4d0a2a7b-dd5d-428b-9428-fa9a9213b3a7",
   "metadata": {},
   "outputs": [],
   "source": [
    "new_file = open(\"new.txt\",'w')"
   ]
  },
  {
   "cell_type": "code",
   "execution_count": 43,
   "id": "70e95ee6-48d4-4e75-9b7c-2ff9e613886e",
   "metadata": {},
   "outputs": [
    {
     "data": {
      "text/plain": [
       "68"
      ]
     },
     "execution_count": 43,
     "metadata": {},
     "output_type": "execute_result"
    }
   ],
   "source": [
    "new_file.write(\"Created a new file named (new) and want to rename it using os module\")"
   ]
  },
  {
   "cell_type": "code",
   "execution_count": 44,
   "id": "593bfaf9-18d9-464a-93ad-6862aa307f22",
   "metadata": {},
   "outputs": [],
   "source": [
    "new_file.close()"
   ]
  },
  {
   "cell_type": "code",
   "execution_count": 45,
   "id": "52d2c795-03fd-4c2b-94dc-586291eefd5c",
   "metadata": {},
   "outputs": [],
   "source": [
    "# Renaming a file\n",
    "import os\n",
    "os.rename(\"new.txt\",\"renamed_new.txt\")"
   ]
  },
  {
   "cell_type": "code",
   "execution_count": 46,
   "id": "dffe4da7-1955-4779-be06-e1c08c0eb925",
   "metadata": {},
   "outputs": [
    {
     "data": {
      "text/plain": [
       "'copy_of_renamed_new.txt'"
      ]
     },
     "execution_count": 46,
     "metadata": {},
     "output_type": "execute_result"
    }
   ],
   "source": [
    "# To copy a file we use 'shutil' module. pronounced as s-h-util\n",
    "import shutil\n",
    "shutil.copy(\"renamed_new.txt\",\"copy_of_renamed_new.txt\")"
   ]
  },
  {
   "cell_type": "code",
   "execution_count": 47,
   "id": "d6c46aa9-c2bb-4d3b-86fc-ef83e80aa07a",
   "metadata": {},
   "outputs": [
    {
     "name": "stdout",
     "output_type": "stream",
     "text": [
      "Created a new file named (new) and want to rename it using os module\n"
     ]
    }
   ],
   "source": [
    "# Another way to open a file\n",
    "with open(\"renamed_new.txt\",'r') as f:\n",
    "    print(f.read())"
   ]
  },
  {
   "cell_type": "code",
   "execution_count": 48,
   "id": "d05f1361-e295-42a1-b911-4fd49e9c2385",
   "metadata": {},
   "outputs": [
    {
     "data": {
      "text/plain": [
       "'\\n89. Reading and Writting file\\n'"
      ]
     },
     "execution_count": 48,
     "metadata": {},
     "output_type": "execute_result"
    }
   ],
   "source": [
    "\"\"\"\n",
    "89. Reading and Writting file\n",
    "\"\"\""
   ]
  },
  {
   "cell_type": "code",
   "execution_count": 55,
   "id": "7c2ebd63-a634-46c6-bd79-3cf26df76660",
   "metadata": {},
   "outputs": [],
   "source": [
    "data = {\n",
    "    \"name\":\"Ayan\",\n",
    "    \"Mail_ID\": \"ayan@gmail.com\",\n",
    "    \"Course\": \"Data Science Master\",\n",
    "    \"Topics\" : [\"Python\", \"Machine learning\", \"NLP\"]\n",
    "}\n",
    "\n",
    "# This key value pair OR name/value pair type of data set is called \"json\" data"
   ]
  },
  {
   "cell_type": "code",
   "execution_count": 60,
   "id": "9fbf051a-ca2a-44ff-ac5d-e949f980f289",
   "metadata": {},
   "outputs": [],
   "source": [
    "# json type of data is written in file with the help of JSON Module \n",
    "import json\n",
    "with open(\"data.json\",'w') as file:\n",
    "    json.dump(data, file)"
   ]
  },
  {
   "cell_type": "code",
   "execution_count": 69,
   "id": "2cfe6656-2b80-4dd0-b3ef-93f0422b11fd",
   "metadata": {},
   "outputs": [],
   "source": [
    "# using json.load() to read a json data\n",
    "import json\n",
    "with open(\"data.json\",'r') as f:\n",
    "    data1 = json.load(f)"
   ]
  },
  {
   "cell_type": "code",
   "execution_count": 71,
   "id": "c39560f9-8703-44b2-b243-5895c786758e",
   "metadata": {},
   "outputs": [
    {
     "data": {
      "text/plain": [
       "{'name': 'Ayan',\n",
       " 'Mail_ID': 'ayan@gmail.com',\n",
       " 'Course': 'Data Science Master',\n",
       " 'Topics': ['Python', 'Machine learning', 'NLP']}"
      ]
     },
     "execution_count": 71,
     "metadata": {},
     "output_type": "execute_result"
    }
   ],
   "source": [
    "data1"
   ]
  },
  {
   "cell_type": "code",
   "execution_count": 73,
   "id": "599e118b-f9ab-4490-9b1b-ebf1396a3ae0",
   "metadata": {},
   "outputs": [
    {
     "data": {
      "text/plain": [
       "'\\nCSV is Comma Separated Value\\nNow we are creating a CSV file and for this we will use csv module\\n'"
      ]
     },
     "execution_count": 73,
     "metadata": {},
     "output_type": "execute_result"
    }
   ],
   "source": [
    "\"\"\"\n",
    "CSV is Comma Separated Value\n",
    "Now we are creating a CSV file and for this we will use csv module\n",
    "\"\"\""
   ]
  },
  {
   "cell_type": "code",
   "execution_count": 1,
   "id": "ab97f9fe-4479-4bdf-b00b-20690fc5d8a6",
   "metadata": {},
   "outputs": [],
   "source": [
    "import csv\n",
    "\n",
    "data = [[\"Name\", \"Mail_ID\", \"Age\"],\n",
    "        [\"Ayan\",\"ayan@gmail.com\",\"20\"],\n",
    "        [\"Sudh\",\"sudh@gmail.com\",'35']]\n",
    "# First element of list represents COLUMNS Name\n",
    "# In this data we will have 3 column named : Name, Mail_ID, Age"
   ]
  },
  {
   "cell_type": "code",
   "execution_count": 2,
   "id": "ad775c64-d2f1-4454-90c6-64e5d16fd549",
   "metadata": {},
   "outputs": [],
   "source": [
    "with open(\"csv_data.csv\", \"w\") as f:\n",
    "    writer = csv.writer(f)\n",
    "    \n",
    "    for i in data:\n",
    "        writer.writerow(i)"
   ]
  },
  {
   "cell_type": "code",
   "execution_count": 4,
   "id": "8bfa8166-f915-4f29-977c-2b377a86bcd3",
   "metadata": {},
   "outputs": [
    {
     "name": "stdout",
     "output_type": "stream",
     "text": [
      "['Name', 'Mail_ID', 'Age']\n",
      "['Ayan', 'ayan@gmail.com', '20']\n",
      "['Sudh', 'sudh@gmail.com', '35']\n"
     ]
    }
   ],
   "source": [
    "with open(\"csv_data.csv\",'r') as f:\n",
    "    read_data = csv.reader(f)\n",
    "    \n",
    "    for i in read_data:\n",
    "        print(i)"
   ]
  },
  {
   "cell_type": "code",
   "execution_count": null,
   "id": "08578e31-e798-4773-bbdc-1e598d1e9e28",
   "metadata": {},
   "outputs": [],
   "source": [
    "\"\"\"\n",
    "Binary data: type of data that is represented or displayed in the binary numeral system\n",
    "\n",
    "extension : '.bin'\n",
    "\n",
    "To write in file we use 'wb' instead of 'w'\n",
    "\n",
    "It is written in this format: b\"whatever we want to write is written here. syntax similar to f-string\"\n",
    "\"\"\""
   ]
  },
  {
   "cell_type": "code",
   "execution_count": 5,
   "id": "73fe9cbd-3683-4a31-9fe9-5052b6335fe9",
   "metadata": {},
   "outputs": [],
   "source": [
    "with open(\"test.bin\", \"wb\") as f:\n",
    "    f.write(b\"\\x02\\x01\")"
   ]
  },
  {
   "cell_type": "code",
   "execution_count": 8,
   "id": "a569ea16-4dda-468b-bf4c-f7ae0a85b230",
   "metadata": {},
   "outputs": [
    {
     "name": "stdout",
     "output_type": "stream",
     "text": [
      "b'\\x02\\x01'\n"
     ]
    }
   ],
   "source": [
    "with open(\"test.bin\", \"rb\") as f:\n",
    "    print(f.read())"
   ]
  },
  {
   "cell_type": "code",
   "execution_count": null,
   "id": "262b5ac1-9aab-49b4-a8b8-8bb8b0082d74",
   "metadata": {},
   "outputs": [],
   "source": [
    "\"\"\"\n",
    "Buffer Read and Write and Other File Methods\n",
    "\"\"\""
   ]
  },
  {
   "cell_type": "code",
   "execution_count": 12,
   "id": "1a1f3dca-c205-4415-ab5f-fd71829d8712",
   "metadata": {},
   "outputs": [],
   "source": [
    "import io # python io module allows us to manage the file-related input and output operations.\n",
    "\n",
    "with open(\"test.txt\", 'wb') as f:\n",
    "    file = io.BufferedWriter(f)\n",
    "    \n",
    "    file.write(b\"This is my first line\\n\")\n",
    "    file.write(b\"This is my second line\\n\")\n",
    "    # If we are using BufferdWriter method then we need to close the file with the \n",
    "    # help of '.flush' method\n",
    "    file.flush()"
   ]
  },
  {
   "cell_type": "code",
   "execution_count": 13,
   "id": "a5fd395d-85c0-49a8-9ba6-c78175572f6b",
   "metadata": {},
   "outputs": [
    {
     "name": "stdout",
     "output_type": "stream",
     "text": [
      "b'This is my'\n"
     ]
    }
   ],
   "source": [
    "with open (\"test.txt\", \"rb\") as f:\n",
    "    file = io.BufferedReader(f)\n",
    "    data = file.read(10) # will read upto 10 Bytes\n",
    "    print(data)"
   ]
  },
  {
   "cell_type": "code",
   "execution_count": null,
   "id": "7c9aa908-6bbf-4e72-a667-03877453338e",
   "metadata": {},
   "outputs": [],
   "source": [
    "\"\"\"\n",
    "LOGGING & DEBUGGER\n",
    "\n",
    "- Logging is a way to store information about your script and track events that occurs in your program\n",
    "- Without logging, finding the source of a problem in your code may be extremely time consuming.\n",
    "\n",
    "NOTE: In code we should replace print statement with logging module\n",
    "\"\"\""
   ]
  },
  {
   "cell_type": "code",
   "execution_count": null,
   "id": "8aee9316-8d94-433d-9f98-1de2870c50ed",
   "metadata": {},
   "outputs": [],
   "source": [
    "# Logging module mein file create hota hai & sb information ussi mein store hota hai"
   ]
  },
  {
   "cell_type": "code",
   "execution_count": 30,
   "id": "004542da-eab3-4350-a4d4-57d30e0bf553",
   "metadata": {},
   "outputs": [],
   "source": [
    "import logging"
   ]
  },
  {
   "cell_type": "code",
   "execution_count": 31,
   "id": "c23c9766-73c5-49b8-8e6b-b09f43c01c34",
   "metadata": {},
   "outputs": [],
   "source": [
    "logging.basicConfig(filename = \"test.log\", level = logging.INFO)"
   ]
  },
  {
   "cell_type": "code",
   "execution_count": 32,
   "id": "f5d62dc0-e856-4ed7-919e-1ff4004dffb7",
   "metadata": {},
   "outputs": [],
   "source": [
    "logging.info(\"log this line to execution\")"
   ]
  },
  {
   "cell_type": "code",
   "execution_count": null,
   "id": "71966510-4d3d-4c98-b161-0f73defb2e94",
   "metadata": {},
   "outputs": [],
   "source": [
    "\"\"\"\n",
    "Different level in logging:\n",
    "1. NOTSET\n",
    "2. DEBUG\n",
    "3. INFO\n",
    "4. WARNING\n",
    "5. ERROR\n",
    "6. CRITICAL \n",
    "\n",
    "NOTE: if we are setting level as logging.INFO in logging.basicConfig \n",
    "      then we can use level present below it also i.e. WARNING, ERROR, CRITICAL also \n",
    "      without needing to set their level but we cannot use NOTSET, DEBUG\n",
    "      \n",
    "      if we are setting level as DEBUG then we can use level from INFO Onwards.\n",
    "      i.e. INFO, WARNING, ERROR, CRITICAL\n",
    "\"\"\""
   ]
  },
  {
   "cell_type": "code",
   "execution_count": 33,
   "id": "efedc05c-4239-4af8-b35c-796ddfdefb33",
   "metadata": {},
   "outputs": [],
   "source": [
    "logging.warning(\"This is my warning message\")"
   ]
  },
  {
   "cell_type": "code",
   "execution_count": 34,
   "id": "7c93fde3-86d9-4b01-b15a-233450a1dc71",
   "metadata": {},
   "outputs": [],
   "source": [
    "logging.error(\"This is my error message\")"
   ]
  },
  {
   "cell_type": "code",
   "execution_count": 35,
   "id": "c9b704bc-596a-4128-81b5-861aa10b91cd",
   "metadata": {},
   "outputs": [],
   "source": [
    "logging.critical(\"This is my critical message\")"
   ]
  },
  {
   "cell_type": "code",
   "execution_count": 36,
   "id": "5e0f0da3-1663-4027-a217-c56034be67a8",
   "metadata": {},
   "outputs": [
    {
     "ename": "AttributeError",
     "evalue": "module 'logging' has no attribute 'notset'",
     "output_type": "error",
     "traceback": [
      "\u001b[0;31m---------------------------------------------------------------------------\u001b[0m",
      "\u001b[0;31mAttributeError\u001b[0m                            Traceback (most recent call last)",
      "Cell \u001b[0;32mIn[36], line 1\u001b[0m\n\u001b[0;32m----> 1\u001b[0m \u001b[43mlogging\u001b[49m\u001b[38;5;241;43m.\u001b[39;49m\u001b[43mnotset\u001b[49m(\u001b[38;5;124m\"\u001b[39m\u001b[38;5;124mThis will not show in our logging file\u001b[39m\u001b[38;5;124m\"\u001b[39m) \u001b[38;5;66;03m# This will not show in out logging file\u001b[39;00m\n",
      "\u001b[0;31mAttributeError\u001b[0m: module 'logging' has no attribute 'notset'"
     ]
    }
   ],
   "source": [
    "logging.notset(\"This will not show in our logging file\") # This will not show in out logging file"
   ]
  },
  {
   "cell_type": "code",
   "execution_count": 9,
   "id": "4737adf5-9873-41a6-9b8c-172640ba4c0e",
   "metadata": {},
   "outputs": [],
   "source": [
    "logging.debug(\"Anything here will not show in our logging file because level is INFO\") # This will not show in our logging file"
   ]
  },
  {
   "cell_type": "code",
   "execution_count": 38,
   "id": "5fc44666-8b98-4298-8830-b9b9eb6f36da",
   "metadata": {},
   "outputs": [],
   "source": [
    "logging.shutdown() # Way to close logging module"
   ]
  },
  {
   "cell_type": "code",
   "execution_count": 1,
   "id": "3913b431-95e5-4824-849f-66fc71cb2586",
   "metadata": {},
   "outputs": [],
   "source": [
    "import logging\n",
    "logging.basicConfig(filename = \"test_01.log\", level = logging.DEBUG, format = '%(asctime)s %(name)s %(levelname)s %(message)s')\n",
    "\n",
    "# %(asctime)s is used to store time when program is executed ans 's' represent that it is stored in string format\n",
    "# %(levelname)s is used to store level name\n",
    "# %(message)s is used to store message\n",
    "\n",
    "logging.debug(\"This is my debug message\")\n",
    "logging.info(\"This is my info message\")\n",
    "logging.warning(\"This is my warning message\")\n",
    "logging.error(\"This is my error message\")\n",
    "logging.critical(\"This is my critical message\")\n",
    "\n",
    "logging.shutdown()"
   ]
  },
  {
   "cell_type": "code",
   "execution_count": 1,
   "id": "9c9ddb67-0e08-4643-acd6-eb7984c1956f",
   "metadata": {},
   "outputs": [
    {
     "name": "stdout",
     "output_type": "stream",
     "text": [
      "[1, 2, 'ayan', 6, 3, 'khan']\n"
     ]
    }
   ],
   "source": [
    "# Practical application of logging module\n",
    "# Program to separately store integer and string present in one list into 2 different list\n",
    "import logging\n",
    "logging.basicConfig(filename = \"list_separation.log\", level = logging.DEBUG, format = '%(asctime)s %(message)s')\n",
    "\n",
    "\n",
    "l = [1,2,'ayan',6,3,'khan']\n",
    "\n",
    "l_int = []\n",
    "l_str = []\n",
    "for i in l:\n",
    "    logging.info(\"Inside for loop to check different conditions and separate elements of list\")\n",
    "    if type(i) == int:\n",
    "        l_int.append(i)\n",
    "        logging.info(f\"Successfully appended integer {i} into list named l_int\")\n",
    "    else:\n",
    "        l_str.append(i)\n",
    "        logging.info(f\"Successfully appended string {i} into list named l_str\")\n",
    "        \n",
    "logging.info(\"Our final list is {l1} and {l2}\".format(l1 = l_int, l2 = l_str))\n"
   ]
  },
  {
   "cell_type": "code",
   "execution_count": null,
   "id": "68148b18-8c28-47f4-9810-e3b95cae0c8a",
   "metadata": {},
   "outputs": [],
   "source": []
  },
  {
   "cell_type": "code",
   "execution_count": null,
   "id": "f3c27dc7-5a5b-4f09-bdbf-c4ff8a5fb071",
   "metadata": {},
   "outputs": [],
   "source": []
  }
 ],
 "metadata": {
  "kernelspec": {
   "display_name": "Python 3 (ipykernel)",
   "language": "python",
   "name": "python3"
  },
  "language_info": {
   "codemirror_mode": {
    "name": "ipython",
    "version": 3
   },
   "file_extension": ".py",
   "mimetype": "text/x-python",
   "name": "python",
   "nbconvert_exporter": "python",
   "pygments_lexer": "ipython3",
   "version": "3.10.8"
  }
 },
 "nbformat": 4,
 "nbformat_minor": 5
}
