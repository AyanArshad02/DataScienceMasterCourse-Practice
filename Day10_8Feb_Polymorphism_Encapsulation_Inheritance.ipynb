{
 "cells": [
  {
   "cell_type": "code",
   "execution_count": 1,
   "id": "45d98c39-38fb-4099-a156-e7171147d67f",
   "metadata": {},
   "outputs": [],
   "source": [
    "\"\"\"\n",
    "Polymorphism: use of same function name but with different signatures, for multiple types\n",
    "\n",
    "in layman terms: one thing but with different behaviour at different places\n",
    "\"\"\"\n",
    "def test(a,b):\n",
    "    return a+b\n",
    "# this function can be used to add 2 numbers or concatenate 2 strings or list"
   ]
  },
  {
   "cell_type": "code",
   "execution_count": 2,
   "id": "fd793a37-e469-4482-a251-63d3f9e9c431",
   "metadata": {},
   "outputs": [
    {
     "data": {
      "text/plain": [
       "4"
      ]
     },
     "execution_count": 2,
     "metadata": {},
     "output_type": "execute_result"
    }
   ],
   "source": [
    "test(2,2)"
   ]
  },
  {
   "cell_type": "code",
   "execution_count": 3,
   "id": "905797bb-c50b-4cf0-895e-70bfeb8b573a",
   "metadata": {},
   "outputs": [
    {
     "data": {
      "text/plain": [
       "'Ayan Khan'"
      ]
     },
     "execution_count": 3,
     "metadata": {},
     "output_type": "execute_result"
    }
   ],
   "source": [
    "test(\"Ayan \",\"Khan\")"
   ]
  },
  {
   "cell_type": "code",
   "execution_count": 4,
   "id": "d93951b2-f363-46d3-844c-31387cc270ca",
   "metadata": {},
   "outputs": [
    {
     "data": {
      "text/plain": [
       "[1, 2, 3, 4, 5, 6, 7, 8, 9]"
      ]
     },
     "execution_count": 4,
     "metadata": {},
     "output_type": "execute_result"
    }
   ],
   "source": [
    "test([1,2,3,4,5],[6,7,8,9])"
   ]
  },
  {
   "cell_type": "code",
   "execution_count": 5,
   "id": "2ba24afa-71fb-4843-8b99-083bdaf80e01",
   "metadata": {},
   "outputs": [
    {
     "name": "stdout",
     "output_type": "stream",
     "text": [
      "This is the syllabus for data science course\n",
      "This is the syllabus for web-dev course\n"
     ]
    }
   ],
   "source": [
    "class data_science:\n",
    "    \n",
    "    def syllabus(self):\n",
    "        print(\"This is the syllabus for data science course\")\n",
    "        \n",
    "class web_dev:\n",
    "    \n",
    "    def syllabus(self):\n",
    "        print(\"This is the syllabus for web-dev course\")\n",
    "        \n",
    "def class_parcer(class_obj):\n",
    "    for i in class_obj:\n",
    "        i.syllabus()\n",
    "\n",
    "data_science = data_science() # creating object for class data_science\n",
    "web_dev = web_dev() # creating object for class web_dev\n",
    "class_obj = [data_science, web_dev] # storing both object into a list called class_obj\n",
    "class_parcer(class_obj)"
   ]
  },
  {
   "cell_type": "code",
   "execution_count": null,
   "id": "1a6e5696-aba4-4d68-8eb9-cc54cdedb688",
   "metadata": {},
   "outputs": [],
   "source": [
    "\"\"\"\n",
    "Encapsulation:\n",
    "\"\"\""
   ]
  },
  {
   "cell_type": "code",
   "execution_count": 2,
   "id": "2e45939e-3a1c-4cfc-94c9-e9d09b046003",
   "metadata": {},
   "outputs": [
    {
     "name": "stdout",
     "output_type": "stream",
     "text": [
      "45\n"
     ]
    }
   ],
   "source": [
    "class test:\n",
    "    def __init__(self, a, b):\n",
    "        self.a = a\n",
    "        self.b = b\n",
    "\n",
    "t = test(2,3) # therefore a=2 and b=3\n",
    "t.a = 45   # now anyone can change value of t.a therefore we need encapsulation to prevent anoyne form \n",
    "print(t.a)"
   ]
  },
  {
   "cell_type": "code",
   "execution_count": 1,
   "id": "6243950b-70cc-4fd8-a3d7-3ccc4a2758e6",
   "metadata": {},
   "outputs": [],
   "source": [
    "class car:\n",
    "    def __init__(self, year, make , model, speed):\n",
    "        self.__year = year # self.__ will hide the variable from user\n",
    "        self.__make = make\n",
    "        self.__model = model\n",
    "        self.__speed = speed\n",
    "        \n",
    "\n",
    "    def set_speed(self, speed):\n",
    "        self.__speed = 0 if speed < 0 else speed\n",
    "        \n",
    "    def get_speed(self):\n",
    "        return self.__speed\n",
    "    \n",
    "c = car(2023, \"Mercedes\", \"SUV\", 100)"
   ]
  },
  {
   "cell_type": "code",
   "execution_count": 2,
   "id": "f664803a-fc86-4360-99ee-aacc0541267e",
   "metadata": {},
   "outputs": [],
   "source": [
    "c.set_speed(200)"
   ]
  },
  {
   "cell_type": "code",
   "execution_count": 4,
   "id": "babcd84f-20eb-456b-acd3-be99f3a81b83",
   "metadata": {},
   "outputs": [
    {
     "data": {
      "text/plain": [
       "200"
      ]
     },
     "execution_count": 4,
     "metadata": {},
     "output_type": "execute_result"
    }
   ],
   "source": [
    "c.get_speed()"
   ]
  },
  {
   "cell_type": "code",
   "execution_count": 36,
   "id": "ae53b794-7523-467b-8cde-b9834dd33180",
   "metadata": {},
   "outputs": [],
   "source": [
    "class bank_account:\n",
    "    def __init__(self, balance):\n",
    "        self.__balance = balance\n",
    "    def deposit(self, amount):\n",
    "        self.__balance = self.__balance + amount\n",
    "    def withdraw(self, amount):\n",
    "        if self.__balance >= amount:\n",
    "            print(\"Your Transaction is processing\")\n",
    "        else:\n",
    "            print(\"Insufficient Balance\")\n",
    "            \n",
    "    def get_balance(self):\n",
    "        return self.__balance\n",
    "        \n",
    "# b = bank_account()"
   ]
  },
  {
   "cell_type": "code",
   "execution_count": 37,
   "id": "6f1de410-9c2a-43f3-abb9-e34442119af4",
   "metadata": {},
   "outputs": [],
   "source": [
    "ayan = bank_account(10000)"
   ]
  },
  {
   "cell_type": "code",
   "execution_count": 38,
   "id": "8fd37fdd-cd3e-47d6-874a-6dddd095ab5f",
   "metadata": {},
   "outputs": [
    {
     "name": "stdout",
     "output_type": "stream",
     "text": [
      "Your Transaction is processing\n"
     ]
    }
   ],
   "source": [
    "ayan.withdraw(1000)"
   ]
  },
  {
   "cell_type": "code",
   "execution_count": 39,
   "id": "2d4fc015-4285-40b1-a598-e607aca34b43",
   "metadata": {},
   "outputs": [
    {
     "name": "stdout",
     "output_type": "stream",
     "text": [
      "Insufficient Balance\n"
     ]
    }
   ],
   "source": [
    "ayan.withdraw(15000)"
   ]
  },
  {
   "cell_type": "code",
   "execution_count": 40,
   "id": "35d321c0-52e1-4aac-8066-9ea935cdaf4f",
   "metadata": {},
   "outputs": [],
   "source": [
    "ayan.deposit(10000)"
   ]
  },
  {
   "cell_type": "code",
   "execution_count": 41,
   "id": "0bcc55d9-060d-408e-a393-110cfc2e383d",
   "metadata": {},
   "outputs": [
    {
     "data": {
      "text/plain": [
       "20000"
      ]
     },
     "execution_count": 41,
     "metadata": {},
     "output_type": "execute_result"
    }
   ],
   "source": [
    "ayan.get_balance()"
   ]
  },
  {
   "cell_type": "code",
   "execution_count": null,
   "id": "c6468749-e52f-433d-92b2-51f7a53c2063",
   "metadata": {},
   "outputs": [],
   "source": [
    "\"\"\"\n",
    "Inheritance: \n",
    "\"\"\""
   ]
  },
  {
   "cell_type": "code",
   "execution_count": 1,
   "id": "33a940f1-a8fc-46e5-bdf8-c5007a0ad6c3",
   "metadata": {},
   "outputs": [],
   "source": [
    "class test:\n",
    "\n",
    "    def test_method(self):\n",
    "        return \"This is my first class\""
   ]
  },
  {
   "cell_type": "code",
   "execution_count": 2,
   "id": "0ffe1a9c-05a9-4bb4-be2a-5057bfde7882",
   "metadata": {},
   "outputs": [],
   "source": [
    "class child_test(test): #In this class we are passing class test as an argument therefor it will inherit the properties of class test\n",
    "    pass"
   ]
  },
  {
   "cell_type": "code",
   "execution_count": 10,
   "id": "05f2bd76-7e38-44e8-ae28-086e067fb3af",
   "metadata": {},
   "outputs": [],
   "source": [
    "child_test_object = child_test()"
   ]
  },
  {
   "cell_type": "code",
   "execution_count": 11,
   "id": "060db48c-f54b-431d-825f-7dcc040d17c1",
   "metadata": {},
   "outputs": [
    {
     "data": {
      "text/plain": [
       "'This is my first class'"
      ]
     },
     "execution_count": 11,
     "metadata": {},
     "output_type": "execute_result"
    }
   ],
   "source": [
    "child_test_object.test_method()"
   ]
  },
  {
   "cell_type": "code",
   "execution_count": null,
   "id": "611f1a83-f1d3-4777-9442-cc89a6b09ebc",
   "metadata": {},
   "outputs": [],
   "source": [
    "\"MULTI-LEVEL INHERITANCE\""
   ]
  },
  {
   "cell_type": "code",
   "execution_count": 12,
   "id": "db68af11-7d27-4533-ab03-b1f2ba859a22",
   "metadata": {},
   "outputs": [],
   "source": [
    "class class1:\n",
    "    def class1_method(self):\n",
    "        return \"This is class1 method\""
   ]
  },
  {
   "cell_type": "code",
   "execution_count": 13,
   "id": "df419b9d-db6d-4aba-84ad-87012e9f3850",
   "metadata": {},
   "outputs": [],
   "source": [
    "class class2(class1):\n",
    "    def class2_method(self):\n",
    "        return \"This is class2 method\""
   ]
  },
  {
   "cell_type": "code",
   "execution_count": 14,
   "id": "bc94eb0f-6617-47a2-b599-7104568efea9",
   "metadata": {},
   "outputs": [],
   "source": [
    "class class3(class2):\n",
    "    pass"
   ]
  },
  {
   "cell_type": "code",
   "execution_count": 15,
   "id": "5d15f072-3c25-400d-afdf-75ab02f1e034",
   "metadata": {},
   "outputs": [],
   "source": [
    "class3_object = class3()"
   ]
  },
  {
   "cell_type": "code",
   "execution_count": 17,
   "id": "0adee695-42dd-4cc4-828d-692eb71d77c4",
   "metadata": {},
   "outputs": [
    {
     "data": {
      "text/plain": [
       "'This is class1 method'"
      ]
     },
     "execution_count": 17,
     "metadata": {},
     "output_type": "execute_result"
    }
   ],
   "source": [
    "class3_object.class1_method()"
   ]
  },
  {
   "cell_type": "code",
   "execution_count": 18,
   "id": "a05e740f-cc03-48dd-b901-835b3cfeaadb",
   "metadata": {},
   "outputs": [
    {
     "data": {
      "text/plain": [
       "'This is class2 method'"
      ]
     },
     "execution_count": 18,
     "metadata": {},
     "output_type": "execute_result"
    }
   ],
   "source": [
    "class3_object.class2_method()"
   ]
  },
  {
   "cell_type": "code",
   "execution_count": null,
   "id": "49dd05c2-6054-4adf-b644-b05ea06143a3",
   "metadata": {},
   "outputs": [],
   "source": [
    "\"MULTIPLE INHERITANCE\""
   ]
  },
  {
   "cell_type": "code",
   "execution_count": 19,
   "id": "9ab625e0-b305-493f-9a3d-d9a6d3fe472b",
   "metadata": {},
   "outputs": [],
   "source": [
    "class father:\n",
    "    def father_method(self):\n",
    "        return \"This method is for class father\""
   ]
  },
  {
   "cell_type": "code",
   "execution_count": 20,
   "id": "d82e84b7-a97c-4c1f-87b1-8fcbc6b06692",
   "metadata": {},
   "outputs": [],
   "source": [
    "class mother:\n",
    "    def mother_method(self):\n",
    "        return \"This method is for class mother\""
   ]
  },
  {
   "cell_type": "code",
   "execution_count": 21,
   "id": "08110b79-8300-4d35-8610-772c98284690",
   "metadata": {},
   "outputs": [],
   "source": [
    "class child(father,mother):\n",
    "    pass"
   ]
  },
  {
   "cell_type": "code",
   "execution_count": 22,
   "id": "9c33164a-6696-4afe-acde-4756742c1756",
   "metadata": {},
   "outputs": [],
   "source": [
    "child_object = child()"
   ]
  },
  {
   "cell_type": "code",
   "execution_count": 23,
   "id": "572eadb5-c21e-4d27-90af-ed1503d838e8",
   "metadata": {},
   "outputs": [
    {
     "data": {
      "text/plain": [
       "'This method is for class father'"
      ]
     },
     "execution_count": 23,
     "metadata": {},
     "output_type": "execute_result"
    }
   ],
   "source": [
    "child_object.father_method()"
   ]
  },
  {
   "cell_type": "code",
   "execution_count": 24,
   "id": "6287daff-b211-4169-bfb8-0715497b38ad",
   "metadata": {},
   "outputs": [
    {
     "data": {
      "text/plain": [
       "'This method is for class mother'"
      ]
     },
     "execution_count": 24,
     "metadata": {},
     "output_type": "execute_result"
    }
   ],
   "source": [
    "child_object.mother_method()"
   ]
  },
  {
   "cell_type": "code",
   "execution_count": null,
   "id": "b120ebbe-e947-405d-addd-3d5ebbc7bc3a",
   "metadata": {},
   "outputs": [],
   "source": []
  }
 ],
 "metadata": {
  "kernelspec": {
   "display_name": "Python 3 (ipykernel)",
   "language": "python",
   "name": "python3"
  },
  "language_info": {
   "codemirror_mode": {
    "name": "ipython",
    "version": 3
   },
   "file_extension": ".py",
   "mimetype": "text/x-python",
   "name": "python",
   "nbconvert_exporter": "python",
   "pygments_lexer": "ipython3",
   "version": "3.10.8"
  }
 },
 "nbformat": 4,
 "nbformat_minor": 5
}
