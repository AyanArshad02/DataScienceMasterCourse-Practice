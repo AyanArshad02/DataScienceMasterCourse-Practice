{
 "cells": [
  {
   "cell_type": "code",
   "execution_count": null,
   "id": "118c22b7-d944-4853-9949-c4a8e17089d0",
   "metadata": {},
   "outputs": [],
   "source": [
    "\"\"\"\n",
    "Q1. What is multithreading in python? Why is it used? Name the module used to handle threads in python\n",
    "\"\"\"\n",
    "# Multithreading in python is a technique which allows us to run multiple threads concurrently within a single processor\n",
    "# module name: threading"
   ]
  },
  {
   "cell_type": "code",
   "execution_count": null,
   "id": "d0b3fb6f-ed5e-4e1e-a671-d2634e999ab7",
   "metadata": {},
   "outputs": [],
   "source": [
    "\"\"\"\n",
    "Q2. Why threading module used? write the use of the following functions\n",
    "    a. activeCount\n",
    "    b. currentThread\n",
    "    c. enumerate\n",
    "\"\"\"\n",
    "# threading helps us to run different parts of our program parallely and speeds up our program\n",
    "# a. activeCount: threading.activeCount() returns the number of 'thread' object that are active at any instant\n",
    "# b. currentThread: threading.currentThread() returns the current thread object\n",
    "# c. enumerate: returns the list of all thread object that are currenlty active "
   ]
  },
  {
   "cell_type": "code",
   "execution_count": null,
   "id": "5dbca696-bc2b-44bf-bc49-20ec91bfb524",
   "metadata": {},
   "outputs": [],
   "source": [
    "\"\"\"\n",
    "Q3. Explain the following functions\n",
    "    a. run\n",
    "    b. start\n",
    "    c. join\n",
    "    d. isAlive\n",
    "\"\"\"\n",
    "# a. run: run() method executes any target function belonging to a given thread object that is now active\n",
    "# b. start: used to start a Thread activity\n",
    "# c. join: join() method allows one thread to wait for a second thread to complete\n",
    "# d. isAlive: checks whether the thread is still executing or not"
   ]
  },
  {
   "cell_type": "code",
   "execution_count": 11,
   "id": "f88c3cec-177d-47ed-9096-7d09ef46dcd7",
   "metadata": {},
   "outputs": [
    {
     "name": "stdout",
     "output_type": "stream",
     "text": [
      "[1, 4, 9, 16, 25, 36, 49, 64, 81, 100]\n",
      "[1, 8, 27, 64, 125, 216, 343, 512, 729, 1000]\n"
     ]
    }
   ],
   "source": [
    "\"\"\"\n",
    "Q4. Write a python program to create two threads. Thread one must print the list of squares and thread\n",
    "two must print the list of cubes.\n",
    "\"\"\"\n",
    "import threading\n",
    "\n",
    "l1,l2 = [],[]\n",
    "def sq(n):\n",
    "    square = int(n)**2\n",
    "    l1.append(square)\n",
    "    \n",
    "thread1 = [threading.Thread(target = sq, args = [i]) for i in range(1,11)]\n",
    "for t in thread1:\n",
    "    t.start()\n",
    "print(l1)\n",
    "\n",
    "def cube(n):\n",
    "    cube = n**3\n",
    "    l2.append(cube)\n",
    "\n",
    "thread2 = [threading.Thread(target= cube, args = [i]) for i in range(1,11)]\n",
    "for t in thread2:\n",
    "    t.start()\n",
    "print(l2)\n",
    "\n",
    "for a,b in thread1,thread2:\n",
    "    a.start()\n",
    "    b.start()"
   ]
  },
  {
   "cell_type": "code",
   "execution_count": null,
   "id": "25306325-ad6c-47c8-8625-0a53219a60c9",
   "metadata": {},
   "outputs": [],
   "source": [
    "\"\"\"\n",
    "Q5. State advantages and disadvantages of multithreading\n",
    "\"\"\"\n",
    "# ADVANTAGES OF MULTITHREADING\n",
    "# Python multithreading enables efficient utilization of the resources as the threads share the data space and memory.\n",
    "# Multithreading in Python allows the concurrent and parallel occurrence of various tasks.\n",
    "# It causes a reduction in time consumption or response time, thereby increasing the performance.\n",
    "\n",
    "# DISADVANTAGES OF MULTITHREADING\n",
    "# difficulty in debugging, managing concurrency and writting code"
   ]
  },
  {
   "cell_type": "code",
   "execution_count": null,
   "id": "f787a0fb-1fc2-445c-9be7-ae994748d7e6",
   "metadata": {},
   "outputs": [],
   "source": [
    "\"\"\"\n",
    "Q6. Explain deadlocks and race conditions.\n",
    "\"\"\"\n"
   ]
  }
 ],
 "metadata": {
  "kernelspec": {
   "display_name": "Python 3 (ipykernel)",
   "language": "python",
   "name": "python3"
  },
  "language_info": {
   "codemirror_mode": {
    "name": "ipython",
    "version": 3
   },
   "file_extension": ".py",
   "mimetype": "text/x-python",
   "name": "python",
   "nbconvert_exporter": "python",
   "pygments_lexer": "ipython3",
   "version": "3.10.8"
  }
 },
 "nbformat": 4,
 "nbformat_minor": 5
}
