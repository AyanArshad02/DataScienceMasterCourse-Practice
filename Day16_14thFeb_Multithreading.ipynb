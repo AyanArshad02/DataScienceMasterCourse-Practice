{
 "cells": [
  {
   "cell_type": "code",
   "execution_count": null,
   "id": "80fc4879-681e-40de-ab94-2b2150c658aa",
   "metadata": {},
   "outputs": [],
   "source": [
    "\"\"\"\n",
    "Multithreading is a technique in programming that allows multiple threads of execution\n",
    "to run concurrently within a single processor. In Python we can use threading module to \n",
    "implement multithreading.\n",
    "\"\"\""
   ]
  },
  {
   "cell_type": "code",
   "execution_count": 5,
   "id": "406b98b5-6ffa-4831-bf80-5614107a22b0",
   "metadata": {},
   "outputs": [
    {
     "name": "stdout",
     "output_type": "stream",
     "text": [
      "Sleeping for 4 seconds\n",
      "Sleeping for 3 seconds\n",
      "Sleeping for 2 seconds\n",
      "Total time taken for this program to execute is 9.009830143302679\n"
     ]
    }
   ],
   "source": [
    "# program without threading module\n",
    "# it will execute line by line\n",
    "# will move to the next line only when current line execution is completed\n",
    "import time\n",
    "\n",
    "def func(seconds):\n",
    "    print(f\"Sleeping for {seconds} seconds\")\n",
    "    time.sleep(seconds)\n",
    "\n",
    "start_time = time.perf_counter()\n",
    "func(4)\n",
    "func(3)\n",
    "func(2)\n",
    "end_time = time.perf_counter()\n",
    "print(f\"Total time taken for this program to execute is {end_time-start_time}\")"
   ]
  },
  {
   "cell_type": "code",
   "execution_count": 10,
   "id": "a28435dc-6e4f-4a18-9e4b-e58f9ff04cc6",
   "metadata": {},
   "outputs": [
    {
     "name": "stdout",
     "output_type": "stream",
     "text": [
      "Sleeping for 4 seconds\n",
      "Sleeping for 3 seconds\n",
      "Sleeping for 2 seconds\n",
      "Total time taken for this program to execute is 0.0022134073078632355\n"
     ]
    }
   ],
   "source": [
    "# By using thread it will take less time\n",
    "# threads can be used to perform complicated tasks in the background without interrupting the main program.\n",
    "import threading\n",
    "\n",
    "def func(seconds):\n",
    "    print(f\"Sleeping for {seconds} seconds\")\n",
    "    time.sleep(seconds)\n",
    "    \n",
    "start_time = time.perf_counter()\n",
    "t1 = threading.Thread(target = func, args = [4])\n",
    "t2 = threading.Thread(target = func, args = [3])\n",
    "t3 = threading.Thread(target = func, args = [2])\n",
    "\n",
    "t1.start()\n",
    "t2.start()\n",
    "t3.start()\n",
    "\n",
    "end_time = time.perf_counter()\n",
    "print(f\"Total time taken for this program to execute is {end_time-start_time}\")\n"
   ]
  },
  {
   "cell_type": "code",
   "execution_count": 11,
   "id": "d5b3afab-651c-44b8-991d-331cd183bcdb",
   "metadata": {},
   "outputs": [
    {
     "name": "stdout",
     "output_type": "stream",
     "text": [
      "Program start 1\n",
      "Program start 2\n",
      "Program start 3\n",
      "Program start 4\n",
      "Program start 5\n",
      "Program start 6\n",
      "Program start 7\n",
      "Program start 8\n",
      "Program start 9\n",
      "Program start 10\n"
     ]
    }
   ],
   "source": [
    "import threading\n",
    "\n",
    "def test(a):\n",
    "    print(f\"Program start {a}\")\n",
    "    \n",
    "thread = [threading.Thread(target = test, args = [i]) for i in range(1,11)]\n",
    "\n",
    "for t in thread:\n",
    "    t.start()"
   ]
  },
  {
   "cell_type": "code",
   "execution_count": 12,
   "id": "db93bb79-8c80-47b6-a4c3-7f6bced6942f",
   "metadata": {},
   "outputs": [],
   "source": [
    "# Trying to\n",
    "import threading\n",
    "import urllib.request # urllib.request module helps us in opening url\n",
    "\n",
    "def file_download(url , filename):\n",
    "    urllib.request.urlretrieve(url, filename)"
   ]
  },
  {
   "cell_type": "code",
   "execution_count": 14,
   "id": "e9291b81-0f0f-433f-a252-59080fc3880b",
   "metadata": {},
   "outputs": [],
   "source": [
    "# this will download file from given url \n",
    "file_download('https://raw.githubusercontent.com/itsfoss/text-files/master/agatha.txt',\"file1.txt\")"
   ]
  },
  {
   "cell_type": "code",
   "execution_count": 20,
   "id": "af22cd7e-482f-44ed-82d5-789bd00dba05",
   "metadata": {},
   "outputs": [],
   "source": [
    "# NOW USING THREAD TO DOWNLOAD FILE FROM GIVEN URL\n",
    "\n",
    "url_list = ['https://raw.githubusercontent.com/itsfoss/text-files/master/agatha.txt',\n",
    "           'https://raw.githubusercontent.com/itsfoss/text-files/master/sherlock.txt',\n",
    "           'https://raw.githubusercontent.com/itsfoss/text-files/master/sample_log_file.txt']\n",
    "file_name = [\"file1.txt\",'file2.txt','file3.txt']\n",
    "\n",
    "thread = [threading.Thread(target = file_download, args = [url_list[i],file_name[i]]) for i in range(len(url_list))]\n",
    "for t in thread:\n",
    "    t.start()"
   ]
  },
  {
   "cell_type": "code",
   "execution_count": 21,
   "id": "12d7c802-635b-41fa-b3b1-d2277c4ab2b6",
   "metadata": {},
   "outputs": [
    {
     "data": {
      "text/plain": [
       "[<Thread(Thread-29 (file_download), stopped 140497997768256)>,\n",
       " <Thread(Thread-30 (file_download), stopped 140498006160960)>,\n",
       " <Thread(Thread-31 (file_download), stopped 140497989375552)>]"
      ]
     },
     "execution_count": 21,
     "metadata": {},
     "output_type": "execute_result"
    }
   ],
   "source": [
    "thread # creating 2 thread for file_download function"
   ]
  },
  {
   "cell_type": "code",
   "execution_count": null,
   "id": "02084320-e25f-4a4c-a6e6-1dc8a6230d14",
   "metadata": {},
   "outputs": [],
   "source": []
  },
  {
   "cell_type": "code",
   "execution_count": null,
   "id": "ebacfe24-1a16-4585-bf28-50438807bac8",
   "metadata": {},
   "outputs": [],
   "source": []
  }
 ],
 "metadata": {
  "kernelspec": {
   "display_name": "Python 3 (ipykernel)",
   "language": "python",
   "name": "python3"
  },
  "language_info": {
   "codemirror_mode": {
    "name": "ipython",
    "version": 3
   },
   "file_extension": ".py",
   "mimetype": "text/x-python",
   "name": "python",
   "nbconvert_exporter": "python",
   "pygments_lexer": "ipython3",
   "version": "3.10.8"
  }
 },
 "nbformat": 4,
 "nbformat_minor": 5
}
